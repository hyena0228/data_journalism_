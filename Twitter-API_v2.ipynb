{
 "cells": [
  {
   "cell_type": "markdown",
   "metadata": {
    "id": "XXCGrq_y-Gjf",
    "pycharm": {
     "name": "#%% md\n"
    }
   },
   "source": [
    "# Week 10 - Advanced Data Crawling"
   ]
  },
  {
   "cell_type": "markdown",
   "metadata": {
    "id": "Ns-JgJlU-Gjg",
    "pycharm": {
     "name": "#%% md\n"
    }
   },
   "source": [
    "## 1.Twitter 데이터 수집하기\n",
    "\n",
    "트위터는 데이터를 수집할 수 있는 API를 제공한다. API는 크게 다음과 같은 두가지로 제공된다.\n",
    "* REST API - 주어진 query에 맞는 데이터를 제공한다.\n",
    "* Streaming API - 제시된 키워드 등이 포함된 데이터를 streaming 해준다.\n",
    "\n",
    "트위터 API에 대응하는 여러 라이브러리가 있지만, 본 예제에서는 tweepy 를 사용한다. tweepy의 설치는 다음과 같다.\n",
    "* pip install tweepy\n",
    "\n",
    "트위터는 OAuth 인증을 통해 데이터에 접근이 가능하다. OAuth 인증을 하기 위해서는 트위터 개발자 사이트에 등록하고, 데이터 수집을 위한 앱을 등록해야 한다. 등록을 마치면 OAuth 인증을 위한 키가 제공되는데 해당 키를 이용하여 트위터 API를 사용할 수 있다.\n",
    "\n",
    "(강의 슬라이드 참고)"
   ]
  },
  {
   "cell_type": "markdown",
   "metadata": {
    "id": "rJNcJKOE-Gjh",
    "pycharm": {
     "name": "#%% md\n"
    }
   },
   "source": [
    "### 1.1 tweepy 및 OAuth 설정"
   ]
  },
  {
   "cell_type": "code",
   "execution_count": null,
   "metadata": {
    "id": "8D9enhsS-Gjh",
    "pycharm": {
     "name": "#%%\n"
    }
   },
   "outputs": [],
   "source": [
    "import tweepy\n",
    "\n",
    "# OAuth setup\n",
    "consumer_key = \"\"\n",
    "consumer_secret = \"\"\n",
    "access_token = \"\"\n",
    "access_secret = \"\"\n",
    "\n",
    "auth = tweepy.OAuthHandler(consumer_key, consumer_secret)\n",
    "auth.set_access_token(access_token, access_secret)"
   ]
  },
  {
   "cell_type": "markdown",
   "metadata": {
    "id": "qPmyP9UV-Gji",
    "pycharm": {
     "name": "#%% md\n"
    }
   },
   "source": [
    "### 1.2 tweepy api 오브젝트 생성"
   ]
  },
  {
   "cell_type": "code",
   "execution_count": null,
   "metadata": {
    "id": "UcIHf3Tj-Gji",
    "pycharm": {
     "name": "#%%\n"
    }
   },
   "outputs": [],
   "source": [
    "api = tweepy.API(auth)"
   ]
  },
  {
   "cell_type": "code",
   "execution_count": null,
   "metadata": {
    "id": "T0_lHoks-Gjj",
    "pycharm": {
     "name": "#%%\n"
    }
   },
   "outputs": [],
   "source": [
    "my_timeline = api.home_timeline()\n",
    "my_timeline[0] # 만약 내 팔로워가 없다면 에러 발생(Null 값이므로)"
   ]
  },
  {
   "cell_type": "markdown",
   "metadata": {
    "id": "ia8KIKKL-Gjk",
    "pycharm": {
     "name": "#%% md\n"
    }
   },
   "source": [
    "### 1.3 특정 사용자의 타임라인 수집"
   ]
  },
  {
   "cell_type": "code",
   "execution_count": null,
   "metadata": {
    "id": "WoUeFZiM-Gjk",
    "pycharm": {
     "name": "#%%\n"
    }
   },
   "outputs": [],
   "source": [
    "user = api.get_user(screen_name=\"Sonny7\")\n",
    "user"
   ]
  },
  {
   "cell_type": "code",
   "execution_count": null,
   "metadata": {
    "id": "xezvZrrv-Gjk",
    "pycharm": {
     "name": "#%%\n"
    }
   },
   "outputs": [],
   "source": [
    "user.id_str"
   ]
  },
  {
   "cell_type": "code",
   "execution_count": null,
   "metadata": {
    "id": "E40okFby-Gjl",
    "pycharm": {
     "name": "#%%\n"
    }
   },
   "outputs": [],
   "source": [
    "user = api.get_user(user_id=1496952010649833477)  # 만약 screen_name이 아닌 id를 알고 있다면\n",
    "user"
   ]
  },
  {
   "cell_type": "code",
   "execution_count": null,
   "metadata": {
    "id": "T2aiSDos-Gjl",
    "pycharm": {
     "name": "#%%\n"
    }
   },
   "outputs": [],
   "source": [
    "user_timeline = api.user_timeline(screen_name=\"Sonny7\")\n",
    "tweets = []\n",
    "for tweet in user_timeline:\n",
    "    tweets.append(tweet)\n",
    "tweets[0].text"
   ]
  },
  {
   "cell_type": "code",
   "execution_count": null,
   "metadata": {
    "id": "-P3aBStN-Gjl",
    "pycharm": {
     "name": "#%%\n"
    }
   },
   "outputs": [],
   "source": [
    "tweets[1].text"
   ]
  },
  {
   "cell_type": "markdown",
   "metadata": {
    "id": "OgL3Dw3N-Gjl",
    "pycharm": {
     "name": "#%% md\n"
    }
   },
   "source": [
    "### 1.4 특정 유저의 친구 목록"
   ]
  },
  {
   "cell_type": "code",
   "execution_count": null,
   "metadata": {
    "id": "PNowAYVP-Gjm",
    "pycharm": {
     "name": "#%%\n"
    }
   },
   "outputs": [],
   "source": [
    "user = api.get_user(screen_name=\"Yunaaaa\")\n",
    "user.screen_name\n",
    "user.followers_count"
   ]
  },
  {
   "cell_type": "code",
   "execution_count": null,
   "metadata": {
    "id": "7Z1dOe1h-Gjm",
    "pycharm": {
     "name": "#%%\n"
    }
   },
   "outputs": [],
   "source": [
    "for friend in user.friends():\n",
    "    print(friend.screen_name)"
   ]
  },
  {
   "cell_type": "markdown",
   "metadata": {
    "id": "E-JTv6cV-Gjm",
    "pycharm": {
     "name": "#%% md\n"
    }
   },
   "source": [
    "(주의) `user.followers()`는 2022년 5월 현재 모두 508805 명이다. 트위터 API는 15분간 15개의 request call을 허용한다. 한번의 request 마다 20개의 followers를 가져온다면 모두 약 44381여개의 call이 필요하기 때문에 rate limit을 넘어서게 된다. 따라서 이 경우는 15개를 가져오고 잠시 쉬었다가 다시 가져오는 등의 방법을 사용한다. 처리 방법은 뒤에서 다루고 여기서는 call을 많이 사용하지 않는 friends의 리스트를 가져와 보았다. (API v1.0 기준)\n",
    "\n",
    "API v2.0 에서는 rate limit 정책이 변화되었다. 다음의 링크를 참고하자.\n",
    "\n",
    "https://developer.twitter.com/en/docs/twitter-api/rate-limits "
   ]
  },
  {
   "cell_type": "markdown",
   "metadata": {
    "id": "ZSiJIhwg-Gjm",
    "pycharm": {
     "name": "#%% md\n"
    }
   },
   "source": [
    "### 1.5 Pagination and Cursor\n",
    "\n",
    "트위터의 정보는 pagination 되어 있다. page를 넘겨가며 데이터를 수집하기 위해서는 cursor 를 사용한다. Cursor는 다음과 같이 사용한다."
   ]
  },
  {
   "cell_type": "code",
   "execution_count": null,
   "metadata": {
    "id": "EJhv48Q9-Gjm",
    "pycharm": {
     "name": "#%%\n"
    }
   },
   "outputs": [],
   "source": [
    "my_tweets = []\n",
    "for tweet in tweepy.Cursor(api.user_timeline, id=\"elonmusk\").items(20):\n",
    "    my_tweets.append(tweet)\n",
    "    \n",
    "\n",
    "for t in my_tweets:\n",
    "    print(t.text + \"\\n\\n--\\n\")"
   ]
  },
  {
   "cell_type": "code",
   "execution_count": null,
   "metadata": {
    "id": "H1y_J7uL-Gjn",
    "pycharm": {
     "name": "#%%\n"
    }
   },
   "outputs": [],
   "source": [
    "my_tweets[0].text\n",
    "# my_tweets[1].user.url"
   ]
  },
  {
   "cell_type": "markdown",
   "metadata": {
    "id": "akievrjl-Gjn",
    "pycharm": {
     "name": "#%% md\n"
    }
   },
   "source": [
    "수집하고자 하는 트윗의 갯수를 지정할 수 있다. 이 경우 아이템의 숫자 (items()) 혹은 페이지의 숫자 (pages()) 를 지정한다.\n",
    "\n",
    "```\n",
    "# Only iterate through the first 200 statuses\n",
    "for status in tweepy.Cursor(api.user_timeline).items(200):\n",
    "    process_status(status)\n",
    "\n",
    "# Only iterate through the first 3 pages\n",
    "for page in tweepy.Cursor(api.user_timeline).pages(3):\n",
    "    process_page(page)\n",
    "```"
   ]
  },
  {
   "cell_type": "markdown",
   "metadata": {
    "id": "U35baclk-Gjn",
    "pycharm": {
     "name": "#%% md\n"
    }
   },
   "source": [
    "### 1.6 Handling the rate limit using cursors\n",
    "\n",
    "위에서 언급한 것처럼, 많은 양의 트윗을 수집하고자 할 때, **```RateLimitError```** 에러가 발생한다. 이런 경우 페이지를 넘기기 전에 (next()) 에러를 체크하고, **```RateLimitError```** 에러가 발생하면 그 만큼 수집을 멈추었다가 재개하여야 한다. 에러 핸들링을 하지 않으면 프로그램이 멈추고 데이터 수집도 멈춘다.\n",
    "\n",
    "```\n",
    "def limit_handled(cursor):\n",
    "    while True:\n",
    "        try:\n",
    "            yield cursor.next()\n",
    "        except tweepy.RateLimitError:\n",
    "            time.sleep(15 * 60)\n",
    "\n",
    "for follower in limit_handled(tweepy.Cursor(api.followers).items()):\n",
    "    process_follower(follower)\n",
    "```"
   ]
  },
  {
   "cell_type": "markdown",
   "metadata": {
    "id": "oqCOLYcB-Gjn",
    "pycharm": {
     "name": "#%% md\n"
    }
   },
   "source": [
    "## 2.Streaming Tweet Data\n",
    "\n",
    "Streaming API는 rate limit의 제한이 없어 트윗을 수집할 때 유용하다. 그러나 모든 트윗을 제공하는 것은 아니고, 전체 트윗의 1%만을 random 으로 제공해 준다.\n",
    "\n",
    "Streaming API를 사용하여 트윗을 수집하려면 다음과 같은 순서를 따른다.\n",
    "\n",
    "* StreamingClient 클래스를 상속받은 MyListenerV2 클래스를 만든다.\n",
    "* Stream 오브젝트를 생성한다.\n",
    "* Stream 오브젝트에 Twitter API를 연결한다."
   ]
  },
  {
   "cell_type": "markdown",
   "metadata": {
    "id": "SGaMRY-P-Gjn",
    "pycharm": {
     "name": "#%% md\n"
    }
   },
   "source": [
    "### 2.1 StreamListener 클래스 생성"
   ]
  },
  {
   "cell_type": "code",
   "execution_count": null,
   "metadata": {},
   "outputs": [],
   "source": [
    "import tweepy\n",
    "import time\n",
    "\n",
    "class MyListenerV2(tweepy.StreamingClient): # tweepy의 기본 설정을 받아온다(상속한다)\n",
    "    def on_connect(self): # 연결 성공 시 확인\n",
    "        print(\"Connected.\")\n",
    "    \n",
    "    def on_tweet(self, tweet):\n",
    "        print(tweet.text)\n",
    "        print(\"-\"*100)\n",
    "        time.sleep(1) # 속도를 조절하는 역할 (없어도 됨)"
   ]
  },
  {
   "cell_type": "markdown",
   "metadata": {
    "id": "ujihq6au-Gjn",
    "pycharm": {
     "name": "#%% md\n"
    }
   },
   "source": [
    "### 2.2 Stream 오브젝트 생성하고 Bearer Token 연결"
   ]
  },
  {
   "cell_type": "code",
   "execution_count": null,
   "metadata": {
    "id": "vt2TKNFP-Gjn",
    "pycharm": {
     "name": "#%%\n"
    }
   },
   "outputs": [],
   "source": [
    "twitter_stream = MyListenerV2(\"\") # bearer token을 대신 사용 : v2부터 auth(4개의 토큰 필요) 필요없이 작동한다"
   ]
  },
  {
   "cell_type": "markdown",
   "metadata": {},
   "source": [
    "### 2.3. Stream 기본 규칙 지정\n",
    "- 모든 트윗을 보는 것은 낭비가 심하기 때문에 몇가지 규칙을 정해서 필터링 양을 줄일 수 있다\n",
    "- 세부적인 쿼리는 https://developer.twitter.com/en/docs/twitter-api/tweets/search/integrate/build-a-query 를 참조한다"
   ]
  },
  {
   "cell_type": "code",
   "execution_count": null,
   "metadata": {},
   "outputs": [],
   "source": [
    "twitter_stream.add_rules(tweepy.StreamRule(\"(BTS) place_country:KR\")) # BTS관련 Tweets 중, KR 소속인 트윗 보기"
   ]
  },
  {
   "cell_type": "markdown",
   "metadata": {},
   "source": [
    "### 2.3. Streaming 시작"
   ]
  },
  {
   "cell_type": "code",
   "execution_count": null,
   "metadata": {},
   "outputs": [],
   "source": [
    "twitter_stream.filter()"
   ]
  },
  {
   "cell_type": "markdown",
   "metadata": {
    "id": "EMwGgozT-Gjo",
    "pycharm": {
     "name": "#%% md\n"
    }
   },
   "source": [
    "### 2.4 json 파일로 저장할 수 있도록 상속 클래스 수정"
   ]
  },
  {
   "cell_type": "code",
   "execution_count": null,
   "metadata": {},
   "outputs": [],
   "source": [
    "# 결과 정렬해서 확인\n",
    "from pprint import pprint\n",
    "import json "
   ]
  },
  {
   "cell_type": "code",
   "execution_count": null,
   "metadata": {},
   "outputs": [],
   "source": [
    "import tweepy\n",
    "\n",
    "class MyListenerV2(tweepy.StreamingClient): # tweepy의 기본 설정을 받아온다(상속한다)\n",
    "    def on_connect(self): # 연결 성공 시 확인\n",
    "        print(\"Connected.\")\n",
    "            \n",
    "    def on_data(self, data):\n",
    "        try:\n",
    "            with open('tweet_stream.json','a',encoding='utf-8') as file: # raw 데이터는 binary 형태를 갖는다. 보기 편하게 바꾸자\n",
    "                file.write(data.decode('utf-8'))\n",
    "                file.write(\"\\n\")\n",
    "                pprint(json.loads(data.decode('utf-8')))\n",
    "                print(\"-\"*100)\n",
    "                return True\n",
    "        except BaseException as e:\n",
    "            print(\"Error on_data: {}\".format(str(e)))\n",
    "        return True    "
   ]
  },
  {
   "cell_type": "code",
   "execution_count": null,
   "metadata": {},
   "outputs": [],
   "source": [
    "twitter_stream = MyListenerV2(\"\") # bearer token을 대신 사용 : v2부터 auth(4개의 토큰 필요) 필요없이 작동한다\n",
    "twitter_stream.add_rules(tweepy.StreamRule(\"(BTS) place_country:KR\")) # BTS관련 Tweets 중, KR 속성 트윗 보기"
   ]
  },
  {
   "cell_type": "code",
   "execution_count": null,
   "metadata": {},
   "outputs": [],
   "source": [
    "twitter_stream.filter()\n",
    "#twitter_stream.filter(expansions=\"author_id\", tweet_fields=\"created_at\", user_fields=\"username\")"
   ]
  },
  {
   "cell_type": "markdown",
   "metadata": {
    "id": "Cg4VosV4-Gjo",
    "pycharm": {
     "name": "#%% md\n"
    }
   },
   "source": [
    "(참고1) ```on_tweet vs. on_data```\n",
    "\n",
    "```on_tweet```는 데이터를 tweepy object 형태로 return한다. 따라서 data.text와 같은 notation이 가능하다. 하지만 ```on_data```는 데이터를 str로 return 한다. 우리는 데이터를 .json 파일로 저장할 것이기 때문에 tweepy object보다는 str로 저장하여야 한다. 따라서 두번째 수정된 코드에서는 ```on_data```를 사용하였다.\n",
    "\n",
    "(참고2) ```on_tweet vs. on_data```\n",
    "\n",
    "두개의 메소드는 StreamingClient내부에 구현되어 있다. 클래스를 상속 받으면 부모 클래스에 구현된 메소드를 재정의(override)해서 사용할 수 있다."
   ]
  },
  {
   "cell_type": "markdown",
   "metadata": {
    "id": "C6G5EME5-Gjo",
    "pycharm": {
     "name": "#%% md\n"
    }
   },
   "source": [
    "### 2.5 터미널에서 프로그램 실행\n",
    "\n",
    "jupyter notebook (Google Colab)이 편리하긴 하지만 어떤 경우에는 터미널에서 프로그램을 실행하여야 한다. 스트리밍한 데이터를 저장하는 프로그램은 계속 데이터를 받아오기 때문에 jupyter notebook에서 실행하면 메모리 로드가 많아 작동불능 상태에 빠지기 쉽다. 따라서 이 경우 터미널에서 프로그램을 실행시킨다.\n",
    "\n",
    "* 첫번째 스트리밍 코드는 twitter-stream.py 로 저장되어 있다.\n",
    "* 수정된 두번째 스트리밍 코드는 twitter-stream-save.py로 저장되어 있다.\n",
    "\n",
    "실행은 터미널에서 다음과 같이 한다.\n",
    "\n",
    "* python twitter-stream-save.py\n",
    "\n",
    "프로그램의 종료는 CTRL-C 를 누른다"
   ]
  },
  {
   "cell_type": "markdown",
   "metadata": {
    "id": "MeNqX8Ot-Gjo",
    "pycharm": {
     "name": "#%% md\n"
    }
   },
   "source": [
    "### 2.6 JSON 파일 불러오기"
   ]
  },
  {
   "cell_type": "code",
   "execution_count": null,
   "metadata": {
    "id": "wuGKa8DW-Gjo",
    "pycharm": {
     "name": "#%%\n"
    }
   },
   "outputs": [],
   "source": [
    "import json\n",
    "from pprint import pprint\n",
    "\n",
    "json_data = []\n",
    "with open(\"tweet_stream.json\") as file:\n",
    "    data = file.readlines()\n",
    "    for d in data:\n",
    "        json_data.append(json.loads(d))\n",
    "        \n",
    "len(json_data)"
   ]
  },
  {
   "cell_type": "code",
   "execution_count": 1,
   "metadata": {},
   "outputs": [
    {
     "name": "stdout",
     "output_type": "stream",
     "text": [
      "altair @ file:///tmp/build/80754af9/altair_1599835197802/workNote: you may need to restart the kernel to use updated packages.\n",
      "\n",
      "argon2-cffi @ file:///home/conda/feedstock_root/build_artifacts/argon2-cffi_1640817743617/work\n",
      "argon2-cffi-bindings @ file:///D:/bld/argon2-cffi-bindings_1649500515836/work\n",
      "asttokens @ file:///home/conda/feedstock_root/build_artifacts/asttokens_1660605382950/work\n",
      "async-generator==1.10\n",
      "attrs @ file:///home/conda/feedstock_root/build_artifacts/attrs_1659291887007/work\n",
      "backcall @ file:///home/conda/feedstock_root/build_artifacts/backcall_1592338393461/work\n",
      "backports.functools-lru-cache @ file:///home/conda/feedstock_root/build_artifacts/backports.functools_lru_cache_1618230623929/work\n",
      "beautifulsoup4 @ file:///home/conda/feedstock_root/build_artifacts/beautifulsoup4_1649463573192/work\n",
      "bleach @ file:///home/conda/feedstock_root/build_artifacts/bleach_1656355450470/work\n",
      "blinker==1.4\n",
      "bokeh==2.4.3\n",
      "brotlipy==0.7.0\n",
      "cachetools @ file:///tmp/build/80754af9/cachetools_1619597386817/work\n",
      "certifi @ file:///C:/b/abs_ac29jvt43w/croot/certifi_1665076682579/work/certifi\n",
      "cffi @ file:///D:/bld/cffi_1656782930891/work\n",
      "charset-normalizer @ file:///tmp/build/80754af9/charset-normalizer_1630003229654/work\n",
      "click @ file:///C:/ci/click_1646038595831/work\n",
      "colorama @ file:///home/conda/feedstock_root/build_artifacts/colorama_1655412516417/work\n",
      "commonmark @ file:///Users/ktietz/demo/mc3/conda-bld/commonmark_1630649545323/work\n",
      "contourpy==1.0.5\n",
      "cryptography @ file:///C:/ci/cryptography_1652083563162/work\n",
      "cycler==0.11.0\n",
      "debugpy @ file:///D:/bld/debugpy_1660619197580/work\n",
      "decorator @ file:///home/conda/feedstock_root/build_artifacts/decorator_1641555617451/work\n",
      "defusedxml @ file:///home/conda/feedstock_root/build_artifacts/defusedxml_1615232257335/work\n",
      "entrypoints @ file:///home/conda/feedstock_root/build_artifacts/entrypoints_1643888246732/work\n",
      "exceptiongroup==1.0.4\n",
      "executing @ file:///home/conda/feedstock_root/build_artifacts/executing_1661768596365/work\n",
      "fastjsonschema @ file:///home/conda/feedstock_root/build_artifacts/python-fastjsonschema_1658064924516/work/dist\n",
      "flit_core @ file:///home/conda/feedstock_root/build_artifacts/flit-core_1645629044586/work/source/flit_core\n",
      "fonttools==4.37.4\n",
      "future @ file:///C:/ci/future_1607568713721/work\n",
      "gitdb @ file:///tmp/build/80754af9/gitdb_1617117951232/work\n",
      "GitPython @ file:///tmp/build/80754af9/gitpython_1624609474443/work\n",
      "h11==0.14.0\n",
      "idna @ file:///tmp/build/80754af9/idna_1637925883363/work\n",
      "importlib-metadata @ file:///D:/bld/importlib-metadata_1653252997230/work\n",
      "importlib-resources @ file:///home/conda/feedstock_root/build_artifacts/importlib_resources_1658604161399/work\n",
      "ipykernel @ file:///D:/bld/ipykernel_1663105104678/work\n",
      "ipython @ file:///D:/bld/ipython_1662481701382/work\n",
      "ipython-genutils==0.2.0\n",
      "ipywidgets @ file:///home/conda/feedstock_root/build_artifacts/ipywidgets_1662482321563/work\n",
      "jedi @ file:///home/conda/feedstock_root/build_artifacts/jedi_1659959867326/work\n",
      "Jinja2 @ file:///home/conda/feedstock_root/build_artifacts/jinja2_1654302431367/work\n",
      "jsonschema @ file:///home/conda/feedstock_root/build_artifacts/jsonschema-meta_1662736858348/work\n",
      "jupyter @ file:///D:/bld/jupyter_1637233338215/work\n",
      "jupyter-console @ file:///home/conda/feedstock_root/build_artifacts/jupyter_console_1655961255101/work\n",
      "jupyter_client @ file:///home/conda/feedstock_root/build_artifacts/jupyter_client_1661522530937/work\n",
      "jupyter_core @ file:///D:/bld/jupyter_core_1658332470282/work\n",
      "jupyterlab-pygments @ file:///home/conda/feedstock_root/build_artifacts/jupyterlab_pygments_1649936611996/work\n",
      "jupyterlab-widgets @ file:///home/conda/feedstock_root/build_artifacts/jupyterlab_widgets_1662157840858/work\n",
      "kiwisolver==1.4.4\n",
      "lxml @ file:///D:/bld/lxml_1656759787141/work\n",
      "MarkupSafe @ file:///D:/bld/markupsafe_1648737757460/work\n",
      "matplotlib==3.6.0\n",
      "matplotlib-inline @ file:///home/conda/feedstock_root/build_artifacts/matplotlib-inline_1660814786464/work\n",
      "mistune @ file:///home/conda/feedstock_root/build_artifacts/mistune_1657892024508/work\n",
      "nbclient @ file:///home/conda/feedstock_root/build_artifacts/nbclient_1662750566673/work\n",
      "nbconvert @ file:///home/conda/feedstock_root/build_artifacts/nbconvert-meta_1661238612475/work\n",
      "nbformat @ file:///home/conda/feedstock_root/build_artifacts/nbformat_1663088442393/work\n",
      "nest-asyncio @ file:///home/conda/feedstock_root/build_artifacts/nest-asyncio_1648959695634/work\n",
      "notebook @ file:///home/conda/feedstock_root/build_artifacts/notebook_1654636967533/work\n",
      "numpy @ file:///D:/bld/numpy_1657483989399/work\n",
      "oauthlib==3.2.2\n",
      "outcome==1.2.0\n",
      "packaging @ file:///home/conda/feedstock_root/build_artifacts/packaging_1637239678211/work\n",
      "pandas @ file:///D:/bld/pandas_1656001279371/work\n",
      "pandocfilters @ file:///home/conda/feedstock_root/build_artifacts/pandocfilters_1631603243851/work\n",
      "parso @ file:///home/conda/feedstock_root/build_artifacts/parso_1638334955874/work\n",
      "pickleshare @ file:///home/conda/feedstock_root/build_artifacts/pickleshare_1602536217715/work\n",
      "Pillow==9.2.0\n",
      "pkgutil_resolve_name @ file:///home/conda/feedstock_root/build_artifacts/pkgutil-resolve-name_1633981968097/work\n",
      "plotly==5.11.0\n",
      "prometheus-client @ file:///home/conda/feedstock_root/build_artifacts/prometheus_client_1649447152425/work\n",
      "prompt-toolkit @ file:///home/conda/feedstock_root/build_artifacts/prompt-toolkit_1662384672173/work\n",
      "protobuf==3.20.1\n",
      "psutil @ file:///C:/Windows/Temp/abs_b2c2fd7f-9fd5-4756-95ea-8aed74d0039flsd9qufz/croots/recipe/psutil_1656431277748/work\n",
      "pure-eval @ file:///home/conda/feedstock_root/build_artifacts/pure_eval_1642875951954/work\n",
      "pyarrow==8.0.0\n",
      "pycparser @ file:///home/conda/feedstock_root/build_artifacts/pycparser_1636257122734/work\n",
      "pydeck @ file:///C:/Windows/TEMP/abs_d25851b0-2795-4554-8068-f12d67b4bbaepda393r7/croots/recipe/pydeck_1657894563802/work\n",
      "Pygments @ file:///home/conda/feedstock_root/build_artifacts/pygments_1660666458521/work\n",
      "Pympler @ file:///tmp/build/80754af9/pympler_1602785470644/work\n",
      "pyOpenSSL @ file:///opt/conda/conda-bld/pyopenssl_1643788558760/work\n",
      "pyparsing @ file:///home/conda/feedstock_root/build_artifacts/pyparsing_1652235407899/work\n",
      "PyQt5==5.12.3\n",
      "PyQt5_sip==4.19.18\n",
      "PyQtChart==5.12\n",
      "PyQtWebEngine==5.12.1\n",
      "pyrsistent @ file:///D:/bld/pyrsistent_1649013531721/work\n",
      "PySocks @ file:///C:/ci/pysocks_1605307512533/work\n",
      "python-dateutil @ file:///home/conda/feedstock_root/build_artifacts/python-dateutil_1626286286081/work\n",
      "pytz @ file:///home/conda/feedstock_root/build_artifacts/pytz_1660580468234/work\n",
      "pywin32==303\n",
      "pywinpty @ file:///C:/ci_310/pywinpty_1644230983541/work/target/wheels/pywinpty-2.0.2-cp39-none-win_amd64.whl\n",
      "PyYAML==6.0\n",
      "pyzmq @ file:///D:/bld/pyzmq_1660329100686/work\n",
      "qtconsole @ file:///home/conda/feedstock_root/build_artifacts/qtconsole-base_1661698361365/work\n",
      "QtPy @ file:///home/conda/feedstock_root/build_artifacts/qtpy_1660233836213/work\n",
      "requests @ file:///C:/ci/requests_1657735342357/work\n",
      "requests-oauthlib==1.3.1\n",
      "rich @ file:///C:/Windows/TEMP/abs_7anftszm_e/croots/recipe/rich_1659708309427/work\n",
      "seaborn==0.12.1\n",
      "selenium==4.6.0\n",
      "semver @ file:///tmp/build/80754af9/semver_1603822362442/work\n",
      "Send2Trash @ file:///home/conda/feedstock_root/build_artifacts/send2trash_1628511208346/work\n",
      "six @ file:///home/conda/feedstock_root/build_artifacts/six_1620240208055/work\n",
      "smmap @ file:///tmp/build/80754af9/smmap_1611694433573/work\n",
      "sniffio==1.3.0\n",
      "sortedcontainers==2.4.0\n",
      "soupsieve @ file:///home/conda/feedstock_root/build_artifacts/soupsieve_1658207591808/work\n",
      "stack-data @ file:///home/conda/feedstock_root/build_artifacts/stack_data_1661624565828/work\n",
      "streamlit @ file:///C:/Windows/TEMP/abs_6755c0ad-e95b-406d-b0cd-8ba63419ac8fqiekpwtd/croots/recipe/streamlit_1657914743845/work\n",
      "tenacity==8.1.0\n",
      "terminado @ file:///D:/bld/terminado_1652790835377/work\n",
      "tinycss2 @ file:///home/conda/feedstock_root/build_artifacts/tinycss2_1637612658783/work\n",
      "toml @ file:///tmp/build/80754af9/toml_1616166611790/work\n",
      "toolz @ file:///tmp/build/80754af9/toolz_1636545406491/work\n",
      "tornado @ file:///D:/bld/tornado_1656937934674/work\n",
      "traitlets @ file:///home/conda/feedstock_root/build_artifacts/traitlets_1663005918942/work\n",
      "trio==0.22.0\n",
      "trio-websocket==0.9.2\n",
      "tweepy==4.12.1\n",
      "typing_extensions @ file:///C:/Windows/TEMP/abs_dd2d0moa85/croots/recipe/typing_extensions_1659638831135/work\n",
      "tzlocal @ file:///C:/ci/tzlocal_1608245422044/work\n",
      "urllib3 @ file:///C:/Windows/TEMP/abs_65ynz4fdmi/croots/recipe/urllib3_1659110473919/work\n",
      "validators @ file:///tmp/build/80754af9/validators_1612286467315/work\n",
      "watchdog @ file:///C:/ci/watchdog_1638367441841/work\n",
      "wcwidth @ file:///home/conda/feedstock_root/build_artifacts/wcwidth_1600965781394/work\n",
      "webencodings==0.5.1\n",
      "widgetsnbextension @ file:///home/conda/feedstock_root/build_artifacts/widgetsnbextension_1662157836868/work\n",
      "win-inet-pton @ file:///C:/ci/win_inet_pton_1605306162074/work\n",
      "wincertstore==0.2\n",
      "wsproto==1.2.0\n",
      "xlrd==2.0.1\n",
      "zipp @ file:///home/conda/feedstock_root/build_artifacts/zipp_1659400682470/work\n"
     ]
    }
   ],
   "source": [
    "pip freeze"
   ]
  },
  {
   "cell_type": "code",
   "execution_count": null,
   "metadata": {},
   "outputs": [],
   "source": [
    "pprint(json_data[0])"
   ]
  },
  {
   "cell_type": "code",
   "execution_count": null,
   "metadata": {},
   "outputs": [],
   "source": [
    "json_data[0]['data']"
   ]
  },
  {
   "cell_type": "code",
   "execution_count": null,
   "metadata": {},
   "outputs": [],
   "source": [
    "json_data[0]['includes']"
   ]
  },
  {
   "cell_type": "code",
   "execution_count": null,
   "metadata": {},
   "outputs": [],
   "source": [
    "json_data[0]['includes']['users'][0]['name']"
   ]
  },
  {
   "cell_type": "code",
   "execution_count": null,
   "metadata": {
    "id": "JytGl5hW-Gjo",
    "pycharm": {
     "name": "#%%\n"
    }
   },
   "outputs": [],
   "source": [
    "for tweet in json_data:\n",
    "    if tweet['data']:\n",
    "        print(tweet['data']['author_id'],\"\\t\",tweet['data']['text'].replace(\"\\n\",\" \").strip())"
   ]
  }
 ],
 "metadata": {
  "colab": {
   "collapsed_sections": [
    "U35baclk-Gjn",
    "C6G5EME5-Gjo"
   ],
   "name": "Week 11 Advanced Data Crawling.ipynb",
   "provenance": [],
   "toc_visible": true
  },
  "kernelspec": {
   "display_name": "Python 3.9.13 ('test')",
   "language": "python",
   "name": "python3"
  },
  "language_info": {
   "codemirror_mode": {
    "name": "ipython",
    "version": 3
   },
   "file_extension": ".py",
   "mimetype": "text/x-python",
   "name": "python",
   "nbconvert_exporter": "python",
   "pygments_lexer": "ipython3",
   "version": "3.9.13"
  },
  "vscode": {
   "interpreter": {
    "hash": "51d66f9265fa303f5a9c52f2bcb99fbe404616e00f2948aaa57eae8372c9f3b5"
   }
  }
 },
 "nbformat": 4,
 "nbformat_minor": 4
}
