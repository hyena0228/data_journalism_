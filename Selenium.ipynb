{
 "cells": [
  {
   "cell_type": "markdown",
   "metadata": {
    "id": "SPXlzxqnRv5J"
   },
   "source": [
    "# 기초 패키지 로드"
   ]
  },
  {
   "cell_type": "code",
   "execution_count": 1,
   "metadata": {
    "id": "7gsgizy0RgDc"
   },
   "outputs": [],
   "source": [
    "from bs4 import BeautifulSoup\n",
    "from selenium import webdriver\n",
    "import time"
   ]
  },
  {
   "cell_type": "markdown",
   "metadata": {
    "id": "FbPvz3aeR2Tv"
   },
   "source": [
    "# 대상 URL 확보"
   ]
  },
  {
   "cell_type": "code",
   "execution_count": 2,
   "metadata": {
    "colab": {
     "base_uri": "https://localhost:8080/"
    },
    "id": "wI5wKas4RyRr",
    "outputId": "ec1aa560-4d05-4506-c296-4dd76716d2dc"
   },
   "outputs": [
    {
     "name": "stdout",
     "output_type": "stream",
     "text": [
      "http://v.media.daum.net/v/20161120134647462\n"
     ]
    }
   ],
   "source": [
    "url = \"http://v.media.daum.net/v/20161120134647462\"\n",
    "print(url) # 클릭하여 기사를 확인해 보자"
   ]
  },
  {
   "cell_type": "code",
   "execution_count": 2,
   "metadata": {},
   "outputs": [
    {
     "data": {
      "text/plain": [
       "'C:\\\\Users\\\\hyena\\\\data_journalism'"
      ]
     },
     "execution_count": 2,
     "metadata": {},
     "output_type": "execute_result"
    }
   ],
   "source": [
    "import os \n",
    "os.getcwd()"
   ]
  },
  {
   "cell_type": "markdown",
   "metadata": {
    "id": "oeWSJThPSGOV"
   },
   "source": [
    "# 크롬 드라이버 불러오기\n",
    "\n",
    "- 원래 코드에서는 Chromedriver를 사용했지만, 사용자에 따라서 Firefox, Edge, Chrome 선택이 가능하다\n",
    "- 드라이버는 Selenium의 공식 Github페이지의 링크를 사용하면 편리하게 찾을 수 있다(https://github.com/SeleniumHQ/selenium)\n",
    "- Driver를 실행하면서, 어떤 위치에 실행 파일이 있는지 알려줘야 한다 (Path를 따로 설정하는 것을 추천)"
   ]
  },
  {
   "cell_type": "code",
   "execution_count": 4,
   "metadata": {},
   "outputs": [],
   "source": [
    "path = './chromedriver_win32/chromedriver.exe' # 드라이버 파일이 있는 경로 설정 (사용자 환경에 따라 다름)"
   ]
  },
  {
   "cell_type": "code",
   "execution_count": 12,
   "metadata": {
    "colab": {
     "base_uri": "https://localhost:8080/",
     "height": 676
    },
    "id": "N_JAKAwbTHzi",
    "outputId": "eff51987-f412-411c-b82e-f4a404df0cc5"
   },
   "outputs": [
    {
     "name": "stderr",
     "output_type": "stream",
     "text": [
      "C:\\Users\\hyena\\AppData\\Local\\Temp/ipykernel_28892/2111662852.py:2: DeprecationWarning: executable_path has been deprecated, please pass in a Service object\n",
      "  driver = webdriver.Chrome(path) # Chrome 사용한다면\n"
     ]
    }
   ],
   "source": [
    "#driver = webdriver.Edge(path) # Edge 사용한다면\n",
    "driver = webdriver.Chrome(path) # Chrome 사용한다면\n",
    "\n",
    "#driver = webdriver.Firefox(path) # Firefox 사용한다면"
   ]
  },
  {
   "cell_type": "markdown",
   "metadata": {
    "id": "CRrlV0YPVBBG"
   },
   "source": [
    "- 왜 드라이버가 종료되지 않을까?\n",
    "    - 종료 버튼을 누르지 않았으므로\n",
    "    - 만약 이상태로 계속 드라이버를 실행하면 계속 새 창이 뜨기 때문에 종료를 해 주자"
   ]
  },
  {
   "cell_type": "code",
   "execution_count": 13,
   "metadata": {
    "scrolled": true
   },
   "outputs": [
    {
     "name": "stderr",
     "output_type": "stream",
     "text": [
      "C:\\Users\\hyena\\AppData\\Local\\Temp/ipykernel_28892/1294165756.py:1: DeprecationWarning: executable_path has been deprecated, please pass in a Service object\n",
      "  driver = webdriver.Chrome(path) # 경로에 있는 드라이버 찾아서 실행\n"
     ]
    }
   ],
   "source": [
    "driver = webdriver.Chrome(path) # 경로에 있는 드라이버 찾아서 실행\n",
    "driver.close() # 종료"
   ]
  },
  {
   "cell_type": "markdown",
   "metadata": {
    "id": "bdL3gzBDTj-3"
   },
   "source": [
    "# 실행 환경 테스팅"
   ]
  },
  {
   "cell_type": "code",
   "execution_count": 14,
   "metadata": {
    "id": "DhZwD5HoSH3f"
   },
   "outputs": [
    {
     "name": "stderr",
     "output_type": "stream",
     "text": [
      "C:\\Users\\hyena\\AppData\\Local\\Temp/ipykernel_28892/2615828383.py:1: DeprecationWarning: executable_path has been deprecated, please pass in a Service object\n",
      "  driver = webdriver.Chrome(path) # 경로에 있는 드라이버 찾아서 실행\n"
     ]
    }
   ],
   "source": [
    "driver = webdriver.Chrome(path) # 경로에 있는 드라이버 찾아서 실행\n",
    "\n",
    "driver.get(url) # 드라이버를 띄운 상태에서 URL에 접근\n",
    "time.sleep(3) # 전체 페이지 나올 때 까지 대기\n",
    "html = driver.page_source # 일단 펼쳐진 내용을 다 저장해 놓자\n",
    "\n",
    "driver.quit() # 종료"
   ]
  },
  {
   "cell_type": "code",
   "execution_count": 15,
   "metadata": {
    "colab": {
     "base_uri": "https://localhost:8080/",
     "height": 105
    },
    "id": "CyA0t3luSV2Z",
    "outputId": "cc49259d-cf6b-4070-f323-e7e6f781051b"
   },
   "outputs": [
    {
     "data": {
      "text/plain": [
       "'<html class=\"os_window\">\\n <head data-cloud-area=\"head\">\\n  <meta charset=\"utf-8\"/>\\n  <meta content=\"IE=edge\" http-equiv=\"X-UA-Compatible\"/>\\n  <meta content=\"width=device-width,initial-scale=1,maximum-scale=1,user-scalable=no\" name=\"viewport\"/>\\n  <meta content=\"telephone=no\" name=\"format-detection\"/>\\n'"
      ]
     },
     "execution_count": 15,
     "metadata": {},
     "output_type": "execute_result"
    }
   ],
   "source": [
    "soup = BeautifulSoup(html,'html.parser')\n",
    "soup.prettify()[:300] # 헤더 부분만 확인해 보자"
   ]
  },
  {
   "cell_type": "markdown",
   "metadata": {
    "id": "kESnUK8fUELm"
   },
   "source": [
    "# 동작 세부설정\n",
    "\n",
    "- 제대로 정보를 받아오는 것이 확인됐다. \n",
    "- 이제 구체적인 위치를 설정하고, 명령을 내려보자\n",
    "    - 그 전에, 객체를 선택하기 위해서 필요한 부가 함수/옵션을 불러온 후 작업을 시작하자\n",
    "    - By는 여러가지 옵션을 통해 우리가 원하는 파트를 검색하는데 사용된다\n"
   ]
  },
  {
   "cell_type": "code",
   "execution_count": 16,
   "metadata": {
    "id": "7CwtF6lCVWzg"
   },
   "outputs": [],
   "source": [
    "from selenium.webdriver.common.by import By"
   ]
  },
  {
   "cell_type": "markdown",
   "metadata": {},
   "source": [
    "## 1차 테스트 - ON/OFF 클릭여부 확인"
   ]
  },
  {
   "cell_type": "code",
   "execution_count": 18,
   "metadata": {
    "id": "2oGjforHT0I3"
   },
   "outputs": [
    {
     "name": "stderr",
     "output_type": "stream",
     "text": [
      "C:\\Users\\hyena\\AppData\\Local\\Temp/ipykernel_28892/3243869813.py:1: DeprecationWarning: executable_path has been deprecated, please pass in a Service object\n",
      "  driver = webdriver.Chrome(path) # 경로에 있는 드라이버 찾아서 실행\n"
     ]
    }
   ],
   "source": [
    "driver = webdriver.Chrome(path) # 경로에 있는 드라이버 찾아서 실행\n",
    "driver.get(url) # 드라이버를 띄운 상태에서 URL에 접근\n",
    "time.sleep(3) # 전체 페이지 나올 때 까지 대기\n",
    "\n",
    "driver.find_element(By.XPATH , '//*[@id=\"alex-area\"]/div/div/div/div[1]/button').click() # XPATH로 찾아서 -> click(!)\n",
    "time.sleep(3) # 전체 페이지 나올 때 까지 대기 (선택사항)\n",
    "\n",
    "driver.quit()"
   ]
  },
  {
   "cell_type": "code",
   "execution_count": 19,
   "metadata": {},
   "outputs": [
    {
     "ename": "SyntaxError",
     "evalue": "invalid syntax (Temp/ipykernel_28892/1515153632.py, line 1)",
     "output_type": "error",
     "traceback": [
      "\u001b[1;36m  File \u001b[1;32m\"C:\\Users\\hyena\\AppData\\Local\\Temp/ipykernel_28892/1515153632.py\"\u001b[1;36m, line \u001b[1;32m1\u001b[0m\n\u001b[1;33m    //*[@id=\"alex-area\"]\u001b[0m\n\u001b[1;37m    ^\u001b[0m\n\u001b[1;31mSyntaxError\u001b[0m\u001b[1;31m:\u001b[0m invalid syntax\n"
     ]
    }
   ],
   "source": [
    "//*[@id=\"alex-area\"]"
   ]
  },
  {
   "cell_type": "markdown",
   "metadata": {},
   "source": [
    "## 2차 테스트 - 댓글 더 보기 버튼이 작동하는지 확인하기"
   ]
  },
  {
   "cell_type": "code",
   "execution_count": 20,
   "metadata": {
    "id": "ERtIwsEZgti4"
   },
   "outputs": [
    {
     "name": "stderr",
     "output_type": "stream",
     "text": [
      "C:\\Users\\hyena\\AppData\\Local\\Temp/ipykernel_28892/1220395114.py:2: DeprecationWarning: executable_path has been deprecated, please pass in a Service object\n",
      "  driver = webdriver.Chrome(path) # 경로에 있는 드라이버 찾아서 실행\n"
     ]
    }
   ],
   "source": [
    "# 페이지 접근, 댓글펴기\n",
    "driver = webdriver.Chrome(path) # 경로에 있는 드라이버 찾아서 실행\n",
    "driver.get(url) # 드라이버를 띄운 상태에서 URL에 접근\n",
    "time.sleep(3) # 전체 페이지 나올 때 까지 대기\n",
    "driver.find_element(By.XPATH , '//*[@id=\"alex-area\"]/div/div/div/div[1]/button').click() # XPATH로 찾아서 -> click(!)\n",
    "\n",
    "# 댓글 더 보기\n",
    "found_element = True\n",
    "while found_element: # 특정 조건 내에서 드라이버는 작업을 반복한다 \n",
    "    try:\n",
    "        element = driver.find_element(By.XPATH, '//*[@id=\"alex-area\"]/div/div/div/div[4]/div[2]/button') # 그 조건은 xpath 경로에 (더보기) 버튼이 존재할 때이다\n",
    "        element.click() # 있다면 클릭하고\n",
    "        time.sleep(3) # 3초를 기다려라\n",
    "    except Exception:\n",
    "        found_element = False # 없으면 Loop는 종료된다\n",
    "\n",
    "time.sleep(3)\n",
    "driver.quit()"
   ]
  },
  {
   "cell_type": "markdown",
   "metadata": {},
   "source": [
    "## 3차 테스트 - 크롤링 데이터 저장/처리"
   ]
  },
  {
   "cell_type": "code",
   "execution_count": 21,
   "metadata": {},
   "outputs": [
    {
     "name": "stderr",
     "output_type": "stream",
     "text": [
      "C:\\Users\\hyena\\AppData\\Local\\Temp/ipykernel_28892/827372435.py:2: DeprecationWarning: executable_path has been deprecated, please pass in a Service object\n",
      "  driver = webdriver.Chrome(path) # 경로에 있는 드라이버 찾아서 실행\n"
     ]
    },
    {
     "name": "stdout",
     "output_type": "stream",
     "text": [
      "[<ul class=\"list_comment\" data-reactid=\".0.0.0.4.3\"><li class=\"fst\" data-reactid=\".0.0.0.4.3.$83174135\" id=\"comment83174135\"><div class=\"cmt_info\" data-reactid=\".0.0.0.4.3.$83174135.0\"><strong class=\"tit_nick\" data-reactid=\".0.0.0.4.3.$83174135.0.0\"><noscript data-reactid=\".0.0.0.4.3.$83174135.0.0.0\"></noscript><span class=\"info_author\" data-reactid=\".0.0.0.4.3.$83174135.0.0.1\"><span class=\"link_nick\" data-reactid=\".0.0.0.4.3.$83174135.0.0.1.0\"><span class=\"img_cmt img_daum\" data-reactid=\".0.0.0.4.3.$83174135.0.0.1.0.0\"></span></span><a class=\"link_nick\" data-reactid=\".0.0.0.4.3.$83174135.0.0.1.1\" data-tiara-action-name=\"다른사람댓글활동_보기\" data-userid=\"-9776264\" href=\"javascript:\" role=\"button\"><span class=\"screen_out\" data-reactid=\".0.0.0.4.3.$83174135.0.0.1.1.0\">댓글 작성자</span><span data-reactid=\".0.0.0.4.3.$83174135.0.0.1.1.1\">bestkim</span><span class=\"screen_out\" data-reactid=\".0.0.0.4.3.$83174135.0.0.1.1.2\">, 댓글모아보기</span></a><span class=\"txt_date\" data-reactid=\".0.0.0.4.3.$83174135.0.0.1.2\">2016. 11. 20. 14:45</span></span></strong><p class=\"desc_txt font_size_\" data-reactid=\".0.0.0.4.3.$83174135.0.1:$desc-83174135\">공부는 왜하니? 말타고 가면되는데......</p><noscript data-reactid=\".0.0.0.4.3.$83174135.0.1:$icon-83174135\"></noscript><div class=\"box_reply\" data-reactid=\".0.0.0.4.3.$83174135.0.3\"><span class=\"box_inner\" data-reactid=\".0.0.0.4.3.$83174135.0.3.0\"><button aria-expended=\"false\" class=\"reply_count #reply ?c_title=%EB%8B%B5%EA%B8%80\" data-reactid=\".0.0.0.4.3.$83174135.0.3.0.0\" data-tiara-action-name=\"답글목록_열기\"><span data-reactid=\".0.0.0.4.3.$83174135.0.3.0.0.0\">답글 작성</span></button></span><span class=\"comment_recomm\" data-reactid=\".0.0.0.4.3.$83174135.0.3.1\"><button class=\"btn_g btn_recomm #like ?c_title=%EB%8C%93%EA%B8%80%EC%B0%AC%EC%84%B1\" data-reactid=\".0.0.0.4.3.$83174135.0.3.1.0\" data-tiara-action-name=\"댓글_찬성\" data-tiara-custom=\"alex.commentId=83174135\"><span class=\"img_cmt ico_recomm\" data-reactid=\".0.0.0.4.3.$83174135.0.3.1.0.0\">댓글 찬성하기</span><span class=\"num_txt\" data-reactid=\".0.0.0.4.3.$83174135.0.3.1.0.1\">29</span></button><button class=\"btn_g btn_oppose #dislike ?c_title=%EB%8C%93%EA%B8%80%EB%B0%98%EB%8C%80\" data-reactid=\".0.0.0.4.3.$83174135.0.3.1.1\" data-tiara-action-name=\"댓글_반대\" data-tiara-custom=\"alex.commentId=83174135\"><span class=\"img_cmt ico_oppose\" data-reactid=\".0.0.0.4.3.$83174135.0.3.1.1.0\">댓글 비추천하기</span><span class=\"num_txt\" data-reactid=\".0.0.0.4.3.$83174135.0.3.1.1.1\">3</span></button></span></div><a class=\"hide_btn\" data-reactid=\".0.0.0.4.3.$83174135.0.5\" data-tiara-action-name=\"댓글_덮기\" data-tiara-custom=\"alex.commentId=83174135\" href=\"javascript:\"><span class=\"img_cmt ico_hide\" data-reactid=\".0.0.0.4.3.$83174135.0.5.0\"><span class=\"screen_out\" data-reactid=\".0.0.0.4.3.$83174135.0.5.0.0\">댓글 덮기</span></span></a><button aria-expanded=\"false\" class=\"tooltip\" data-reactid=\".0.0.0.4.3.$83174135.0.6\" href=\"javascript:\"><span class=\"img_cmt tooltip_ico\" data-reactid=\".0.0.0.4.3.$83174135.0.6.0\"><span class=\"screen_out\" data-reactid=\".0.0.0.4.3.$83174135.0.6.0.0\">댓글 옵션 버튼 펼치기</span></span></button></div></li><li class=\"\" data-reactid=\".0.0.0.4.3.$83243609\" id=\"comment83243609\"><div class=\"cmt_info\" data-reactid=\".0.0.0.4.3.$83243609.0\"><strong class=\"tit_nick\" data-reactid=\".0.0.0.4.3.$83243609.0.0\"><noscript data-reactid=\".0.0.0.4.3.$83243609.0.0.0\"></noscript><span class=\"info_author\" data-reactid=\".0.0.0.4.3.$83243609.0.0.1\"><span class=\"link_nick\" data-reactid=\".0.0.0.4.3.$83243609.0.0.1.0\"><span class=\"img_cmt img_daum\" data-reactid=\".0.0.0.4.3.$83243609.0.0.1.0.0\"></span></span><a class=\"link_nick\" data-reactid=\".0.0.0.4.3.$83243609.0.0.1.1\" data-tiara-action-name=\"다른사람댓글활동_보기\" data-userid=\"-1040232\" href=\"javascript:\" role=\"button\"><span class=\"screen_out\" data-reactid=\".0.0.0.4.3.$83243609.0.0.1.1.0\">댓글 작성자</span><span data-reactid=\".0.0.0.4.3.$83243609.0.0.1.1.1\">creator</span><span class=\"screen_out\" data-reactid=\".0.0.0.4.3.$83243609.0.0.1.1.2\">, 댓글모아보기</span></a><span class=\"txt_date\" data-reactid=\".0.0.0.4.3.$83243609.0.0.1.2\">2016. 11. 20. 18:14</span></span></strong><p class=\"desc_txt font_size_\" data-reactid=\".0.0.0.4.3.$83243609.0.1:$desc-83243609\">서울대 나오면 뭐하노,그래봐야 헬조선인데</p><noscript data-reactid=\".0.0.0.4.3.$83243609.0.1:$icon-83243609\"></noscript><div class=\"box_reply\" data-reactid=\".0.0.0.4.3.$83243609.0.3\"><span class=\"box_inner\" data-reactid=\".0.0.0.4.3.$83243609.0.3.0\"><button aria-expended=\"false\" class=\"reply_count #reply ?c_title=%EB%8B%B5%EA%B8%80\" data-reactid=\".0.0.0.4.3.$83243609.0.3.0.0\" data-tiara-action-name=\"답글목록_열기\"><span data-reactid=\".0.0.0.4.3.$83243609.0.3.0.0.0\">답글 작성</span></button></span><span class=\"comment_recomm\" data-reactid=\".0.0.0.4.3.$83243609.0.3.1\"><button class=\"btn_g btn_recomm #like ?c_title=%EB%8C%93%EA%B8%80%EC%B0%AC%EC%84%B1\" data-reactid=\".0.0.0.4.3.$83243609.0.3.1.0\" data-tiara-action-name=\"댓글_찬성\" data-tiara-custom=\"alex.commentId=83243609\"><span class=\"img_cmt ico_recomm\" data-reactid=\".0.0.0.4.3.$83243609.0.3.1.0.0\">댓글 찬성하기</span><span class=\"num_txt\" data-reactid=\".0.0.0.4.3.$83243609.0.3.1.0.1\">5</span></button><button class=\"btn_g btn_oppose #dislike ?c_title=%EB%8C%93%EA%B8%80%EB%B0%98%EB%8C%80\" data-reactid=\".0.0.0.4.3.$83243609.0.3.1.1\" data-tiara-action-name=\"댓글_반대\" data-tiara-custom=\"alex.commentId=83243609\"><span class=\"img_cmt ico_oppose\" data-reactid=\".0.0.0.4.3.$83243609.0.3.1.1.0\">댓글 비추천하기</span><span class=\"num_txt\" data-reactid=\".0.0.0.4.3.$83243609.0.3.1.1.1\">0</span></button></span></div><a class=\"hide_btn\" data-reactid=\".0.0.0.4.3.$83243609.0.5\" data-tiara-action-name=\"댓글_덮기\" data-tiara-custom=\"alex.commentId=83243609\" href=\"javascript:\"><span class=\"img_cmt ico_hide\" data-reactid=\".0.0.0.4.3.$83243609.0.5.0\"><span class=\"screen_out\" data-reactid=\".0.0.0.4.3.$83243609.0.5.0.0\">댓글 덮기</span></span></a><button aria-expanded=\"false\" class=\"tooltip\" data-reactid=\".0.0.0.4.3.$83243609.0.6\" href=\"javascript:\"><span class=\"img_cmt tooltip_ico\" data-reactid=\".0.0.0.4.3.$83243609.0.6.0\"><span class=\"screen_out\" data-reactid=\".0.0.0.4.3.$83243609.0.6.0.0\">댓글 옵션 버튼 펼치기</span></span></button></div></li><li class=\"\" data-reactid=\".0.0.0.4.3.$83171532\" id=\"comment83171532\"><div class=\"cmt_info\" data-reactid=\".0.0.0.4.3.$83171532.0\"><strong class=\"tit_nick\" data-reactid=\".0.0.0.4.3.$83171532.0.0\"><noscript data-reactid=\".0.0.0.4.3.$83171532.0.0.0\"></noscript><span class=\"info_author\" data-reactid=\".0.0.0.4.3.$83171532.0.0.1\"><span class=\"link_nick\" data-reactid=\".0.0.0.4.3.$83171532.0.0.1.0\"><span class=\"img_cmt img_daum\" data-reactid=\".0.0.0.4.3.$83171532.0.0.1.0.0\"></span></span><a class=\"link_nick unclickable\" data-reactid=\".0.0.0.4.3.$83171532.0.0.1.1\" data-tiara-action-name=\"다른사람댓글활동_보기\" data-userid=\"-541772770\" href=\"javascript:\" role=\"button\"><span class=\"screen_out\" data-reactid=\".0.0.0.4.3.$83171532.0.0.1.1.0\">댓글 작성자</span><span data-reactid=\".0.0.0.4.3.$83171532.0.0.1.1.1\">탈퇴한 사용자</span><span class=\"screen_out\" data-reactid=\".0.0.0.4.3.$83171532.0.0.1.1.2\">, 댓글모아보기</span></a><span class=\"txt_date\" data-reactid=\".0.0.0.4.3.$83171532.0.0.1.2\">2016. 11. 20. 14:37</span></span></strong><p class=\"desc_txt font_size_\" data-reactid=\".0.0.0.4.3.$83171532.0.1:$desc-83171532\">서울대경영 갈바에야 연대 의예과 가겠다</p><noscript data-reactid=\".0.0.0.4.3.$83171532.0.1:$icon-83171532\"></noscript><div class=\"box_reply\" data-reactid=\".0.0.0.4.3.$83171532.0.3\"><span class=\"box_inner\" data-reactid=\".0.0.0.4.3.$83171532.0.3.0\"><button aria-expended=\"false\" class=\"reply_count #reply ?c_title=%EB%8B%B5%EA%B8%80\" data-reactid=\".0.0.0.4.3.$83171532.0.3.0.0\" data-tiara-action-name=\"답글목록_열기\"><span data-reactid=\".0.0.0.4.3.$83171532.0.3.0.0.0\"><span data-reactid=\".0.0.0.4.3.$83171532.0.3.0.0.0.0\">답글</span><span class=\"num_txt\" data-reactid=\".0.0.0.4.3.$83171532.0.3.0.0.0.1\">5</span></span></button></span><span class=\"comment_recomm\" data-reactid=\".0.0.0.4.3.$83171532.0.3.1\"><button class=\"btn_g btn_recomm #like ?c_title=%EB%8C%93%EA%B8%80%EC%B0%AC%EC%84%B1\" data-reactid=\".0.0.0.4.3.$83171532.0.3.1.0\" data-tiara-action-name=\"댓글_찬성\" data-tiara-custom=\"alex.commentId=83171532\"><span class=\"img_cmt ico_recomm\" data-reactid=\".0.0.0.4.3.$83171532.0.3.1.0.0\">댓글 찬성하기</span><span class=\"num_txt\" data-reactid=\".0.0.0.4.3.$83171532.0.3.1.0.1\">37</span></button><button class=\"btn_g btn_oppose #dislike ?c_title=%EB%8C%93%EA%B8%80%EB%B0%98%EB%8C%80\" data-reactid=\".0.0.0.4.3.$83171532.0.3.1.1\" data-tiara-action-name=\"댓글_반대\" data-tiara-custom=\"alex.commentId=83171532\"><span class=\"img_cmt ico_oppose\" data-reactid=\".0.0.0.4.3.$83171532.0.3.1.1.0\">댓글 비추천하기</span><span class=\"num_txt\" data-reactid=\".0.0.0.4.3.$83171532.0.3.1.1.1\">7</span></button></span></div><a class=\"hide_btn\" data-reactid=\".0.0.0.4.3.$83171532.0.5\" data-tiara-action-name=\"댓글_덮기\" data-tiara-custom=\"alex.commentId=83171532\" href=\"javascript:\"><span class=\"img_cmt ico_hide\" data-reactid=\".0.0.0.4.3.$83171532.0.5.0\"><span class=\"screen_out\" data-reactid=\".0.0.0.4.3.$83171532.0.5.0.0\">댓글 덮기</span></span></a><button aria-expanded=\"false\" class=\"tooltip\" data-reactid=\".0.0.0.4.3.$83171532.0.6\" href=\"javascript:\"><span class=\"img_cmt tooltip_ico\" data-reactid=\".0.0.0.4.3.$83171532.0.6.0\"><span class=\"screen_out\" data-reactid=\".0.0.0.4.3.$83171532.0.6.0.0\">댓글 옵션 버튼 펼치기</span></span></button></div></li><li class=\"\" data-reactid=\".0.0.0.4.3.$83171858\" id=\"comment83171858\"><div class=\"cmt_info\" data-reactid=\".0.0.0.4.3.$83171858.0\"><strong class=\"tit_nick\" data-reactid=\".0.0.0.4.3.$83171858.0.0\"><noscript data-reactid=\".0.0.0.4.3.$83171858.0.0.0\"></noscript><span class=\"info_author\" data-reactid=\".0.0.0.4.3.$83171858.0.0.1\"><span class=\"link_nick\" data-reactid=\".0.0.0.4.3.$83171858.0.0.1.0\"><span class=\"img_cmt img_daum\" data-reactid=\".0.0.0.4.3.$83171858.0.0.1.0.0\"></span></span><a class=\"link_nick\" data-reactid=\".0.0.0.4.3.$83171858.0.0.1.1\" data-tiara-action-name=\"다른사람댓글활동_보기\" data-userid=\"-88078299\" href=\"javascript:\" role=\"button\"><span class=\"screen_out\" data-reactid=\".0.0.0.4.3.$83171858.0.0.1.1.0\">댓글 작성자</span><span data-reactid=\".0.0.0.4.3.$83171858.0.0.1.1.1\">휴면 사용자</span><span class=\"screen_out\" data-reactid=\".0.0.0.4.3.$83171858.0.0.1.1.2\">, 댓글모아보기</span></a><span class=\"txt_date\" data-reactid=\".0.0.0.4.3.$83171858.0.0.1.2\">2016. 11. 20. 14:38</span></span></strong><p class=\"desc_txt font_size_\" data-reactid=\".0.0.0.4.3.$83171858.0.1:$desc-83171858\">저딴거 다 필요없고...\n",
      "엄마한테 부탁하면 250점 갖고도 서울대, 연세대 이대 들어간다..단, 엄마가 박근헤하고 친해야 한다는 조건하에서...</p><noscript data-reactid=\".0.0.0.4.3.$83171858.0.1:$icon-83171858\"></noscript><div class=\"box_reply\" data-reactid=\".0.0.0.4.3.$83171858.0.3\"><span class=\"box_inner\" data-reactid=\".0.0.0.4.3.$83171858.0.3.0\"><button aria-expended=\"false\" class=\"reply_count #reply ?c_title=%EB%8B%B5%EA%B8%80\" data-reactid=\".0.0.0.4.3.$83171858.0.3.0.0\" data-tiara-action-name=\"답글목록_열기\"><span data-reactid=\".0.0.0.4.3.$83171858.0.3.0.0.0\"><span data-reactid=\".0.0.0.4.3.$83171858.0.3.0.0.0.0\">답글</span><span class=\"num_txt\" data-reactid=\".0.0.0.4.3.$83171858.0.3.0.0.0.1\">1</span></span></button></span><span class=\"comment_recomm\" data-reactid=\".0.0.0.4.3.$83171858.0.3.1\"><button class=\"btn_g btn_recomm #like ?c_title=%EB%8C%93%EA%B8%80%EC%B0%AC%EC%84%B1\" data-reactid=\".0.0.0.4.3.$83171858.0.3.1.0\" data-tiara-action-name=\"댓글_찬성\" data-tiara-custom=\"alex.commentId=83171858\"><span class=\"img_cmt ico_recomm\" data-reactid=\".0.0.0.4.3.$83171858.0.3.1.0.0\">댓글 찬성하기</span><span class=\"num_txt\" data-reactid=\".0.0.0.4.3.$83171858.0.3.1.0.1\">51</span></button><button class=\"btn_g btn_oppose #dislike ?c_title=%EB%8C%93%EA%B8%80%EB%B0%98%EB%8C%80\" data-reactid=\".0.0.0.4.3.$83171858.0.3.1.1\" data-tiara-action-name=\"댓글_반대\" data-tiara-custom=\"alex.commentId=83171858\"><span class=\"img_cmt ico_oppose\" data-reactid=\".0.0.0.4.3.$83171858.0.3.1.1.0\">댓글 비추천하기</span><span class=\"num_txt\" data-reactid=\".0.0.0.4.3.$83171858.0.3.1.1.1\">2</span></button></span></div><a class=\"hide_btn\" data-reactid=\".0.0.0.4.3.$83171858.0.5\" data-tiara-action-name=\"댓글_덮기\" data-tiara-custom=\"alex.commentId=83171858\" href=\"javascript:\"><span class=\"img_cmt ico_hide\" data-reactid=\".0.0.0.4.3.$83171858.0.5.0\"><span class=\"screen_out\" data-reactid=\".0.0.0.4.3.$83171858.0.5.0.0\">댓글 덮기</span></span></a><button aria-expanded=\"false\" class=\"tooltip\" data-reactid=\".0.0.0.4.3.$83171858.0.6\" href=\"javascript:\"><span class=\"img_cmt tooltip_ico\" data-reactid=\".0.0.0.4.3.$83171858.0.6.0\"><span class=\"screen_out\" data-reactid=\".0.0.0.4.3.$83171858.0.6.0.0\">댓글 옵션 버튼 펼치기</span></span></button></div></li><li class=\"\" data-reactid=\".0.0.0.4.3.$83159876\" id=\"comment83159876\"><div class=\"cmt_info\" data-reactid=\".0.0.0.4.3.$83159876.0\"><strong class=\"tit_nick\" data-reactid=\".0.0.0.4.3.$83159876.0.0\"><noscript data-reactid=\".0.0.0.4.3.$83159876.0.0.0\"></noscript><span class=\"info_author\" data-reactid=\".0.0.0.4.3.$83159876.0.0.1\"><span class=\"link_nick\" data-reactid=\".0.0.0.4.3.$83159876.0.0.1.0\"><span class=\"img_cmt img_daum\" data-reactid=\".0.0.0.4.3.$83159876.0.0.1.0.0\"></span></span><a class=\"link_nick unclickable\" data-reactid=\".0.0.0.4.3.$83159876.0.0.1.1\" data-tiara-action-name=\"다른사람댓글활동_보기\" data-userid=\"15945837\" href=\"javascript:\" role=\"button\"><span class=\"screen_out\" data-reactid=\".0.0.0.4.3.$83159876.0.0.1.1.0\">댓글 작성자</span><span data-reactid=\".0.0.0.4.3.$83159876.0.0.1.1.1\">탈퇴한 사용자</span><span class=\"screen_out\" data-reactid=\".0.0.0.4.3.$83159876.0.0.1.1.2\">, 댓글모아보기</span></a><span class=\"txt_date\" data-reactid=\".0.0.0.4.3.$83159876.0.0.1.2\">2016. 11. 20. 14:05</span></span></strong><p class=\"desc_txt font_size_\" data-reactid=\".0.0.0.4.3.$83159876.0.1:$desc-83159876\">우리나라가 발전할려면 의대가 최고 점수가 될게 아니라 공대 자연대등이 최고 경쟁률이 되어야한다. 그리고 미국같이 의대를 4년재 대학 졸업생들 누구나 시험봐서 의대를 갈수 있는 길을 만들어줘야함. 참고로 미국은 공대 예술대 문과대 상관없이 의대 지원 가능함. 고등학교 졸업하자 마자 의대 직행할 길이 없슴.</p><noscript data-reactid=\".0.0.0.4.3.$83159876.0.1:$icon-83159876\"></noscript><div class=\"box_reply\" data-reactid=\".0.0.0.4.3.$83159876.0.3\"><span class=\"box_inner\" data-reactid=\".0.0.0.4.3.$83159876.0.3.0\"><button aria-expended=\"false\" class=\"reply_count #reply ?c_title=%EB%8B%B5%EA%B8%80\" data-reactid=\".0.0.0.4.3.$83159876.0.3.0.0\" data-tiara-action-name=\"답글목록_열기\"><span data-reactid=\".0.0.0.4.3.$83159876.0.3.0.0.0\"><span data-reactid=\".0.0.0.4.3.$83159876.0.3.0.0.0.0\">답글</span><span class=\"num_txt\" data-reactid=\".0.0.0.4.3.$83159876.0.3.0.0.0.1\">5</span></span></button></span><span class=\"comment_recomm\" data-reactid=\".0.0.0.4.3.$83159876.0.3.1\"><button class=\"btn_g btn_recomm #like ?c_title=%EB%8C%93%EA%B8%80%EC%B0%AC%EC%84%B1\" data-reactid=\".0.0.0.4.3.$83159876.0.3.1.0\" data-tiara-action-name=\"댓글_찬성\" data-tiara-custom=\"alex.commentId=83159876\"><span class=\"img_cmt ico_recomm\" data-reactid=\".0.0.0.4.3.$83159876.0.3.1.0.0\">댓글 찬성하기</span><span class=\"num_txt\" data-reactid=\".0.0.0.4.3.$83159876.0.3.1.0.1\">74</span></button><button class=\"btn_g btn_oppose #dislike ?c_title=%EB%8C%93%EA%B8%80%EB%B0%98%EB%8C%80\" data-reactid=\".0.0.0.4.3.$83159876.0.3.1.1\" data-tiara-action-name=\"댓글_반대\" data-tiara-custom=\"alex.commentId=83159876\"><span class=\"img_cmt ico_oppose\" data-reactid=\".0.0.0.4.3.$83159876.0.3.1.1.0\">댓글 비추천하기</span><span class=\"num_txt\" data-reactid=\".0.0.0.4.3.$83159876.0.3.1.1.1\">11</span></button></span></div><a class=\"hide_btn\" data-reactid=\".0.0.0.4.3.$83159876.0.5\" data-tiara-action-name=\"댓글_덮기\" data-tiara-custom=\"alex.commentId=83159876\" href=\"javascript:\"><span class=\"img_cmt ico_hide\" data-reactid=\".0.0.0.4.3.$83159876.0.5.0\"><span class=\"screen_out\" data-reactid=\".0.0.0.4.3.$83159876.0.5.0.0\">댓글 덮기</span></span></a><button aria-expanded=\"false\" class=\"tooltip\" data-reactid=\".0.0.0.4.3.$83159876.0.6\" href=\"javascript:\"><span class=\"img_cmt tooltip_ico\" data-reactid=\".0.0.0.4.3.$83159876.0.6.0\"><span class=\"screen_out\" data-reactid=\".0.0.0.4.3.$83159876.0.6.0.0\">댓글 옵션 버튼 펼치기</span></span></button></div></li><li class=\"\" data-reactid=\".0.0.0.4.3.$83179930\" id=\"comment83179930\"><div class=\"cmt_info\" data-reactid=\".0.0.0.4.3.$83179930.0\"><strong class=\"tit_nick\" data-reactid=\".0.0.0.4.3.$83179930.0.0\"><noscript data-reactid=\".0.0.0.4.3.$83179930.0.0.0\"></noscript><span class=\"info_author\" data-reactid=\".0.0.0.4.3.$83179930.0.0.1\"><span class=\"link_nick\" data-reactid=\".0.0.0.4.3.$83179930.0.0.1.0\"><span class=\"img_cmt img_daum\" data-reactid=\".0.0.0.4.3.$83179930.0.0.1.0.0\"></span></span><a class=\"link_nick\" data-reactid=\".0.0.0.4.3.$83179930.0.0.1.1\" data-tiara-action-name=\"다른사람댓글활동_보기\" data-userid=\"-74582450\" href=\"javascript:\" role=\"button\"><span class=\"screen_out\" data-reactid=\".0.0.0.4.3.$83179930.0.0.1.1.0\">댓글 작성자</span><span data-reactid=\".0.0.0.4.3.$83179930.0.0.1.1.1\">aiq51</span><span class=\"screen_out\" data-reactid=\".0.0.0.4.3.$83179930.0.0.1.1.2\">, 댓글모아보기</span></a><span class=\"txt_date\" data-reactid=\".0.0.0.4.3.$83179930.0.0.1.2\">2016. 11. 20. 15:04</span></span></strong><p class=\"desc_txt font_size_\" data-reactid=\".0.0.0.4.3.$83179930.0.1:$desc-83179930\">의치대를 이렇게 좋은 학생들이 가는데 일본 미달 치대 가서 한국에 와 똑같이 개업하는 것 말이 돼? 무슨 대책을 좀 세워 봐!</p><noscript data-reactid=\".0.0.0.4.3.$83179930.0.1:$icon-83179930\"></noscript><div class=\"box_reply\" data-reactid=\".0.0.0.4.3.$83179930.0.3\"><span class=\"box_inner\" data-reactid=\".0.0.0.4.3.$83179930.0.3.0\"><button aria-expended=\"false\" class=\"reply_count #reply ?c_title=%EB%8B%B5%EA%B8%80\" data-reactid=\".0.0.0.4.3.$83179930.0.3.0.0\" data-tiara-action-name=\"답글목록_열기\"><span data-reactid=\".0.0.0.4.3.$83179930.0.3.0.0.0\">답글 작성</span></button></span><span class=\"comment_recomm\" data-reactid=\".0.0.0.4.3.$83179930.0.3.1\"><button class=\"btn_g btn_recomm #like ?c_title=%EB%8C%93%EA%B8%80%EC%B0%AC%EC%84%B1\" data-reactid=\".0.0.0.4.3.$83179930.0.3.1.0\" data-tiara-action-name=\"댓글_찬성\" data-tiara-custom=\"alex.commentId=83179930\"><span class=\"img_cmt ico_recomm\" data-reactid=\".0.0.0.4.3.$83179930.0.3.1.0.0\">댓글 찬성하기</span><span class=\"num_txt\" data-reactid=\".0.0.0.4.3.$83179930.0.3.1.0.1\">25</span></button><button class=\"btn_g btn_oppose #dislike ?c_title=%EB%8C%93%EA%B8%80%EB%B0%98%EB%8C%80\" data-reactid=\".0.0.0.4.3.$83179930.0.3.1.1\" data-tiara-action-name=\"댓글_반대\" data-tiara-custom=\"alex.commentId=83179930\"><span class=\"img_cmt ico_oppose\" data-reactid=\".0.0.0.4.3.$83179930.0.3.1.1.0\">댓글 비추천하기</span><span class=\"num_txt\" data-reactid=\".0.0.0.4.3.$83179930.0.3.1.1.1\">0</span></button></span></div><a class=\"hide_btn\" data-reactid=\".0.0.0.4.3.$83179930.0.5\" data-tiara-action-name=\"댓글_덮기\" data-tiara-custom=\"alex.commentId=83179930\" href=\"javascript:\"><span class=\"img_cmt ico_hide\" data-reactid=\".0.0.0.4.3.$83179930.0.5.0\"><span class=\"screen_out\" data-reactid=\".0.0.0.4.3.$83179930.0.5.0.0\">댓글 덮기</span></span></a><button aria-expanded=\"false\" class=\"tooltip\" data-reactid=\".0.0.0.4.3.$83179930.0.6\" href=\"javascript:\"><span class=\"img_cmt tooltip_ico\" data-reactid=\".0.0.0.4.3.$83179930.0.6.0\"><span class=\"screen_out\" data-reactid=\".0.0.0.4.3.$83179930.0.6.0.0\">댓글 옵션 버튼 펼치기</span></span></button></div></li><li class=\"\" data-reactid=\".0.0.0.4.3.$83157486\" id=\"comment83157486\"><div class=\"cmt_info\" data-reactid=\".0.0.0.4.3.$83157486.0\"><strong class=\"tit_nick\" data-reactid=\".0.0.0.4.3.$83157486.0.0\"><noscript data-reactid=\".0.0.0.4.3.$83157486.0.0.0\"></noscript><span class=\"info_author\" data-reactid=\".0.0.0.4.3.$83157486.0.0.1\"><span class=\"link_nick\" data-reactid=\".0.0.0.4.3.$83157486.0.0.1.0\"><span class=\"img_cmt img_daum\" data-reactid=\".0.0.0.4.3.$83157486.0.0.1.0.0\"></span></span><a class=\"link_nick\" data-reactid=\".0.0.0.4.3.$83157486.0.0.1.1\" data-tiara-action-name=\"다른사람댓글활동_보기\" data-userid=\"-44303529\" href=\"javascript:\" role=\"button\"><span class=\"screen_out\" data-reactid=\".0.0.0.4.3.$83157486.0.0.1.1.0\">댓글 작성자</span><span data-reactid=\".0.0.0.4.3.$83157486.0.0.1.1.1\">네리야</span><span class=\"screen_out\" data-reactid=\".0.0.0.4.3.$83157486.0.0.1.1.2\">, 댓글모아보기</span></a><span class=\"txt_date\" data-reactid=\".0.0.0.4.3.$83157486.0.0.1.2\">2016. 11. 20. 13:58</span></span></strong><p class=\"desc_txt font_size_\" data-reactid=\".0.0.0.4.3.$83157486.0.1:$desc-83157486\">저리 열심히 공부했는데\n",
      "꼴통들은 수능보다 빽\n",
      "빽하고  욕해주고싶은현실</p><noscript data-reactid=\".0.0.0.4.3.$83157486.0.1:$icon-83157486\"></noscript><div class=\"box_reply\" data-reactid=\".0.0.0.4.3.$83157486.0.3\"><span class=\"box_inner\" data-reactid=\".0.0.0.4.3.$83157486.0.3.0\"><button aria-expended=\"false\" class=\"reply_count #reply ?c_title=%EB%8B%B5%EA%B8%80\" data-reactid=\".0.0.0.4.3.$83157486.0.3.0.0\" data-tiara-action-name=\"답글목록_열기\"><span data-reactid=\".0.0.0.4.3.$83157486.0.3.0.0.0\">답글 작성</span></button></span><span class=\"comment_recomm\" data-reactid=\".0.0.0.4.3.$83157486.0.3.1\"><button class=\"btn_g btn_recomm #like ?c_title=%EB%8C%93%EA%B8%80%EC%B0%AC%EC%84%B1\" data-reactid=\".0.0.0.4.3.$83157486.0.3.1.0\" data-tiara-action-name=\"댓글_찬성\" data-tiara-custom=\"alex.commentId=83157486\"><span class=\"img_cmt ico_recomm\" data-reactid=\".0.0.0.4.3.$83157486.0.3.1.0.0\">댓글 찬성하기</span><span class=\"num_txt\" data-reactid=\".0.0.0.4.3.$83157486.0.3.1.0.1\">355</span></button><button class=\"btn_g btn_oppose #dislike ?c_title=%EB%8C%93%EA%B8%80%EB%B0%98%EB%8C%80\" data-reactid=\".0.0.0.4.3.$83157486.0.3.1.1\" data-tiara-action-name=\"댓글_반대\" data-tiara-custom=\"alex.commentId=83157486\"><span class=\"img_cmt ico_oppose\" data-reactid=\".0.0.0.4.3.$83157486.0.3.1.1.0\">댓글 비추천하기</span><span class=\"num_txt\" data-reactid=\".0.0.0.4.3.$83157486.0.3.1.1.1\">8</span></button></span></div><a class=\"hide_btn\" data-reactid=\".0.0.0.4.3.$83157486.0.5\" data-tiara-action-name=\"댓글_덮기\" data-tiara-custom=\"alex.commentId=83157486\" href=\"javascript:\"><span class=\"img_cmt ico_hide\" data-reactid=\".0.0.0.4.3.$83157486.0.5.0\"><span class=\"screen_out\" data-reactid=\".0.0.0.4.3.$83157486.0.5.0.0\">댓글 덮기</span></span></a><button aria-expanded=\"false\" class=\"tooltip\" data-reactid=\".0.0.0.4.3.$83157486.0.6\" href=\"javascript:\"><span class=\"img_cmt tooltip_ico\" data-reactid=\".0.0.0.4.3.$83157486.0.6.0\"><span class=\"screen_out\" data-reactid=\".0.0.0.4.3.$83157486.0.6.0.0\">댓글 옵션 버튼 펼치기</span></span></button></div></li><li class=\"\" data-reactid=\".0.0.0.4.3.$83178230\" id=\"comment83178230\"><div class=\"cmt_info\" data-reactid=\".0.0.0.4.3.$83178230.0\"><strong class=\"tit_nick\" data-reactid=\".0.0.0.4.3.$83178230.0.0\"><noscript data-reactid=\".0.0.0.4.3.$83178230.0.0.0\"></noscript><span class=\"info_author\" data-reactid=\".0.0.0.4.3.$83178230.0.0.1\"><span class=\"link_nick\" data-reactid=\".0.0.0.4.3.$83178230.0.0.1.0\"><span class=\"img_cmt img_daum\" data-reactid=\".0.0.0.4.3.$83178230.0.0.1.0.0\"></span></span><a class=\"link_nick unclickable\" data-reactid=\".0.0.0.4.3.$83178230.0.0.1.1\" data-tiara-action-name=\"다른사람댓글활동_보기\" data-userid=\"-73564773\" href=\"javascript:\" role=\"button\"><span class=\"screen_out\" data-reactid=\".0.0.0.4.3.$83178230.0.0.1.1.0\">댓글 작성자</span><span data-reactid=\".0.0.0.4.3.$83178230.0.0.1.1.1\">탈퇴한 사용자</span><span class=\"screen_out\" data-reactid=\".0.0.0.4.3.$83178230.0.0.1.1.2\">, 댓글모아보기</span></a><span class=\"txt_date\" data-reactid=\".0.0.0.4.3.$83178230.0.0.1.2\">2016. 11. 20. 14:58</span></span></strong><p class=\"desc_txt font_size_\" data-reactid=\".0.0.0.4.3.$83178230.0.1:$desc-83178230\">나, 30년 전에도  커트 라인 만들고 지랄 했는데, 아직도 저 지랄 이구나. 변한 게 하나도 없구나...모든게 점수로 매겨지네...희망이 안 보인다,,</p><noscript data-reactid=\".0.0.0.4.3.$83178230.0.1:$icon-83178230\"></noscript><div class=\"box_reply\" data-reactid=\".0.0.0.4.3.$83178230.0.3\"><span class=\"box_inner\" data-reactid=\".0.0.0.4.3.$83178230.0.3.0\"><button aria-expended=\"false\" class=\"reply_count #reply ?c_title=%EB%8B%B5%EA%B8%80\" data-reactid=\".0.0.0.4.3.$83178230.0.3.0.0\" data-tiara-action-name=\"답글목록_열기\"><span data-reactid=\".0.0.0.4.3.$83178230.0.3.0.0.0\">답글 작성</span></button></span><span class=\"comment_recomm\" data-reactid=\".0.0.0.4.3.$83178230.0.3.1\"><button class=\"btn_g btn_recomm #like ?c_title=%EB%8C%93%EA%B8%80%EC%B0%AC%EC%84%B1\" data-reactid=\".0.0.0.4.3.$83178230.0.3.1.0\" data-tiara-action-name=\"댓글_찬성\" data-tiara-custom=\"alex.commentId=83178230\"><span class=\"img_cmt ico_recomm\" data-reactid=\".0.0.0.4.3.$83178230.0.3.1.0.0\">댓글 찬성하기</span><span class=\"num_txt\" data-reactid=\".0.0.0.4.3.$83178230.0.3.1.0.1\">16</span></button><button class=\"btn_g btn_oppose #dislike ?c_title=%EB%8C%93%EA%B8%80%EB%B0%98%EB%8C%80\" data-reactid=\".0.0.0.4.3.$83178230.0.3.1.1\" data-tiara-action-name=\"댓글_반대\" data-tiara-custom=\"alex.commentId=83178230\"><span class=\"img_cmt ico_oppose\" data-reactid=\".0.0.0.4.3.$83178230.0.3.1.1.0\">댓글 비추천하기</span><span class=\"num_txt\" data-reactid=\".0.0.0.4.3.$83178230.0.3.1.1.1\">4</span></button></span></div><a class=\"hide_btn\" data-reactid=\".0.0.0.4.3.$83178230.0.5\" data-tiara-action-name=\"댓글_덮기\" data-tiara-custom=\"alex.commentId=83178230\" href=\"javascript:\"><span class=\"img_cmt ico_hide\" data-reactid=\".0.0.0.4.3.$83178230.0.5.0\"><span class=\"screen_out\" data-reactid=\".0.0.0.4.3.$83178230.0.5.0.0\">댓글 덮기</span></span></a><button aria-expanded=\"false\" class=\"tooltip\" data-reactid=\".0.0.0.4.3.$83178230.0.6\" href=\"javascript:\"><span class=\"img_cmt tooltip_ico\" data-reactid=\".0.0.0.4.3.$83178230.0.6.0\"><span class=\"screen_out\" data-reactid=\".0.0.0.4.3.$83178230.0.6.0.0\">댓글 옵션 버튼 펼치기</span></span></button></div></li><li class=\"\" data-reactid=\".0.0.0.4.3.$83244318\" id=\"comment83244318\"><div class=\"cmt_info\" data-reactid=\".0.0.0.4.3.$83244318.0\"><strong class=\"tit_nick\" data-reactid=\".0.0.0.4.3.$83244318.0.0\"><noscript data-reactid=\".0.0.0.4.3.$83244318.0.0.0\"></noscript><span class=\"info_author\" data-reactid=\".0.0.0.4.3.$83244318.0.0.1\"><span class=\"link_nick\" data-reactid=\".0.0.0.4.3.$83244318.0.0.1.0\"><span class=\"img_cmt img_daum\" data-reactid=\".0.0.0.4.3.$83244318.0.0.1.0.0\"></span></span><a class=\"link_nick\" data-reactid=\".0.0.0.4.3.$83244318.0.0.1.1\" data-tiara-action-name=\"다른사람댓글활동_보기\" data-userid=\"-1040232\" href=\"javascript:\" role=\"button\"><span class=\"screen_out\" data-reactid=\".0.0.0.4.3.$83244318.0.0.1.1.0\">댓글 작성자</span><span data-reactid=\".0.0.0.4.3.$83244318.0.0.1.1.1\">creator</span><span class=\"screen_out\" data-reactid=\".0.0.0.4.3.$83244318.0.0.1.1.2\">, 댓글모아보기</span></a><span class=\"txt_date\" data-reactid=\".0.0.0.4.3.$83244318.0.0.1.2\">2016. 11. 20. 18:16</span></span></strong><p class=\"desc_txt font_size_\" data-reactid=\".0.0.0.4.3.$83244318.0.1:$desc-83244318\">서울대 의대 나오면 뭐하노,그래봐야 제약사 돈 뜯어먹기 바쁜데</p><noscript data-reactid=\".0.0.0.4.3.$83244318.0.1:$icon-83244318\"></noscript><div class=\"box_reply\" data-reactid=\".0.0.0.4.3.$83244318.0.3\"><span class=\"box_inner\" data-reactid=\".0.0.0.4.3.$83244318.0.3.0\"><button aria-expended=\"false\" class=\"reply_count #reply ?c_title=%EB%8B%B5%EA%B8%80\" data-reactid=\".0.0.0.4.3.$83244318.0.3.0.0\" data-tiara-action-name=\"답글목록_열기\"><span data-reactid=\".0.0.0.4.3.$83244318.0.3.0.0.0\">답글 작성</span></button></span><span class=\"comment_recomm\" data-reactid=\".0.0.0.4.3.$83244318.0.3.1\"><button class=\"btn_g btn_recomm #like ?c_title=%EB%8C%93%EA%B8%80%EC%B0%AC%EC%84%B1\" data-reactid=\".0.0.0.4.3.$83244318.0.3.1.0\" data-tiara-action-name=\"댓글_찬성\" data-tiara-custom=\"alex.commentId=83244318\"><span class=\"img_cmt ico_recomm\" data-reactid=\".0.0.0.4.3.$83244318.0.3.1.0.0\">댓글 찬성하기</span><span class=\"num_txt\" data-reactid=\".0.0.0.4.3.$83244318.0.3.1.0.1\">6</span></button><button class=\"btn_g btn_oppose #dislike ?c_title=%EB%8C%93%EA%B8%80%EB%B0%98%EB%8C%80\" data-reactid=\".0.0.0.4.3.$83244318.0.3.1.1\" data-tiara-action-name=\"댓글_반대\" data-tiara-custom=\"alex.commentId=83244318\"><span class=\"img_cmt ico_oppose\" data-reactid=\".0.0.0.4.3.$83244318.0.3.1.1.0\">댓글 비추천하기</span><span class=\"num_txt\" data-reactid=\".0.0.0.4.3.$83244318.0.3.1.1.1\">1</span></button></span></div><a class=\"hide_btn\" data-reactid=\".0.0.0.4.3.$83244318.0.5\" data-tiara-action-name=\"댓글_덮기\" data-tiara-custom=\"alex.commentId=83244318\" href=\"javascript:\"><span class=\"img_cmt ico_hide\" data-reactid=\".0.0.0.4.3.$83244318.0.5.0\"><span class=\"screen_out\" data-reactid=\".0.0.0.4.3.$83244318.0.5.0.0\">댓글 덮기</span></span></a><button aria-expanded=\"false\" class=\"tooltip\" data-reactid=\".0.0.0.4.3.$83244318.0.6\" href=\"javascript:\"><span class=\"img_cmt tooltip_ico\" data-reactid=\".0.0.0.4.3.$83244318.0.6.0\"><span class=\"screen_out\" data-reactid=\".0.0.0.4.3.$83244318.0.6.0.0\">댓글 옵션 버튼 펼치기</span></span></button></div></li><li class=\"\" data-reactid=\".0.0.0.4.3.$83177824\" id=\"comment83177824\"><div class=\"cmt_info\" data-reactid=\".0.0.0.4.3.$83177824.0\"><strong class=\"tit_nick\" data-reactid=\".0.0.0.4.3.$83177824.0.0\"><noscript data-reactid=\".0.0.0.4.3.$83177824.0.0.0\"></noscript><span class=\"info_author\" data-reactid=\".0.0.0.4.3.$83177824.0.0.1\"><span class=\"link_nick\" data-reactid=\".0.0.0.4.3.$83177824.0.0.1.0\"><span class=\"img_cmt img_daum\" data-reactid=\".0.0.0.4.3.$83177824.0.0.1.0.0\"></span></span><a class=\"link_nick\" data-reactid=\".0.0.0.4.3.$83177824.0.0.1.1\" data-tiara-action-name=\"다른사람댓글활동_보기\" data-userid=\"4002363\" href=\"javascript:\" role=\"button\"><span class=\"screen_out\" data-reactid=\".0.0.0.4.3.$83177824.0.0.1.1.0\">댓글 작성자</span><span data-reactid=\".0.0.0.4.3.$83177824.0.0.1.1.1\">아르티르</span><span class=\"screen_out\" data-reactid=\".0.0.0.4.3.$83177824.0.0.1.1.2\">, 댓글모아보기</span></a><span class=\"txt_date\" data-reactid=\".0.0.0.4.3.$83177824.0.0.1.2\">2016. 11. 20. 14:57</span></span></strong><p class=\"desc_txt font_size_\" data-reactid=\".0.0.0.4.3.$83177824.0.1:$desc-83177824\">지방의대 진짜 가기 싫은데 인서울의대는 너무 간당간당.. 원서 단지고 그냥 내년 수능 봐야겠네</p><noscript data-reactid=\".0.0.0.4.3.$83177824.0.1:$icon-83177824\"></noscript><div class=\"box_reply\" data-reactid=\".0.0.0.4.3.$83177824.0.3\"><span class=\"box_inner\" data-reactid=\".0.0.0.4.3.$83177824.0.3.0\"><button aria-expended=\"false\" class=\"reply_count #reply ?c_title=%EB%8B%B5%EA%B8%80\" data-reactid=\".0.0.0.4.3.$83177824.0.3.0.0\" data-tiara-action-name=\"답글목록_열기\"><span data-reactid=\".0.0.0.4.3.$83177824.0.3.0.0.0\">답글 작성</span></button></span><span class=\"comment_recomm\" data-reactid=\".0.0.0.4.3.$83177824.0.3.1\"><button class=\"btn_g btn_recomm #like ?c_title=%EB%8C%93%EA%B8%80%EC%B0%AC%EC%84%B1\" data-reactid=\".0.0.0.4.3.$83177824.0.3.1.0\" data-tiara-action-name=\"댓글_찬성\" data-tiara-custom=\"alex.commentId=83177824\"><span class=\"img_cmt ico_recomm\" data-reactid=\".0.0.0.4.3.$83177824.0.3.1.0.0\">댓글 찬성하기</span><span class=\"num_txt\" data-reactid=\".0.0.0.4.3.$83177824.0.3.1.0.1\">8</span></button><button class=\"btn_g btn_oppose #dislike ?c_title=%EB%8C%93%EA%B8%80%EB%B0%98%EB%8C%80\" data-reactid=\".0.0.0.4.3.$83177824.0.3.1.1\" data-tiara-action-name=\"댓글_반대\" data-tiara-custom=\"alex.commentId=83177824\"><span class=\"img_cmt ico_oppose\" data-reactid=\".0.0.0.4.3.$83177824.0.3.1.1.0\">댓글 비추천하기</span><span class=\"num_txt\" data-reactid=\".0.0.0.4.3.$83177824.0.3.1.1.1\">6</span></button></span></div><a class=\"hide_btn\" data-reactid=\".0.0.0.4.3.$83177824.0.5\" data-tiara-action-name=\"댓글_덮기\" data-tiara-custom=\"alex.commentId=83177824\" href=\"javascript:\"><span class=\"img_cmt ico_hide\" data-reactid=\".0.0.0.4.3.$83177824.0.5.0\"><span class=\"screen_out\" data-reactid=\".0.0.0.4.3.$83177824.0.5.0.0\">댓글 덮기</span></span></a><button aria-expanded=\"false\" class=\"tooltip\" data-reactid=\".0.0.0.4.3.$83177824.0.6\" href=\"javascript:\"><span class=\"img_cmt tooltip_ico\" data-reactid=\".0.0.0.4.3.$83177824.0.6.0\"><span class=\"screen_out\" data-reactid=\".0.0.0.4.3.$83177824.0.6.0.0\">댓글 옵션 버튼 펼치기</span></span></button></div></li><li class=\"\" data-reactid=\".0.0.0.4.3.$83174072\" id=\"comment83174072\"><div class=\"cmt_info\" data-reactid=\".0.0.0.4.3.$83174072.0\"><strong class=\"tit_nick\" data-reactid=\".0.0.0.4.3.$83174072.0.0\"><noscript data-reactid=\".0.0.0.4.3.$83174072.0.0.0\"></noscript><span class=\"info_author\" data-reactid=\".0.0.0.4.3.$83174072.0.0.1\"><span class=\"link_nick\" data-reactid=\".0.0.0.4.3.$83174072.0.0.1.0\"><span class=\"img_cmt img_daum\" data-reactid=\".0.0.0.4.3.$83174072.0.0.1.0.0\"></span></span><a class=\"link_nick\" data-reactid=\".0.0.0.4.3.$83174072.0.0.1.1\" data-tiara-action-name=\"다른사람댓글활동_보기\" data-userid=\"-716437\" href=\"javascript:\" role=\"button\"><span class=\"screen_out\" data-reactid=\".0.0.0.4.3.$83174072.0.0.1.1.0\">댓글 작성자</span><span data-reactid=\".0.0.0.4.3.$83174072.0.0.1.1.1\">elephant123</span><span class=\"screen_out\" data-reactid=\".0.0.0.4.3.$83174072.0.0.1.1.2\">, 댓글모아보기</span></a><span class=\"txt_date\" data-reactid=\".0.0.0.4.3.$83174072.0.0.1.2\">2016. 11. 20. 14:44</span></span></strong><p class=\"desc_txt font_size_\" data-reactid=\".0.0.0.4.3.$83174072.0.1:$desc-83174072\">의사지만 의대는 여전히 극심한 거품이네요. 저거 보다 30점 낮아도 의대공부 문제 없는데.. 여전히 IMF 효과는 이어지고 있네요</p><noscript data-reactid=\".0.0.0.4.3.$83174072.0.1:$icon-83174072\"></noscript><div class=\"box_reply\" data-reactid=\".0.0.0.4.3.$83174072.0.3\"><span class=\"box_inner\" data-reactid=\".0.0.0.4.3.$83174072.0.3.0\"><button aria-expended=\"false\" class=\"reply_count #reply ?c_title=%EB%8B%B5%EA%B8%80\" data-reactid=\".0.0.0.4.3.$83174072.0.3.0.0\" data-tiara-action-name=\"답글목록_열기\"><span data-reactid=\".0.0.0.4.3.$83174072.0.3.0.0.0\">답글 작성</span></button></span><span class=\"comment_recomm\" data-reactid=\".0.0.0.4.3.$83174072.0.3.1\"><button class=\"btn_g btn_recomm #like ?c_title=%EB%8C%93%EA%B8%80%EC%B0%AC%EC%84%B1\" data-reactid=\".0.0.0.4.3.$83174072.0.3.1.0\" data-tiara-action-name=\"댓글_찬성\" data-tiara-custom=\"alex.commentId=83174072\"><span class=\"img_cmt ico_recomm\" data-reactid=\".0.0.0.4.3.$83174072.0.3.1.0.0\">댓글 찬성하기</span><span class=\"num_txt\" data-reactid=\".0.0.0.4.3.$83174072.0.3.1.0.1\">30</span></button><button class=\"btn_g btn_oppose #dislike ?c_title=%EB%8C%93%EA%B8%80%EB%B0%98%EB%8C%80\" data-reactid=\".0.0.0.4.3.$83174072.0.3.1.1\" data-tiara-action-name=\"댓글_반대\" data-tiara-custom=\"alex.commentId=83174072\"><span class=\"img_cmt ico_oppose\" data-reactid=\".0.0.0.4.3.$83174072.0.3.1.1.0\">댓글 비추천하기</span><span class=\"num_txt\" data-reactid=\".0.0.0.4.3.$83174072.0.3.1.1.1\">4</span></button></span></div><a class=\"hide_btn\" data-reactid=\".0.0.0.4.3.$83174072.0.5\" data-tiara-action-name=\"댓글_덮기\" data-tiara-custom=\"alex.commentId=83174072\" href=\"javascript:\"><span class=\"img_cmt ico_hide\" data-reactid=\".0.0.0.4.3.$83174072.0.5.0\"><span class=\"screen_out\" data-reactid=\".0.0.0.4.3.$83174072.0.5.0.0\">댓글 덮기</span></span></a><button aria-expanded=\"false\" class=\"tooltip\" data-reactid=\".0.0.0.4.3.$83174072.0.6\" href=\"javascript:\"><span class=\"img_cmt tooltip_ico\" data-reactid=\".0.0.0.4.3.$83174072.0.6.0\"><span class=\"screen_out\" data-reactid=\".0.0.0.4.3.$83174072.0.6.0.0\">댓글 옵션 버튼 펼치기</span></span></button></div></li><li class=\"\" data-reactid=\".0.0.0.4.3.$83177395\" id=\"comment83177395\"><div class=\"cmt_info\" data-reactid=\".0.0.0.4.3.$83177395.0\"><strong class=\"tit_nick\" data-reactid=\".0.0.0.4.3.$83177395.0.0\"><noscript data-reactid=\".0.0.0.4.3.$83177395.0.0.0\"></noscript><span class=\"info_author\" data-reactid=\".0.0.0.4.3.$83177395.0.0.1\"><span class=\"link_nick\" data-reactid=\".0.0.0.4.3.$83177395.0.0.1.0\"><span class=\"img_cmt img_daum\" data-reactid=\".0.0.0.4.3.$83177395.0.0.1.0.0\"></span></span><a class=\"link_nick\" data-reactid=\".0.0.0.4.3.$83177395.0.0.1.1\" data-tiara-action-name=\"다른사람댓글활동_보기\" data-userid=\"-128281918\" href=\"javascript:\" role=\"button\"><span class=\"screen_out\" data-reactid=\".0.0.0.4.3.$83177395.0.0.1.1.0\">댓글 작성자</span><span data-reactid=\".0.0.0.4.3.$83177395.0.0.1.1.1\">기냥달려</span><span class=\"screen_out\" data-reactid=\".0.0.0.4.3.$83177395.0.0.1.1.2\">, 댓글모아보기</span></a><span class=\"txt_date\" data-reactid=\".0.0.0.4.3.$83177395.0.0.1.2\">2016. 11. 20. 14:55</span></span></strong><p class=\"desc_txt font_size_\" data-reactid=\".0.0.0.4.3.$83177395.0.1:$desc-83177395\">이대 말 한마리.....</p><noscript data-reactid=\".0.0.0.4.3.$83177395.0.1:$icon-83177395\"></noscript><div class=\"box_reply\" data-reactid=\".0.0.0.4.3.$83177395.0.3\"><span class=\"box_inner\" data-reactid=\".0.0.0.4.3.$83177395.0.3.0\"><button aria-expended=\"false\" class=\"reply_count #reply ?c_title=%EB%8B%B5%EA%B8%80\" data-reactid=\".0.0.0.4.3.$83177395.0.3.0.0\" data-tiara-action-name=\"답글목록_열기\"><span data-reactid=\".0.0.0.4.3.$83177395.0.3.0.0.0\">답글 작성</span></button></span><span class=\"comment_recomm\" data-reactid=\".0.0.0.4.3.$83177395.0.3.1\"><button class=\"btn_g btn_recomm #like ?c_title=%EB%8C%93%EA%B8%80%EC%B0%AC%EC%84%B1\" data-reactid=\".0.0.0.4.3.$83177395.0.3.1.0\" data-tiara-action-name=\"댓글_찬성\" data-tiara-custom=\"alex.commentId=83177395\"><span class=\"img_cmt ico_recomm\" data-reactid=\".0.0.0.4.3.$83177395.0.3.1.0.0\">댓글 찬성하기</span><span class=\"num_txt\" data-reactid=\".0.0.0.4.3.$83177395.0.3.1.0.1\">17</span></button><button class=\"btn_g btn_oppose #dislike ?c_title=%EB%8C%93%EA%B8%80%EB%B0%98%EB%8C%80\" data-reactid=\".0.0.0.4.3.$83177395.0.3.1.1\" data-tiara-action-name=\"댓글_반대\" data-tiara-custom=\"alex.commentId=83177395\"><span class=\"img_cmt ico_oppose\" data-reactid=\".0.0.0.4.3.$83177395.0.3.1.1.0\">댓글 비추천하기</span><span class=\"num_txt\" data-reactid=\".0.0.0.4.3.$83177395.0.3.1.1.1\">1</span></button></span></div><a class=\"hide_btn\" data-reactid=\".0.0.0.4.3.$83177395.0.5\" data-tiara-action-name=\"댓글_덮기\" data-tiara-custom=\"alex.commentId=83177395\" href=\"javascript:\"><span class=\"img_cmt ico_hide\" data-reactid=\".0.0.0.4.3.$83177395.0.5.0\"><span class=\"screen_out\" data-reactid=\".0.0.0.4.3.$83177395.0.5.0.0\">댓글 덮기</span></span></a><button aria-expanded=\"false\" class=\"tooltip\" data-reactid=\".0.0.0.4.3.$83177395.0.6\" href=\"javascript:\"><span class=\"img_cmt tooltip_ico\" data-reactid=\".0.0.0.4.3.$83177395.0.6.0\"><span class=\"screen_out\" data-reactid=\".0.0.0.4.3.$83177395.0.6.0.0\">댓글 옵션 버튼 펼치기</span></span></button></div></li><li class=\"\" data-reactid=\".0.0.0.4.3.$83161921\" id=\"comment83161921\"><div class=\"cmt_info\" data-reactid=\".0.0.0.4.3.$83161921.0\"><strong class=\"tit_nick\" data-reactid=\".0.0.0.4.3.$83161921.0.0\"><noscript data-reactid=\".0.0.0.4.3.$83161921.0.0.0\"></noscript><span class=\"info_author\" data-reactid=\".0.0.0.4.3.$83161921.0.0.1\"><span class=\"link_nick\" data-reactid=\".0.0.0.4.3.$83161921.0.0.1.0\"><span class=\"img_cmt img_daum\" data-reactid=\".0.0.0.4.3.$83161921.0.0.1.0.0\"></span></span><a class=\"link_nick\" data-reactid=\".0.0.0.4.3.$83161921.0.0.1.1\" data-tiara-action-name=\"다른사람댓글활동_보기\" data-userid=\"13638055\" href=\"javascript:\" role=\"button\"><span class=\"screen_out\" data-reactid=\".0.0.0.4.3.$83161921.0.0.1.1.0\">댓글 작성자</span><span data-reactid=\".0.0.0.4.3.$83161921.0.0.1.1.1\">자나깨나스마트폰쳐보는개돼지들</span><span class=\"screen_out\" data-reactid=\".0.0.0.4.3.$83161921.0.0.1.1.2\">, 댓글모아보기</span></a><span class=\"txt_date\" data-reactid=\".0.0.0.4.3.$83161921.0.0.1.2\">2016. 11. 20. 14:11</span></span></strong><p class=\"desc_txt font_size_\" data-reactid=\".0.0.0.4.3.$83161921.0.1:$desc-83161921\">18\n",
      "\n",
      "연애인들은 돌대가리도\n",
      "\n",
      "대학교 서울소재 대학교 100% 다붙지\n",
      "\n",
      "비리 아니냐\n",
      "\n",
      "실력이 아니고 빽으로 100% 다합격\n",
      "\n",
      "왜 검찰은 이런건 조사 안하냐 ?</p><noscript data-reactid=\".0.0.0.4.3.$83161921.0.1:$icon-83161921\"></noscript><div class=\"box_reply\" data-reactid=\".0.0.0.4.3.$83161921.0.3\"><span class=\"box_inner\" data-reactid=\".0.0.0.4.3.$83161921.0.3.0\"><button aria-expended=\"false\" class=\"reply_count #reply ?c_title=%EB%8B%B5%EA%B8%80\" data-reactid=\".0.0.0.4.3.$83161921.0.3.0.0\" data-tiara-action-name=\"답글목록_열기\"><span data-reactid=\".0.0.0.4.3.$83161921.0.3.0.0.0\">답글 작성</span></button></span><span class=\"comment_recomm\" data-reactid=\".0.0.0.4.3.$83161921.0.3.1\"><button class=\"btn_g btn_recomm #like ?c_title=%EB%8C%93%EA%B8%80%EC%B0%AC%EC%84%B1\" data-reactid=\".0.0.0.4.3.$83161921.0.3.1.0\" data-tiara-action-name=\"댓글_찬성\" data-tiara-custom=\"alex.commentId=83161921\"><span class=\"img_cmt ico_recomm\" data-reactid=\".0.0.0.4.3.$83161921.0.3.1.0.0\">댓글 찬성하기</span><span class=\"num_txt\" data-reactid=\".0.0.0.4.3.$83161921.0.3.1.0.1\">93</span></button><button class=\"btn_g btn_oppose #dislike ?c_title=%EB%8C%93%EA%B8%80%EB%B0%98%EB%8C%80\" data-reactid=\".0.0.0.4.3.$83161921.0.3.1.1\" data-tiara-action-name=\"댓글_반대\" data-tiara-custom=\"alex.commentId=83161921\"><span class=\"img_cmt ico_oppose\" data-reactid=\".0.0.0.4.3.$83161921.0.3.1.1.0\">댓글 비추천하기</span><span class=\"num_txt\" data-reactid=\".0.0.0.4.3.$83161921.0.3.1.1.1\">5</span></button></span></div><a class=\"hide_btn\" data-reactid=\".0.0.0.4.3.$83161921.0.5\" data-tiara-action-name=\"댓글_덮기\" data-tiara-custom=\"alex.commentId=83161921\" href=\"javascript:\"><span class=\"img_cmt ico_hide\" data-reactid=\".0.0.0.4.3.$83161921.0.5.0\"><span class=\"screen_out\" data-reactid=\".0.0.0.4.3.$83161921.0.5.0.0\">댓글 덮기</span></span></a><button aria-expanded=\"false\" class=\"tooltip\" data-reactid=\".0.0.0.4.3.$83161921.0.6\" href=\"javascript:\"><span class=\"img_cmt tooltip_ico\" data-reactid=\".0.0.0.4.3.$83161921.0.6.0\"><span class=\"screen_out\" data-reactid=\".0.0.0.4.3.$83161921.0.6.0.0\">댓글 옵션 버튼 펼치기</span></span></button></div></li><li class=\"\" data-reactid=\".0.0.0.4.3.$83165878\" id=\"comment83165878\"><div class=\"cmt_info\" data-reactid=\".0.0.0.4.3.$83165878.0\"><strong class=\"tit_nick\" data-reactid=\".0.0.0.4.3.$83165878.0.0\"><noscript data-reactid=\".0.0.0.4.3.$83165878.0.0.0\"></noscript><span class=\"info_author\" data-reactid=\".0.0.0.4.3.$83165878.0.0.1\"><span class=\"link_nick\" data-reactid=\".0.0.0.4.3.$83165878.0.0.1.0\"><span class=\"img_cmt img_daum\" data-reactid=\".0.0.0.4.3.$83165878.0.0.1.0.0\"></span></span><a class=\"link_nick\" data-reactid=\".0.0.0.4.3.$83165878.0.0.1.1\" data-tiara-action-name=\"다른사람댓글활동_보기\" data-userid=\"-39351546\" href=\"javascript:\" role=\"button\"><span class=\"screen_out\" data-reactid=\".0.0.0.4.3.$83165878.0.0.1.1.0\">댓글 작성자</span><span data-reactid=\".0.0.0.4.3.$83165878.0.0.1.1.1\">1312sdf</span><span class=\"screen_out\" data-reactid=\".0.0.0.4.3.$83165878.0.0.1.1.2\">, 댓글모아보기</span></a><span class=\"txt_date\" data-reactid=\".0.0.0.4.3.$83165878.0.0.1.2\">2016. 11. 20. 14:22</span></span></strong><p class=\"desc_txt font_size_\" data-reactid=\".0.0.0.4.3.$83165878.0.1:$desc-83165878\">진짜 서울대랑 연고대랑은 한문제 차이구나.\n",
      "실력의 차이라기보다는 누가 실수 안했냐로 판가름 나는 구만.\n",
      "무섭다 상대평가</p><noscript data-reactid=\".0.0.0.4.3.$83165878.0.1:$icon-83165878\"></noscript><div class=\"box_reply\" data-reactid=\".0.0.0.4.3.$83165878.0.3\"><span class=\"box_inner\" data-reactid=\".0.0.0.4.3.$83165878.0.3.0\"><button aria-expended=\"false\" class=\"reply_count #reply ?c_title=%EB%8B%B5%EA%B8%80\" data-reactid=\".0.0.0.4.3.$83165878.0.3.0.0\" data-tiara-action-name=\"답글목록_열기\"><span data-reactid=\".0.0.0.4.3.$83165878.0.3.0.0.0\"><span data-reactid=\".0.0.0.4.3.$83165878.0.3.0.0.0.0\">답글</span><span class=\"num_txt\" data-reactid=\".0.0.0.4.3.$83165878.0.3.0.0.0.1\">1</span></span></button></span><span class=\"comment_recomm\" data-reactid=\".0.0.0.4.3.$83165878.0.3.1\"><button class=\"btn_g btn_recomm #like ?c_title=%EB%8C%93%EA%B8%80%EC%B0%AC%EC%84%B1\" data-reactid=\".0.0.0.4.3.$83165878.0.3.1.0\" data-tiara-action-name=\"댓글_찬성\" data-tiara-custom=\"alex.commentId=83165878\"><span class=\"img_cmt ico_recomm\" data-reactid=\".0.0.0.4.3.$83165878.0.3.1.0.0\">댓글 찬성하기</span><span class=\"num_txt\" data-reactid=\".0.0.0.4.3.$83165878.0.3.1.0.1\">87</span></button><button class=\"btn_g btn_oppose #dislike ?c_title=%EB%8C%93%EA%B8%80%EB%B0%98%EB%8C%80\" data-reactid=\".0.0.0.4.3.$83165878.0.3.1.1\" data-tiara-action-name=\"댓글_반대\" data-tiara-custom=\"alex.commentId=83165878\"><span class=\"img_cmt ico_oppose\" data-reactid=\".0.0.0.4.3.$83165878.0.3.1.1.0\">댓글 비추천하기</span><span class=\"num_txt\" data-reactid=\".0.0.0.4.3.$83165878.0.3.1.1.1\">2</span></button></span></div><a class=\"hide_btn\" data-reactid=\".0.0.0.4.3.$83165878.0.5\" data-tiara-action-name=\"댓글_덮기\" data-tiara-custom=\"alex.commentId=83165878\" href=\"javascript:\"><span class=\"img_cmt ico_hide\" data-reactid=\".0.0.0.4.3.$83165878.0.5.0\"><span class=\"screen_out\" data-reactid=\".0.0.0.4.3.$83165878.0.5.0.0\">댓글 덮기</span></span></a><button aria-expanded=\"false\" class=\"tooltip\" data-reactid=\".0.0.0.4.3.$83165878.0.6\" href=\"javascript:\"><span class=\"img_cmt tooltip_ico\" data-reactid=\".0.0.0.4.3.$83165878.0.6.0\"><span class=\"screen_out\" data-reactid=\".0.0.0.4.3.$83165878.0.6.0.0\">댓글 옵션 버튼 펼치기</span></span></button></div></li><li class=\"\" data-reactid=\".0.0.0.4.3.$83178469\" id=\"comment83178469\"><div class=\"cmt_info\" data-reactid=\".0.0.0.4.3.$83178469.0\"><strong class=\"tit_nick\" data-reactid=\".0.0.0.4.3.$83178469.0.0\"><noscript data-reactid=\".0.0.0.4.3.$83178469.0.0.0\"></noscript><span class=\"info_author\" data-reactid=\".0.0.0.4.3.$83178469.0.0.1\"><span class=\"link_nick\" data-reactid=\".0.0.0.4.3.$83178469.0.0.1.0\"><span class=\"img_cmt img_daum\" data-reactid=\".0.0.0.4.3.$83178469.0.0.1.0.0\"></span></span><a class=\"link_nick\" data-reactid=\".0.0.0.4.3.$83178469.0.0.1.1\" data-tiara-action-name=\"다른사람댓글활동_보기\" data-userid=\"-112377703\" href=\"javascript:\" role=\"button\"><span class=\"screen_out\" data-reactid=\".0.0.0.4.3.$83178469.0.0.1.1.0\">댓글 작성자</span><span data-reactid=\".0.0.0.4.3.$83178469.0.0.1.1.1\">awnghd</span><span class=\"screen_out\" data-reactid=\".0.0.0.4.3.$83178469.0.0.1.1.2\">, 댓글모아보기</span></a><span class=\"txt_date\" data-reactid=\".0.0.0.4.3.$83178469.0.0.1.2\">2016. 11. 20. 14:59</span></span></strong><p class=\"desc_txt font_size_\" data-reactid=\".0.0.0.4.3.$83178469.0.1:$desc-83178469\">이대와 연대는 꼴찌나 대리시험으로 갈수있는거 아냐?\n",
      "또다른 정유라를 위한 희생양은 몇이나 되려나?\n",
      "교육부 개쓰레기들</p><noscript data-reactid=\".0.0.0.4.3.$83178469.0.1:$icon-83178469\"></noscript><div class=\"box_reply\" data-reactid=\".0.0.0.4.3.$83178469.0.3\"><span class=\"box_inner\" data-reactid=\".0.0.0.4.3.$83178469.0.3.0\"><button aria-expended=\"false\" class=\"reply_count #reply ?c_title=%EB%8B%B5%EA%B8%80\" data-reactid=\".0.0.0.4.3.$83178469.0.3.0.0\" data-tiara-action-name=\"답글목록_열기\"><span data-reactid=\".0.0.0.4.3.$83178469.0.3.0.0.0\">답글 작성</span></button></span><span class=\"comment_recomm\" data-reactid=\".0.0.0.4.3.$83178469.0.3.1\"><button class=\"btn_g btn_recomm #like ?c_title=%EB%8C%93%EA%B8%80%EC%B0%AC%EC%84%B1\" data-reactid=\".0.0.0.4.3.$83178469.0.3.1.0\" data-tiara-action-name=\"댓글_찬성\" data-tiara-custom=\"alex.commentId=83178469\"><span class=\"img_cmt ico_recomm\" data-reactid=\".0.0.0.4.3.$83178469.0.3.1.0.0\">댓글 찬성하기</span><span class=\"num_txt\" data-reactid=\".0.0.0.4.3.$83178469.0.3.1.0.1\">27</span></button><button class=\"btn_g btn_oppose #dislike ?c_title=%EB%8C%93%EA%B8%80%EB%B0%98%EB%8C%80\" data-reactid=\".0.0.0.4.3.$83178469.0.3.1.1\" data-tiara-action-name=\"댓글_반대\" data-tiara-custom=\"alex.commentId=83178469\"><span class=\"img_cmt ico_oppose\" data-reactid=\".0.0.0.4.3.$83178469.0.3.1.1.0\">댓글 비추천하기</span><span class=\"num_txt\" data-reactid=\".0.0.0.4.3.$83178469.0.3.1.1.1\">2</span></button></span></div><a class=\"hide_btn\" data-reactid=\".0.0.0.4.3.$83178469.0.5\" data-tiara-action-name=\"댓글_덮기\" data-tiara-custom=\"alex.commentId=83178469\" href=\"javascript:\"><span class=\"img_cmt ico_hide\" data-reactid=\".0.0.0.4.3.$83178469.0.5.0\"><span class=\"screen_out\" data-reactid=\".0.0.0.4.3.$83178469.0.5.0.0\">댓글 덮기</span></span></a><button aria-expanded=\"false\" class=\"tooltip\" data-reactid=\".0.0.0.4.3.$83178469.0.6\" href=\"javascript:\"><span class=\"img_cmt tooltip_ico\" data-reactid=\".0.0.0.4.3.$83178469.0.6.0\"><span class=\"screen_out\" data-reactid=\".0.0.0.4.3.$83178469.0.6.0.0\">댓글 옵션 버튼 펼치기</span></span></button></div></li><li class=\"\" data-reactid=\".0.0.0.4.3.$83201594\" id=\"comment83201594\"><div class=\"cmt_info\" data-reactid=\".0.0.0.4.3.$83201594.0\"><strong class=\"tit_nick\" data-reactid=\".0.0.0.4.3.$83201594.0.0\"><noscript data-reactid=\".0.0.0.4.3.$83201594.0.0.0\"></noscript><span class=\"info_author\" data-reactid=\".0.0.0.4.3.$83201594.0.0.1\"><span class=\"link_nick\" data-reactid=\".0.0.0.4.3.$83201594.0.0.1.0\"><span class=\"img_cmt img_daum\" data-reactid=\".0.0.0.4.3.$83201594.0.0.1.0.0\"></span></span><a class=\"link_nick\" data-reactid=\".0.0.0.4.3.$83201594.0.0.1.1\" data-tiara-action-name=\"다른사람댓글활동_보기\" data-userid=\"10556476\" href=\"javascript:\" role=\"button\"><span class=\"screen_out\" data-reactid=\".0.0.0.4.3.$83201594.0.0.1.1.0\">댓글 작성자</span><span data-reactid=\".0.0.0.4.3.$83201594.0.0.1.1.1\">한세</span><span class=\"screen_out\" data-reactid=\".0.0.0.4.3.$83201594.0.0.1.1.2\">, 댓글모아보기</span></a><span class=\"txt_date\" data-reactid=\".0.0.0.4.3.$83201594.0.0.1.2\">2016. 11. 20. 16:14</span></span></strong><p class=\"desc_txt font_size_\" data-reactid=\".0.0.0.4.3.$83201594.0.1:$desc-83201594\">이대는  이제 점수 믿고가도됨?</p><noscript data-reactid=\".0.0.0.4.3.$83201594.0.1:$icon-83201594\"></noscript><div class=\"box_reply\" data-reactid=\".0.0.0.4.3.$83201594.0.3\"><span class=\"box_inner\" data-reactid=\".0.0.0.4.3.$83201594.0.3.0\"><button aria-expended=\"false\" class=\"reply_count #reply ?c_title=%EB%8B%B5%EA%B8%80\" data-reactid=\".0.0.0.4.3.$83201594.0.3.0.0\" data-tiara-action-name=\"답글목록_열기\"><span data-reactid=\".0.0.0.4.3.$83201594.0.3.0.0.0\">답글 작성</span></button></span><span class=\"comment_recomm\" data-reactid=\".0.0.0.4.3.$83201594.0.3.1\"><button class=\"btn_g btn_recomm #like ?c_title=%EB%8C%93%EA%B8%80%EC%B0%AC%EC%84%B1\" data-reactid=\".0.0.0.4.3.$83201594.0.3.1.0\" data-tiara-action-name=\"댓글_찬성\" data-tiara-custom=\"alex.commentId=83201594\"><span class=\"img_cmt ico_recomm\" data-reactid=\".0.0.0.4.3.$83201594.0.3.1.0.0\">댓글 찬성하기</span><span class=\"num_txt\" data-reactid=\".0.0.0.4.3.$83201594.0.3.1.0.1\">7</span></button><button class=\"btn_g btn_oppose #dislike ?c_title=%EB%8C%93%EA%B8%80%EB%B0%98%EB%8C%80\" data-reactid=\".0.0.0.4.3.$83201594.0.3.1.1\" data-tiara-action-name=\"댓글_반대\" data-tiara-custom=\"alex.commentId=83201594\"><span class=\"img_cmt ico_oppose\" data-reactid=\".0.0.0.4.3.$83201594.0.3.1.1.0\">댓글 비추천하기</span><span class=\"num_txt\" data-reactid=\".0.0.0.4.3.$83201594.0.3.1.1.1\">1</span></button></span></div><a class=\"hide_btn\" data-reactid=\".0.0.0.4.3.$83201594.0.5\" data-tiara-action-name=\"댓글_덮기\" data-tiara-custom=\"alex.commentId=83201594\" href=\"javascript:\"><span class=\"img_cmt ico_hide\" data-reactid=\".0.0.0.4.3.$83201594.0.5.0\"><span class=\"screen_out\" data-reactid=\".0.0.0.4.3.$83201594.0.5.0.0\">댓글 덮기</span></span></a><button aria-expanded=\"false\" class=\"tooltip\" data-reactid=\".0.0.0.4.3.$83201594.0.6\" href=\"javascript:\"><span class=\"img_cmt tooltip_ico\" data-reactid=\".0.0.0.4.3.$83201594.0.6.0\"><span class=\"screen_out\" data-reactid=\".0.0.0.4.3.$83201594.0.6.0.0\">댓글 옵션 버튼 펼치기</span></span></button></div></li><li class=\"\" data-reactid=\".0.0.0.4.3.$83157610\" id=\"comment83157610\"><div class=\"cmt_info\" data-reactid=\".0.0.0.4.3.$83157610.0\"><strong class=\"tit_nick\" data-reactid=\".0.0.0.4.3.$83157610.0.0\"><noscript data-reactid=\".0.0.0.4.3.$83157610.0.0.0\"></noscript><span class=\"info_author\" data-reactid=\".0.0.0.4.3.$83157610.0.0.1\"><span class=\"link_nick\" data-reactid=\".0.0.0.4.3.$83157610.0.0.1.0\"><span class=\"img_cmt img_daum\" data-reactid=\".0.0.0.4.3.$83157610.0.0.1.0.0\"></span></span><a class=\"link_nick\" data-reactid=\".0.0.0.4.3.$83157610.0.0.1.1\" data-tiara-action-name=\"다른사람댓글활동_보기\" data-userid=\"-9334265\" href=\"javascript:\" role=\"button\"><span class=\"screen_out\" data-reactid=\".0.0.0.4.3.$83157610.0.0.1.1.0\">댓글 작성자</span><span data-reactid=\".0.0.0.4.3.$83157610.0.0.1.1.1\">낭만 자객</span><span class=\"screen_out\" data-reactid=\".0.0.0.4.3.$83157610.0.0.1.1.2\">, 댓글모아보기</span></a><span class=\"txt_date\" data-reactid=\".0.0.0.4.3.$83157610.0.0.1.2\">2016. 11. 20. 13:58</span></span></strong><p class=\"desc_txt font_size_\" data-reactid=\".0.0.0.4.3.$83157610.0.1:$desc-83157610\">여전하구나. \n",
      "대학은 학문을 연구하는 곳이 아니구나. . .</p><noscript data-reactid=\".0.0.0.4.3.$83157610.0.1:$icon-83157610\"></noscript><div class=\"box_reply\" data-reactid=\".0.0.0.4.3.$83157610.0.3\"><span class=\"box_inner\" data-reactid=\".0.0.0.4.3.$83157610.0.3.0\"><button aria-expended=\"false\" class=\"reply_count #reply ?c_title=%EB%8B%B5%EA%B8%80\" data-reactid=\".0.0.0.4.3.$83157610.0.3.0.0\" data-tiara-action-name=\"답글목록_열기\"><span data-reactid=\".0.0.0.4.3.$83157610.0.3.0.0.0\"><span data-reactid=\".0.0.0.4.3.$83157610.0.3.0.0.0.0\">답글</span><span class=\"num_txt\" data-reactid=\".0.0.0.4.3.$83157610.0.3.0.0.0.1\">3</span></span></button></span><span class=\"comment_recomm\" data-reactid=\".0.0.0.4.3.$83157610.0.3.1\"><button class=\"btn_g btn_recomm #like ?c_title=%EB%8C%93%EA%B8%80%EC%B0%AC%EC%84%B1\" data-reactid=\".0.0.0.4.3.$83157610.0.3.1.0\" data-tiara-action-name=\"댓글_찬성\" data-tiara-custom=\"alex.commentId=83157610\"><span class=\"img_cmt ico_recomm\" data-reactid=\".0.0.0.4.3.$83157610.0.3.1.0.0\">댓글 찬성하기</span><span class=\"num_txt\" data-reactid=\".0.0.0.4.3.$83157610.0.3.1.0.1\">274</span></button><button class=\"btn_g btn_oppose #dislike ?c_title=%EB%8C%93%EA%B8%80%EB%B0%98%EB%8C%80\" data-reactid=\".0.0.0.4.3.$83157610.0.3.1.1\" data-tiara-action-name=\"댓글_반대\" data-tiara-custom=\"alex.commentId=83157610\"><span class=\"img_cmt ico_oppose\" data-reactid=\".0.0.0.4.3.$83157610.0.3.1.1.0\">댓글 비추천하기</span><span class=\"num_txt\" data-reactid=\".0.0.0.4.3.$83157610.0.3.1.1.1\">26</span></button></span></div><a class=\"hide_btn\" data-reactid=\".0.0.0.4.3.$83157610.0.5\" data-tiara-action-name=\"댓글_덮기\" data-tiara-custom=\"alex.commentId=83157610\" href=\"javascript:\"><span class=\"img_cmt ico_hide\" data-reactid=\".0.0.0.4.3.$83157610.0.5.0\"><span class=\"screen_out\" data-reactid=\".0.0.0.4.3.$83157610.0.5.0.0\">댓글 덮기</span></span></a><button aria-expanded=\"false\" class=\"tooltip\" data-reactid=\".0.0.0.4.3.$83157610.0.6\" href=\"javascript:\"><span class=\"img_cmt tooltip_ico\" data-reactid=\".0.0.0.4.3.$83157610.0.6.0\"><span class=\"screen_out\" data-reactid=\".0.0.0.4.3.$83157610.0.6.0.0\">댓글 옵션 버튼 펼치기</span></span></button></div></li><li class=\"\" data-reactid=\".0.0.0.4.3.$83168224\" id=\"comment83168224\"><div class=\"cmt_info\" data-reactid=\".0.0.0.4.3.$83168224.0\"><strong class=\"tit_nick\" data-reactid=\".0.0.0.4.3.$83168224.0.0\"><noscript data-reactid=\".0.0.0.4.3.$83168224.0.0.0\"></noscript><span class=\"info_author\" data-reactid=\".0.0.0.4.3.$83168224.0.0.1\"><span class=\"link_nick\" data-reactid=\".0.0.0.4.3.$83168224.0.0.1.0\"><span class=\"img_cmt img_daum\" data-reactid=\".0.0.0.4.3.$83168224.0.0.1.0.0\"></span></span><a class=\"link_nick\" data-reactid=\".0.0.0.4.3.$83168224.0.0.1.1\" data-tiara-action-name=\"다른사람댓글활동_보기\" data-userid=\"-17328215\" href=\"javascript:\" role=\"button\"><span class=\"screen_out\" data-reactid=\".0.0.0.4.3.$83168224.0.0.1.1.0\">댓글 작성자</span><span data-reactid=\".0.0.0.4.3.$83168224.0.0.1.1.1\">kulike77</span><span class=\"screen_out\" data-reactid=\".0.0.0.4.3.$83168224.0.0.1.1.2\">, 댓글모아보기</span></a><span class=\"txt_date\" data-reactid=\".0.0.0.4.3.$83168224.0.0.1.2\">2016. 11. 20. 14:28</span></span></strong><p class=\"desc_txt font_size_\" data-reactid=\".0.0.0.4.3.$83168224.0.1:$desc-83168224\">정치외교학과는 뭐하러 저리 높아 ㅡㅡ</p><noscript data-reactid=\".0.0.0.4.3.$83168224.0.1:$icon-83168224\"></noscript><div class=\"box_reply\" data-reactid=\".0.0.0.4.3.$83168224.0.3\"><span class=\"box_inner\" data-reactid=\".0.0.0.4.3.$83168224.0.3.0\"><button aria-expended=\"false\" class=\"reply_count #reply ?c_title=%EB%8B%B5%EA%B8%80\" data-reactid=\".0.0.0.4.3.$83168224.0.3.0.0\" data-tiara-action-name=\"답글목록_열기\"><span data-reactid=\".0.0.0.4.3.$83168224.0.3.0.0.0\"><span data-reactid=\".0.0.0.4.3.$83168224.0.3.0.0.0.0\">답글</span><span class=\"num_txt\" data-reactid=\".0.0.0.4.3.$83168224.0.3.0.0.0.1\">1</span></span></button></span><span class=\"comment_recomm\" data-reactid=\".0.0.0.4.3.$83168224.0.3.1\"><button class=\"btn_g btn_recomm #like ?c_title=%EB%8C%93%EA%B8%80%EC%B0%AC%EC%84%B1\" data-reactid=\".0.0.0.4.3.$83168224.0.3.1.0\" data-tiara-action-name=\"댓글_찬성\" data-tiara-custom=\"alex.commentId=83168224\"><span class=\"img_cmt ico_recomm\" data-reactid=\".0.0.0.4.3.$83168224.0.3.1.0.0\">댓글 찬성하기</span><span class=\"num_txt\" data-reactid=\".0.0.0.4.3.$83168224.0.3.1.0.1\">10</span></button><button class=\"btn_g btn_oppose #dislike ?c_title=%EB%8C%93%EA%B8%80%EB%B0%98%EB%8C%80\" data-reactid=\".0.0.0.4.3.$83168224.0.3.1.1\" data-tiara-action-name=\"댓글_반대\" data-tiara-custom=\"alex.commentId=83168224\"><span class=\"img_cmt ico_oppose\" data-reactid=\".0.0.0.4.3.$83168224.0.3.1.1.0\">댓글 비추천하기</span><span class=\"num_txt\" data-reactid=\".0.0.0.4.3.$83168224.0.3.1.1.1\">6</span></button></span></div><a class=\"hide_btn\" data-reactid=\".0.0.0.4.3.$83168224.0.5\" data-tiara-action-name=\"댓글_덮기\" data-tiara-custom=\"alex.commentId=83168224\" href=\"javascript:\"><span class=\"img_cmt ico_hide\" data-reactid=\".0.0.0.4.3.$83168224.0.5.0\"><span class=\"screen_out\" data-reactid=\".0.0.0.4.3.$83168224.0.5.0.0\">댓글 덮기</span></span></a><button aria-expanded=\"false\" class=\"tooltip\" data-reactid=\".0.0.0.4.3.$83168224.0.6\" href=\"javascript:\"><span class=\"img_cmt tooltip_ico\" data-reactid=\".0.0.0.4.3.$83168224.0.6.0\"><span class=\"screen_out\" data-reactid=\".0.0.0.4.3.$83168224.0.6.0.0\">댓글 옵션 버튼 펼치기</span></span></button></div></li><li class=\"\" data-reactid=\".0.0.0.4.3.$83161953\" id=\"comment83161953\"><div class=\"cmt_info\" data-reactid=\".0.0.0.4.3.$83161953.0\"><strong class=\"tit_nick\" data-reactid=\".0.0.0.4.3.$83161953.0.0\"><noscript data-reactid=\".0.0.0.4.3.$83161953.0.0.0\"></noscript><span class=\"info_author\" data-reactid=\".0.0.0.4.3.$83161953.0.0.1\"><span class=\"link_nick\" data-reactid=\".0.0.0.4.3.$83161953.0.0.1.0\"><span class=\"img_cmt img_daum\" data-reactid=\".0.0.0.4.3.$83161953.0.0.1.0.0\"></span></span><a class=\"link_nick\" data-reactid=\".0.0.0.4.3.$83161953.0.0.1.1\" data-tiara-action-name=\"다른사람댓글활동_보기\" data-userid=\"-12326171\" href=\"javascript:\" role=\"button\"><span class=\"screen_out\" data-reactid=\".0.0.0.4.3.$83161953.0.0.1.1.0\">댓글 작성자</span><span data-reactid=\".0.0.0.4.3.$83161953.0.0.1.1.1\">벼리</span><span class=\"screen_out\" data-reactid=\".0.0.0.4.3.$83161953.0.0.1.1.2\">, 댓글모아보기</span></a><span class=\"txt_date\" data-reactid=\".0.0.0.4.3.$83161953.0.0.1.2\">2016. 11. 20. 14:11</span></span></strong><p class=\"desc_txt font_size_\" data-reactid=\".0.0.0.4.3.$83161953.0.1:$desc-83161953\">연대 꼴등해도 들어가는 대학인데 너무 점수 높게 잡아놓은거 아닌가?</p><noscript data-reactid=\".0.0.0.4.3.$83161953.0.1:$icon-83161953\"></noscript><div class=\"box_reply\" data-reactid=\".0.0.0.4.3.$83161953.0.3\"><span class=\"box_inner\" data-reactid=\".0.0.0.4.3.$83161953.0.3.0\"><button aria-expended=\"false\" class=\"reply_count #reply ?c_title=%EB%8B%B5%EA%B8%80\" data-reactid=\".0.0.0.4.3.$83161953.0.3.0.0\" data-tiara-action-name=\"답글목록_열기\"><span data-reactid=\".0.0.0.4.3.$83161953.0.3.0.0.0\">답글 작성</span></button></span><span class=\"comment_recomm\" data-reactid=\".0.0.0.4.3.$83161953.0.3.1\"><button class=\"btn_g btn_recomm #like ?c_title=%EB%8C%93%EA%B8%80%EC%B0%AC%EC%84%B1\" data-reactid=\".0.0.0.4.3.$83161953.0.3.1.0\" data-tiara-action-name=\"댓글_찬성\" data-tiara-custom=\"alex.commentId=83161953\"><span class=\"img_cmt ico_recomm\" data-reactid=\".0.0.0.4.3.$83161953.0.3.1.0.0\">댓글 찬성하기</span><span class=\"num_txt\" data-reactid=\".0.0.0.4.3.$83161953.0.3.1.0.1\">136</span></button><button class=\"btn_g btn_oppose #dislike ?c_title=%EB%8C%93%EA%B8%80%EB%B0%98%EB%8C%80\" data-reactid=\".0.0.0.4.3.$83161953.0.3.1.1\" data-tiara-action-name=\"댓글_반대\" data-tiara-custom=\"alex.commentId=83161953\"><span class=\"img_cmt ico_oppose\" data-reactid=\".0.0.0.4.3.$83161953.0.3.1.1.0\">댓글 비추천하기</span><span class=\"num_txt\" data-reactid=\".0.0.0.4.3.$83161953.0.3.1.1.1\">6</span></button></span></div><a class=\"hide_btn\" data-reactid=\".0.0.0.4.3.$83161953.0.5\" data-tiara-action-name=\"댓글_덮기\" data-tiara-custom=\"alex.commentId=83161953\" href=\"javascript:\"><span class=\"img_cmt ico_hide\" data-reactid=\".0.0.0.4.3.$83161953.0.5.0\"><span class=\"screen_out\" data-reactid=\".0.0.0.4.3.$83161953.0.5.0.0\">댓글 덮기</span></span></a><button aria-expanded=\"false\" class=\"tooltip\" data-reactid=\".0.0.0.4.3.$83161953.0.6\" href=\"javascript:\"><span class=\"img_cmt tooltip_ico\" data-reactid=\".0.0.0.4.3.$83161953.0.6.0\"><span class=\"screen_out\" data-reactid=\".0.0.0.4.3.$83161953.0.6.0.0\">댓글 옵션 버튼 펼치기</span></span></button></div></li><li class=\"\" data-reactid=\".0.0.0.4.3.$83174274\" id=\"comment83174274\"><div class=\"cmt_info\" data-reactid=\".0.0.0.4.3.$83174274.0\"><strong class=\"tit_nick\" data-reactid=\".0.0.0.4.3.$83174274.0.0\"><noscript data-reactid=\".0.0.0.4.3.$83174274.0.0.0\"></noscript><span class=\"info_author\" data-reactid=\".0.0.0.4.3.$83174274.0.0.1\"><span class=\"link_nick\" data-reactid=\".0.0.0.4.3.$83174274.0.0.1.0\"><span class=\"img_cmt img_daum\" data-reactid=\".0.0.0.4.3.$83174274.0.0.1.0.0\"></span></span><a class=\"link_nick\" data-reactid=\".0.0.0.4.3.$83174274.0.0.1.1\" data-tiara-action-name=\"다른사람댓글활동_보기\" data-userid=\"-1411177\" href=\"javascript:\" role=\"button\"><span class=\"screen_out\" data-reactid=\".0.0.0.4.3.$83174274.0.0.1.1.0\">댓글 작성자</span><span data-reactid=\".0.0.0.4.3.$83174274.0.0.1.1.1\">수성구만촌동돌쇠</span><span class=\"screen_out\" data-reactid=\".0.0.0.4.3.$83174274.0.0.1.1.2\">, 댓글모아보기</span></a><span class=\"txt_date\" data-reactid=\".0.0.0.4.3.$83174274.0.0.1.2\">2016. 11. 20. 14:45</span></span></strong><p class=\"desc_txt font_size_\" data-reactid=\".0.0.0.4.3.$83174274.0.1:$desc-83174274\">수시입학은 어차피 뒷문 다 정해져 있음. 유력자 자녀들과 교수 자녀들은 면접 때 정유라처럼 만점 받고, 다른 학생은 면접 점수 깎임..</p><noscript data-reactid=\".0.0.0.4.3.$83174274.0.1:$icon-83174274\"></noscript><div class=\"box_reply\" data-reactid=\".0.0.0.4.3.$83174274.0.3\"><span class=\"box_inner\" data-reactid=\".0.0.0.4.3.$83174274.0.3.0\"><button aria-expended=\"false\" class=\"reply_count #reply ?c_title=%EB%8B%B5%EA%B8%80\" data-reactid=\".0.0.0.4.3.$83174274.0.3.0.0\" data-tiara-action-name=\"답글목록_열기\"><span data-reactid=\".0.0.0.4.3.$83174274.0.3.0.0.0\">답글 작성</span></button></span><span class=\"comment_recomm\" data-reactid=\".0.0.0.4.3.$83174274.0.3.1\"><button class=\"btn_g btn_recomm #like ?c_title=%EB%8C%93%EA%B8%80%EC%B0%AC%EC%84%B1\" data-reactid=\".0.0.0.4.3.$83174274.0.3.1.0\" data-tiara-action-name=\"댓글_찬성\" data-tiara-custom=\"alex.commentId=83174274\"><span class=\"img_cmt ico_recomm\" data-reactid=\".0.0.0.4.3.$83174274.0.3.1.0.0\">댓글 찬성하기</span><span class=\"num_txt\" data-reactid=\".0.0.0.4.3.$83174274.0.3.1.0.1\">17</span></button><button class=\"btn_g btn_oppose #dislike ?c_title=%EB%8C%93%EA%B8%80%EB%B0%98%EB%8C%80\" data-reactid=\".0.0.0.4.3.$83174274.0.3.1.1\" data-tiara-action-name=\"댓글_반대\" data-tiara-custom=\"alex.commentId=83174274\"><span class=\"img_cmt ico_oppose\" data-reactid=\".0.0.0.4.3.$83174274.0.3.1.1.0\">댓글 비추천하기</span><span class=\"num_txt\" data-reactid=\".0.0.0.4.3.$83174274.0.3.1.1.1\">2</span></button></span></div><a class=\"hide_btn\" data-reactid=\".0.0.0.4.3.$83174274.0.5\" data-tiara-action-name=\"댓글_덮기\" data-tiara-custom=\"alex.commentId=83174274\" href=\"javascript:\"><span class=\"img_cmt ico_hide\" data-reactid=\".0.0.0.4.3.$83174274.0.5.0\"><span class=\"screen_out\" data-reactid=\".0.0.0.4.3.$83174274.0.5.0.0\">댓글 덮기</span></span></a><button aria-expanded=\"false\" class=\"tooltip\" data-reactid=\".0.0.0.4.3.$83174274.0.6\" href=\"javascript:\"><span class=\"img_cmt tooltip_ico\" data-reactid=\".0.0.0.4.3.$83174274.0.6.0\"><span class=\"screen_out\" data-reactid=\".0.0.0.4.3.$83174274.0.6.0.0\">댓글 옵션 버튼 펼치기</span></span></button></div></li></ul>]\n"
     ]
    }
   ],
   "source": [
    "# 페이지 접근, 댓글펴기\n",
    "driver = webdriver.Chrome(path) # 경로에 있는 드라이버 찾아서 실행\n",
    "driver.get(url) # 드라이버를 띄운 상태에서 URL에 접근\n",
    "time.sleep(3) # 전체 페이지 나올 때 까지 대기\n",
    "driver.find_element(By.XPATH , '//*[@id=\"alex-area\"]/div/div/div/div[1]/button').click() # XPATH로 찾아서 -> click(!)\n",
    "\n",
    "# 댓글 더 보기\n",
    "found_element = True\n",
    "while found_element: # 특정 조건 내에서 드라이버는 작업을 반복한다 \n",
    "    try:\n",
    "        element = driver.find_element(By.XPATH, '//*[@id=\"alex-area\"]/div/div/div/div[4]/div[2]/button') # 그 조건은 xpath 경로에 (더보기) 버튼이 존재할 때이다\n",
    "        element.click() # 있다면 클릭하고\n",
    "        time.sleep(3) # 3초를 기다려라\n",
    "    except Exception:\n",
    "        found_element = False # 없으면 Loop는 종료된다\n",
    "\n",
    "# 데이터 저장\n",
    "html = driver.page_source # 모든 댓글이 다 표시된 상태에서 페이지를 html에 넣어주고\n",
    "driver.quit() # 드라이버를 종료한다 (중요!)\n",
    "\n",
    "# 출력\n",
    "soup = BeautifulSoup(html, \"html.parser\") # BS4 객체로 만든다\n",
    "comments = soup.find_all(\"ul\", class_=\"list_comment\") # 이제 코멘트 파트를 모두 가져와서\n",
    "\n",
    "print(comments) # 출력한다(!)"
   ]
  },
  {
   "cell_type": "markdown",
   "metadata": {},
   "source": [
    "## 4차 테스트 : 세부 설정 마무리"
   ]
  },
  {
   "cell_type": "code",
   "execution_count": 22,
   "metadata": {},
   "outputs": [
    {
     "data": {
      "text/plain": [
       "1"
      ]
     },
     "execution_count": 22,
     "metadata": {},
     "output_type": "execute_result"
    }
   ],
   "source": [
    "len(comments)"
   ]
  },
  {
   "cell_type": "code",
   "execution_count": 23,
   "metadata": {},
   "outputs": [
    {
     "data": {
      "text/plain": [
       "['',\n",
       " 'bestkim, 댓글모아보기2016. 11. 20. 14:45공부는 왜하니? 말타고 가면되는데......답글 작성댓글 찬성하기29댓글 비추천하기3댓글 덮기댓글 옵션 버튼 펼치기',\n",
       " 'creator, 댓글모아보기2016. 11. 20. 18:14서울대 나오면 뭐하노,그래봐야 헬조선인데답글 작성댓글 찬성하기5댓글 비추천하기0댓글 덮기댓글 옵션 버튼 펼치기',\n",
       " '탈퇴한 사용자, 댓글모아보기2016. 11. 20. 14:37서울대경영 갈바에야 연대 의예과 가겠다답글5댓글 찬성하기37댓글 비추천하기7댓글 덮기댓글 옵션 버튼 펼치기',\n",
       " '휴면 사용자, 댓글모아보기2016. 11. 20. 14:38저딴거 다 필요없고...\\n엄마한테 부탁하면 250점 갖고도 서울대, 연세대 이대 들어간다..단, 엄마가 박근헤하고 친해야 한다는 조건하에서...답글1댓글 찬성하기51댓글 비추천하기2댓글 덮기댓글 옵션 버튼 펼치기',\n",
       " '탈퇴한 사용자, 댓글모아보기2016. 11. 20. 14:05우리나라가 발전할려면 의대가 최고 점수가 될게 아니라 공대 자연대등이 최고 경쟁률이 되어야한다. 그리고 미국같이 의대를 4년재 대학 졸업생들 누구나 시험봐서 의대를 갈수 있는 길을 만들어줘야함. 참고로 미국은 공대 예술대 문과대 상관없이 의대 지원 가능함. 고등학교 졸업하자 마자 의대 직행할 길이 없슴.답글5댓글 찬성하기74댓글 비추천하기11댓글 덮기댓글 옵션 버튼 펼치기',\n",
       " 'aiq51, 댓글모아보기2016. 11. 20. 15:04의치대를 이렇게 좋은 학생들이 가는데 일본 미달 치대 가서 한국에 와 똑같이 개업하는 것 말이 돼? 무슨 대책을 좀 세워 봐!답글 작성댓글 찬성하기25댓글 비추천하기0댓글 덮기댓글 옵션 버튼 펼치기',\n",
       " '네리야, 댓글모아보기2016. 11. 20. 13:58저리 열심히 공부했는데\\n꼴통들은 수능보다 빽\\n빽하고  욕해주고싶은현실답글 작성댓글 찬성하기355댓글 비추천하기8댓글 덮기댓글 옵션 버튼 펼치기',\n",
       " '탈퇴한 사용자, 댓글모아보기2016. 11. 20. 14:58나, 30년 전에도  커트 라인 만들고 지랄 했는데, 아직도 저 지랄 이구나. 변한 게 하나도 없구나...모든게 점수로 매겨지네...희망이 안 보인다,,답글 작성댓글 찬성하기16댓글 비추천하기4댓글 덮기댓글 옵션 버튼 펼치기',\n",
       " 'creator, 댓글모아보기2016. 11. 20. 18:16서울대 의대 나오면 뭐하노,그래봐야 제약사 돈 뜯어먹기 바쁜데답글 작성댓글 찬성하기6댓글 비추천하기1댓글 덮기댓글 옵션 버튼 펼치기',\n",
       " '아르티르, 댓글모아보기2016. 11. 20. 14:57지방의대 진짜 가기 싫은데 인서울의대는 너무 간당간당.. 원서 단지고 그냥 내년 수능 봐야겠네답글 작성댓글 찬성하기8댓글 비추천하기6댓글 덮기댓글 옵션 버튼 펼치기',\n",
       " 'elephant123, 댓글모아보기2016. 11. 20. 14:44의사지만 의대는 여전히 극심한 거품이네요. 저거 보다 30점 낮아도 의대공부 문제 없는데.. 여전히 IMF 효과는 이어지고 있네요답글 작성댓글 찬성하기30댓글 비추천하기4댓글 덮기댓글 옵션 버튼 펼치기',\n",
       " '기냥달려, 댓글모아보기2016. 11. 20. 14:55이대 말 한마리.....답글 작성댓글 찬성하기17댓글 비추천하기1댓글 덮기댓글 옵션 버튼 펼치기',\n",
       " '자나깨나스마트폰쳐보는개돼지들, 댓글모아보기2016. 11. 20. 14:1118\\n\\n연애인들은 돌대가리도\\n\\n대학교 서울소재 대학교 100% 다붙지\\n\\n비리 아니냐\\n\\n실력이 아니고 빽으로 100% 다합격\\n\\n왜 검찰은 이런건 조사 안하냐 ?답글 작성댓글 찬성하기93댓글 비추천하기5댓글 덮기댓글 옵션 버튼 펼치기',\n",
       " '1312sdf, 댓글모아보기2016. 11. 20. 14:22진짜 서울대랑 연고대랑은 한문제 차이구나.\\n실력의 차이라기보다는 누가 실수 안했냐로 판가름 나는 구만.\\n무섭다 상대평가답글1댓글 찬성하기87댓글 비추천하기2댓글 덮기댓글 옵션 버튼 펼치기',\n",
       " 'awnghd, 댓글모아보기2016. 11. 20. 14:59이대와 연대는 꼴찌나 대리시험으로 갈수있는거 아냐?\\n또다른 정유라를 위한 희생양은 몇이나 되려나?\\n교육부 개쓰레기들답글 작성댓글 찬성하기27댓글 비추천하기2댓글 덮기댓글 옵션 버튼 펼치기',\n",
       " '한세, 댓글모아보기2016. 11. 20. 16:14이대는  이제 점수 믿고가도됨?답글 작성댓글 찬성하기7댓글 비추천하기1댓글 덮기댓글 옵션 버튼 펼치기',\n",
       " '낭만 자객, 댓글모아보기2016. 11. 20. 13:58여전하구나. \\n대학은 학문을 연구하는 곳이 아니구나. . .답글3댓글 찬성하기274댓글 비추천하기26댓글 덮기댓글 옵션 버튼 펼치기',\n",
       " 'kulike77, 댓글모아보기2016. 11. 20. 14:28정치외교학과는 뭐하러 저리 높아 ㅡㅡ답글1댓글 찬성하기10댓글 비추천하기6댓글 덮기댓글 옵션 버튼 펼치기',\n",
       " '벼리, 댓글모아보기2016. 11. 20. 14:11연대 꼴등해도 들어가는 대학인데 너무 점수 높게 잡아놓은거 아닌가?답글 작성댓글 찬성하기136댓글 비추천하기6댓글 덮기댓글 옵션 버튼 펼치기',\n",
       " '수성구만촌동돌쇠, 댓글모아보기2016. 11. 20. 14:45수시입학은 어차피 뒷문 다 정해져 있음. 유력자 자녀들과 교수 자녀들은 면접 때 정유라처럼 만점 받고, 다른 학생은 면접 점수 깎임..답글 작성댓글 찬성하기17댓글 비추천하기2댓글 덮기댓글 옵션 버튼 펼치기']"
      ]
     },
     "execution_count": 23,
     "metadata": {},
     "output_type": "execute_result"
    }
   ],
   "source": [
    "comments[0].text.split(\"댓글 작성자\")"
   ]
  },
  {
   "cell_type": "code",
   "execution_count": 24,
   "metadata": {},
   "outputs": [
    {
     "name": "stdout",
     "output_type": "stream",
     "text": [
      "공부는 왜하니? 말타고 가면되는데......\n",
      "서울대 나오면 뭐하노,그래봐야 헬조선인데\n",
      "서울대경영 갈바에야 연대 의예과 가겠다\n",
      "저딴거 다 필요없고...\n",
      "엄마한테 부탁하면 250점 갖고도 서울대, 연세대 이대 들어간다..단, 엄마가 박근헤하고 친해야 한다는 조건하에서...\n",
      "우리나라가 발전할려면 의대가 최고 점수가 될게 아니라 공대 자연대등이 최고 경쟁률이 되어야한다. 그리고 미국같이 의대를 4년재 대학 졸업생들 누구나 시험봐서 의대를 갈수 있는 길을 만들어줘야함. 참고로 미국은 공대 예술대 문과대 상관없이 의대 지원 가능함. 고등학교 졸업하자 마자 의대 직행할 길이 없슴.\n",
      "의치대를 이렇게 좋은 학생들이 가는데 일본 미달 치대 가서 한국에 와 똑같이 개업하는 것 말이 돼? 무슨 대책을 좀 세워 봐!\n",
      "저리 열심히 공부했는데\n",
      "꼴통들은 수능보다 빽\n",
      "빽하고  욕해주고싶은현실\n",
      "나, 30년 전에도  커트 라인 만들고 지랄 했는데, 아직도 저 지랄 이구나. 변한 게 하나도 없구나...모든게 점수로 매겨지네...희망이 안 보인다,,\n",
      "서울대 의대 나오면 뭐하노,그래봐야 제약사 돈 뜯어먹기 바쁜데\n",
      "지방의대 진짜 가기 싫은데 인서울의대는 너무 간당간당.. 원서 단지고 그냥 내년 수능 봐야겠네\n",
      "의사지만 의대는 여전히 극심한 거품이네요. 저거 보다 30점 낮아도 의대공부 문제 없는데.. 여전히 IMF 효과는 이어지고 있네요\n",
      "이대 말 한마리.....\n",
      "18\n",
      "\n",
      "연애인들은 돌대가리도\n",
      "\n",
      "대학교 서울소재 대학교 100% 다붙지\n",
      "\n",
      "비리 아니냐\n",
      "\n",
      "실력이 아니고 빽으로 100% 다합격\n",
      "\n",
      "왜 검찰은 이런건 조사 안하냐 ?\n",
      "진짜 서울대랑 연고대랑은 한문제 차이구나.\n",
      "실력의 차이라기보다는 누가 실수 안했냐로 판가름 나는 구만.\n",
      "무섭다 상대평가\n",
      "이대와 연대는 꼴찌나 대리시험으로 갈수있는거 아냐?\n",
      "또다른 정유라를 위한 희생양은 몇이나 되려나?\n",
      "교육부 개쓰레기들\n",
      "이대는  이제 점수 믿고가도됨?\n",
      "여전하구나. \n",
      "대학은 학문을 연구하는 곳이 아니구나. . .\n",
      "정치외교학과는 뭐하러 저리 높아 ㅡㅡ\n",
      "연대 꼴등해도 들어가는 대학인데 너무 점수 높게 잡아놓은거 아닌가?\n",
      "수시입학은 어차피 뒷문 다 정해져 있음. 유력자 자녀들과 교수 자녀들은 면접 때 정유라처럼 만점 받고, 다른 학생은 면접 점수 깎임..\n"
     ]
    }
   ],
   "source": [
    "for text in soup.find_all('p',class_=\"desc_txt font_size_\"):\n",
    "    print(text.text.strip())"
   ]
  },
  {
   "cell_type": "code",
   "execution_count": 25,
   "metadata": {},
   "outputs": [
    {
     "name": "stdout",
     "output_type": "stream",
     "text": [
      "공부는 왜하니? 말타고 가면되는데......\n",
      "서울대 나오면 뭐하노,그래봐야 헬조선인데\n",
      "서울대경영 갈바에야 연대 의예과 가겠다\n",
      "저딴거 다 필요없고.... 엄마한테 부탁하면 250점 갖고도 서울대, 연세대 이대 들어간다..단, 엄마가 박근헤하고 친해야 한다는 조건하에서...\n",
      "우리나라가 발전할려면 의대가 최고 점수가 될게 아니라 공대 자연대등이 최고 경쟁률이 되어야한다. 그리고 미국같이 의대를 4년재 대학 졸업생들 누구나 시험봐서 의대를 갈수 있는 길을 만들어줘야함. 참고로 미국은 공대 예술대 문과대 상관없이 의대 지원 가능함. 고등학교 졸업하자 마자 의대 직행할 길이 없슴.\n",
      "의치대를 이렇게 좋은 학생들이 가는데 일본 미달 치대 가서 한국에 와 똑같이 개업하는 것 말이 돼? 무슨 대책을 좀 세워 봐!\n",
      "저리 열심히 공부했는데. 꼴통들은 수능보다 빽. 빽하고  욕해주고싶은현실\n",
      "나, 30년 전에도  커트 라인 만들고 지랄 했는데, 아직도 저 지랄 이구나. 변한 게 하나도 없구나...모든게 점수로 매겨지네...희망이 안 보인다,,\n",
      "서울대 의대 나오면 뭐하노,그래봐야 제약사 돈 뜯어먹기 바쁜데\n",
      "지방의대 진짜 가기 싫은데 인서울의대는 너무 간당간당.. 원서 단지고 그냥 내년 수능 봐야겠네\n",
      "의사지만 의대는 여전히 극심한 거품이네요. 저거 보다 30점 낮아도 의대공부 문제 없는데.. 여전히 IMF 효과는 이어지고 있네요\n",
      "이대 말 한마리.....\n",
      "18. . 연애인들은 돌대가리도. . 대학교 서울소재 대학교 100% 다붙지. . 비리 아니냐. . 실력이 아니고 빽으로 100% 다합격. . 왜 검찰은 이런건 조사 안하냐 ?\n",
      "진짜 서울대랑 연고대랑은 한문제 차이구나.. 실력의 차이라기보다는 누가 실수 안했냐로 판가름 나는 구만.. 무섭다 상대평가\n",
      "이대와 연대는 꼴찌나 대리시험으로 갈수있는거 아냐?. 또다른 정유라를 위한 희생양은 몇이나 되려나?. 교육부 개쓰레기들\n",
      "이대는  이제 점수 믿고가도됨?\n",
      "여전하구나. . 대학은 학문을 연구하는 곳이 아니구나. . .\n",
      "정치외교학과는 뭐하러 저리 높아 ㅡㅡ\n",
      "연대 꼴등해도 들어가는 대학인데 너무 점수 높게 잡아놓은거 아닌가?\n",
      "수시입학은 어차피 뒷문 다 정해져 있음. 유력자 자녀들과 교수 자녀들은 면접 때 정유라처럼 만점 받고, 다른 학생은 면접 점수 깎임..\n"
     ]
    }
   ],
   "source": [
    "for text in soup.find_all('p',class_=\"desc_txt font_size_\"):\n",
    "    print(text.text.strip().replace(\"\\n\",\". \"))"
   ]
  },
  {
   "cell_type": "markdown",
   "metadata": {},
   "source": [
    "# 코드 통합 / 최종테스트"
   ]
  },
  {
   "cell_type": "code",
   "execution_count": 28,
   "metadata": {},
   "outputs": [
    {
     "name": "stderr",
     "output_type": "stream",
     "text": [
      "C:\\Users\\hyena\\AppData\\Local\\Temp/ipykernel_28892/2007140169.py:16: DeprecationWarning: executable_path has been deprecated, please pass in a Service object\n",
      "  driver = webdriver.Chrome(path) # 경로에 있는 드라이버 찾아서 실행\n"
     ]
    },
    {
     "name": "stdout",
     "output_type": "stream",
     "text": [
      "의치대를 이렇게 좋은 학생들이 가는데 일본 미달 치대 가서 한국에 와 똑같이 개업하는 것 말이 돼? 무슨 대책을 좀 세워 봐!\n",
      "18. . 연애인들은 돌대가리도. . 대학교 서울소재 대학교 100% 다붙지. . 비리 아니냐. . 실력이 아니고 빽으로 100% 다합격. . 왜 검찰은 이런건 조사 안하냐 ?\n",
      "수시입학은 어차피 뒷문 다 정해져 있음. 유력자 자녀들과 교수 자녀들은 면접 때 정유라처럼 만점 받고, 다른 학생은 면접 점수 깎임..\n",
      "나, 30년 전에도  커트 라인 만들고 지랄 했는데, 아직도 저 지랄 이구나. 변한 게 하나도 없구나...모든게 점수로 매겨지네...희망이 안 보인다,,\n",
      "저리 열심히 공부했는데. 꼴통들은 수능보다 빽. 빽하고  욕해주고싶은현실\n",
      "서울대경영 갈바에야 연대 의예과 가겠다\n",
      "진짜 서울대랑 연고대랑은 한문제 차이구나.. 실력의 차이라기보다는 누가 실수 안했냐로 판가름 나는 구만.. 무섭다 상대평가\n",
      "여전하구나. . 대학은 학문을 연구하는 곳이 아니구나. . .\n",
      "공부는 왜하니? 말타고 가면되는데......\n",
      "의사지만 의대는 여전히 극심한 거품이네요. 저거 보다 30점 낮아도 의대공부 문제 없는데.. 여전히 IMF 효과는 이어지고 있네요\n",
      "지방의대 진짜 가기 싫은데 인서울의대는 너무 간당간당.. 원서 단지고 그냥 내년 수능 봐야겠네\n",
      "저딴거 다 필요없고.... 엄마한테 부탁하면 250점 갖고도 서울대, 연세대 이대 들어간다..단, 엄마가 박근헤하고 친해야 한다는 조건하에서...\n",
      "서울대 의대 나오면 뭐하노,그래봐야 제약사 돈 뜯어먹기 바쁜데\n",
      "이대 말 한마리.....\n",
      "정치외교학과는 뭐하러 저리 높아 ㅡㅡ\n",
      "서울대 나오면 뭐하노,그래봐야 헬조선인데\n",
      "이대와 연대는 꼴찌나 대리시험으로 갈수있는거 아냐?. 또다른 정유라를 위한 희생양은 몇이나 되려나?. 교육부 개쓰레기들\n",
      "이대는  이제 점수 믿고가도됨?\n",
      "연대 꼴등해도 들어가는 대학인데 너무 점수 높게 잡아놓은거 아닌가?\n",
      "우리나라가 발전할려면 의대가 최고 점수가 될게 아니라 공대 자연대등이 최고 경쟁률이 되어야한다. 그리고 미국같이 의대를 4년재 대학 졸업생들 누구나 시험봐서 의대를 갈수 있는 길을 만들어줘야함. 참고로 미국은 공대 예술대 문과대 상관없이 의대 지원 가능함. 고등학교 졸업하자 마자 의대 직행할 길이 없슴.\n"
     ]
    }
   ],
   "source": [
    "# 패키지 로드\n",
    "from bs4 import BeautifulSoup\n",
    "from selenium import webdriver\n",
    "import time\n",
    "\n",
    "# 대상 설정\n",
    "url = \"http://v.media.daum.net/v/20161120134647462\"\n",
    "\n",
    "# 드라이버 세팅\n",
    "path = './chromedriver_win32/chromedriver.exe' # 드라이버 파일이 있는 경로 설정\n",
    "\n",
    "# 셀렉터 추가 로드\n",
    "from selenium.webdriver.common.by import By\n",
    "\n",
    "# 페이지 접근, 댓글펴기\n",
    "driver = webdriver.Chrome(path) # 경로에 있는 드라이버 찾아서 실행\n",
    "driver.get(url) # 드라이버를 띄운 상태에서 URL에 접근\n",
    "time.sleep(3) # 전체 페이지 나올 때 까지 대기\n",
    "driver.find_element(By.XPATH , '//*[@id=\"alex-area\"]/div/div/div/div[1]/button').click() # XPATH로 찾아서 -> click(!)\n",
    "\n",
    "# 댓글 더 보기\n",
    "found_element = True\n",
    "while found_element: # 특정 조건 내에서 드라이버는 작업을 반복한다 \n",
    "    try:\n",
    "        element = driver.find_element(By.XPATH, '//*[@id=\"alex-area\"]/div/div/div/div[4]/div[2]/button') # 그 조건은 xpath 경로에 (더보기) 버튼이 존재할 때이다\n",
    "        element.click() # 있다면 클릭하고\n",
    "        time.sleep(3) # 3초를 기다려라\n",
    "    except Exception:\n",
    "        found_element = False # 없으면 Loop는 종료된다\n",
    "\n",
    "# 데이터 저장\n",
    "html = driver.page_source # 모든 댓글이 다 표시된 상태에서 페이지를 html에 넣어주고\n",
    "driver.quit() # 드라이버를 종료한다 (중요!)\n",
    "\n",
    "# 출력\n",
    "soup = BeautifulSoup(html, \"html.parser\") # BS4 객체로 만든다\n",
    "comments = soup.find_all(\"ul\", class_=\"list_comment\") # 이제 코멘트 파트를 모두 가져와서 볼 수 있다\n",
    "#print(comments)\n",
    "\n",
    "# (만약) 댓글만 보고 싶다면 이렇게 해 보자\n",
    "for text in soup.find_all('p',class_=\"desc_txt font_size_\"):\n",
    "    print(text.text.strip().replace(\"\\n\",\". \"))"
   ]
  }
 ],
 "metadata": {
  "colab": {
   "collapsed_sections": [],
   "provenance": []
  },
  "kernelspec": {
   "display_name": "Python 3 (ipykernel)",
   "language": "python",
   "name": "python3"
  },
  "language_info": {
   "codemirror_mode": {
    "name": "ipython",
    "version": 3
   },
   "file_extension": ".py",
   "mimetype": "text/x-python",
   "name": "python",
   "nbconvert_exporter": "python",
   "pygments_lexer": "ipython3",
   "version": "3.9.7"
  }
 },
 "nbformat": 4,
 "nbformat_minor": 4
}
