{
 "cells": [
  {
   "cell_type": "markdown",
   "metadata": {
    "id": "7oog_wGcBFry"
   },
   "source": [
    "# Assignment 2: Programming Exercise\n",
    "\n",
    "아래의 코드를 작성하여 제출하세요.\n",
    "\n",
    "[학번] [학과] [이름]"
   ]
  },
  {
   "cell_type": "markdown",
   "metadata": {
    "id": "D2EToBDyBFr2"
   },
   "source": [
    "## 1. 다음의 프로그램을 작성하시오. (`input()`함수를 사용할 것) -- 2 points\n",
    "\n",
    "> 안녕하세요. 성을 입력해 주세요:  (성 입력의 예: 홍)\n",
    ">\n",
    "> 이름을 입력해 주세요:  (이름 입력의 예: 길동)\n",
    ">\n",
    "> 홍길동님의 나이는 몇살인가요: (나이 입력의 예: 30)\n",
    ">\n",
    "> 홍길동님은 지금까지 모두 **xxxx**초를 살아왔군요.  \n",
    ">\n",
    "> 지금까지 이용해 주셔서 감사합니다. 홍길동님.\n",
    "\n",
    "(참고) 입력받은 나이는 숫자(int)가 아니라 문자열(string)임. 윤년 계산 등은 무시할 것."
   ]
  },
  {
   "cell_type": "code",
   "execution_count": 19,
   "metadata": {
    "id": "3tEXfx91BFr3"
   },
   "outputs": [
    {
     "name": "stdout",
     "output_type": "stream",
     "text": [
      "안녕하세요. 성을 입력해주세요.: 강\n",
      "이름을 입력해주세요.: 혜나\n",
      "나이는 몇살인가요.: 22\n",
      "강혜나님은 지금까지 모두 693792000초를 살아왔군요.\n",
      "지금까지 이용해 주셔서 감사합니다. 강혜나님.\n"
     ]
    }
   ],
   "source": [
    "# 아래에 코드를 작성하세요.\n",
    "family_name = input(\"안녕하세요. 성을 입력해주세요.: \")\n",
    "last_name = input(\"이름을 입력해주세요.: \")\n",
    "age = input(\"나이는 몇살인가요.: \")\n",
    "second = int(age)*365*24*60*60\n",
    "print(\"{}{}님은 지금까지 모두 {}초를 살아왔군요.\".format(family_name, last_name, second))\n",
    "print('지금까지 이용해 주셔서 감사합니다. {}{}님.'.format(family_name, last_name))\n",
    "\n",
    "\n"
   ]
  },
  {
   "cell_type": "markdown",
   "metadata": {
    "id": "KHAb9FeTBFr5"
   },
   "source": [
    "## 2. 다음을 계산하는 메소드를 만들고 계산 예를 적으시오. -- 2 points\n",
    "\n",
    "```\n",
    "> 섭씨 <-> 화씨 변환 \n",
    "> 인치 <-> 센치 변환\n",
    "```\n",
    "\n",
    "출력의 예: \n",
    "```\n",
    "> 섭씨 oo도는 화씨로 oo도 입니다.\n",
    "> oo인치는 oo센티미터 입니다.\n",
    "```\n",
    "\n",
    "(참고) round() 함수를 사용해 보자: round() 함수는 지정한 소수점에서 반올림하여 결과를 표시한다.\n",
    "```\n",
    "> round(3.954839283, 3) # 소수점 3째 자리에서 반올림\n",
    "> 3.955 \n",
    "```"
   ]
  },
  {
   "cell_type": "code",
   "execution_count": 20,
   "metadata": {
    "id": "rvoaWC4DBFr5"
   },
   "outputs": [
    {
     "name": "stdout",
     "output_type": "stream",
     "text": [
      "섭씨, 화씨 중 어떤 기준을 바꾸시겠습니까?: 화씨\n",
      "화씨 몇 도 인가요?: 23\n",
      "화씨 23도는 섭씨로 -5.0도 입니다.\n",
      "센치, 인치 중 어떤 기준을 바꾸시겠습니까?: 센치\n",
      "몇 센티미터 인가요?: 3\n",
      "3센티미터는 7.62인치 입니다.\n"
     ]
    }
   ],
   "source": [
    "# 아래에 코드를 작성하세요.\n",
    "def temperature():\n",
    "    temper = input(\"섭씨, 화씨 중 어떤 기준을 바꾸시겠습니까?: \")\n",
    "    if temper == \"화씨\":\n",
    "        f = input(\"화씨 몇 도 인가요?: \")\n",
    "        c = round((float(f)-32) * 5 / 9, 3)\n",
    "        print(\"화씨 {}도는 섭씨로 {}도 입니다.\".format(f, c))\n",
    "    elif temper == \"화씨\":\n",
    "        c = input(\"섭씨 몇 도 인가요?: \")\n",
    "        f = round(float(c) * 1.8 + 32, 3)\n",
    "        print(\"섭씨 {}도는 화씨로 {}도 입니다.\".format(c, f)) \n",
    "        \n",
    "def length():          \n",
    "    leng = input(\"센치, 인치 중 어떤 기준을 바꾸시겠습니까?: \")\n",
    "    if leng == \"센치\":\n",
    "        cm = input(\"몇 센티미터 인가요?: \")\n",
    "        i = round(float(cm) * 2.54, 3)\n",
    "        print(\"{}센티미터는 {}인치 입니다.\".format(cm, i))\n",
    "    elif leng == \"인치\":\n",
    "        i = input(\"몇 인치 인가요?: \")\n",
    "        cm = round(float(i) * 0.393701, 3)\n",
    "        print(\"{}인치는 {}센티미터 입니다.\".format(i, cm)) \n",
    "temperature()\n",
    "length()\n",
    "\n",
    "    \n",
    "\n",
    "\n"
   ]
  },
  {
   "cell_type": "markdown",
   "metadata": {
    "id": "dfDu2X5fBFr6"
   },
   "source": [
    "## 3. 시작하는 연도와 끝나는 연도를 물어보는 프로그램을 작성 하고, 그 사이에 있는 모든 윤년을 출력하시오. -- 4 points\n",
    "\n",
    "(시작하는 연도와 끝나는 연도가 윤년이면 그 해도 출력) \n",
    "\n",
    "* 윤년은 4로 나누어짐 (예: 1984, 2012)\n",
    "* 100으로 나누어지면 윤년이 아님 (예: 1800, 1900) \n",
    "* 윤년은 400으로 나누어짐 (예: 1600, 2000) \n",
    "\n",
    "```\n",
    "> Pick a starting year (like 1973 or something): 1973\n",
    "> Now pick an ending year: 1977 \n",
    "> Check it out... these years are leap years: 1976\n",
    "```\n",
    "\n",
    "(참고) 윤년 리스트: http://mwultong.blogspot.com/2005/12/18002300-leap-year-list.html\n"
   ]
  },
  {
   "cell_type": "code",
   "execution_count": 24,
   "metadata": {
    "id": "tfI3LcWcBFr7"
   },
   "outputs": [
    {
     "name": "stdout",
     "output_type": "stream",
     "text": [
      "Pick a starting year: 504\n",
      "Now pick an ending year: 508\n",
      "Check it out... these years are leap years: [504, 508]\n"
     ]
    }
   ],
   "source": [
    "# 아래에 코드를 작성하세요. \n",
    "#if문 이용. 4로 나누어지면 윤년. 100으로면 아님. 400으론 나눠짐. 이런 걸로.\n",
    "\n",
    "def leap_year():\n",
    "    \n",
    "    start = int(input('Pick a starting year: '))\n",
    "    end = int(input('Now pick an ending year: '))\n",
    "    \n",
    "    leap_list = []\n",
    "    \n",
    "    for i in range(start, end+1):\n",
    "        if i % 4 == 0:\n",
    "            if i % 400 == 0:\n",
    "                leap_list.append(i)\n",
    "            elif i % 100 != 0:\n",
    "                leap_list.append(i)\n",
    "    print(\"Check it out... these years are leap years: {}\".format(leap_list))\n",
    "            \n",
    "\n",
    "leap_year()\n",
    "\n",
    "\n",
    "\n",
    "\n"
   ]
  },
  {
   "cell_type": "markdown",
   "metadata": {
    "id": "o2UhRbEar4I1"
   },
   "source": [
    "\n",
    "\n",
    "\n",
    "\n",
    "\n",
    "\n",
    "\n",
    "\n",
    "\n",
    "\n",
    "\n",
    "\n",
    "\n",
    "\n",
    "\n",
    "\n",
    "\n",
    "\n",
    "\n",
    "\n",
    "\n",
    "\n",
    "\n",
    "\n",
    "\n",
    "\n",
    "\n",
    "\n",
    "\n",
    "\n",
    "\n",
    "\n",
    "\n",
    "\n",
    "## 4. Wordle 프로그램을 만들어 보자. -- 7 points\n",
    "\n",
    "뉴욕타임즈의 유명한 게임인 Wordle을 파이썬으로 만들어 보자. 우리가 만드는 Wordle은 다음과 같이 작동할 것이다.\n",
    "\n",
    "(참고) https://www.nytimes.com/games/wordle/index.html \n",
    "\n",
    "```\n",
    "Type your word: climb\n",
    "#1: climb\n",
    "X X X X X \n",
    "-----\n",
    "Type your word: arise\n",
    "#2: arise\n",
    "X X X X X \n",
    "-----\n",
    "Type your word: focus\n",
    "#3: focus\n",
    "O X X - X \n",
    "-----\n",
    "Type your word: funny\n",
    "#4: funny\n",
    "O O X X O \n",
    "-----\n",
    "Type your word: fuzzy\n",
    "#5: fuzzy\n",
    "O O O O O \n",
    "-----\n",
    "# fuzzy: You found the answer!\n",
    "```\n",
    "\n",
    "### 게임의 규칙\n",
    "* wordle_list로부터 랜돔하게 하나의 단어를 선택한다.\n",
    "* 사용자는 6번의 시도를 통해 랜돔하게 선택된 단어가 무엇인지 맞추어야 한다.\n",
    "* 모든 단어는 5자로 이루어져 있다.\n",
    "* 각 자리의 글자가 일치하면 O 를 표시한다.\n",
    "* 각 자리의 글자가 일치하지는 않지만 선택된 단어에 포함된 글자라면 - 를 표시한다.\n",
    "* 각 자리의 글자가 선택된 단어에 포함되지 않는다면 X 를 표시한다.\n",
    "\n",
    "### 프로그래밍 규칙\n",
    "* 단어내의 글자가 일치하는지를 파악하기 위해 함수를 작성할 것.\n",
    "* 답을 찾으면 프로그램을 종료할 것.\n",
    "\n",
    "### Extra Points\n",
    "* 5자 이상 입력하는 걸 막아보자.\n",
    "* 전체 단어리스트에 포함된 단어가 아니면 아니라고 안내.\n",
    "* 주어진 `wordle-answers-alphabetical.txt` 를 이용하여 프로그램 작성.\n",
    "\n",
    "### 참고로 할 코드\n",
    "```\n",
    "> \"word\" in [\"word\", \"food\", \"bike\"] => True\n",
    "> \"tired\" in [\"word\", \"food\", \"bike\"] => False\n",
    "> \"f\" in \"flower\" => True\n"
   ]
  },
  {
   "cell_type": "code",
   "execution_count": 17,
   "metadata": {
    "id": "jYJwmJCptB4G"
   },
   "outputs": [
    {
     "name": "stdout",
     "output_type": "stream",
     "text": [
      "Type your word: climb\n",
      "#1: climb\n",
      "X X X X X \n",
      "-----\n",
      "Type your word: arise\n",
      "#2: arise\n",
      "X X X X X \n",
      "-----\n",
      "Type your word: honet\n",
      "#3: honet\n",
      "X X X X X \n",
      "-----\n",
      "Type your word: fuzzy\n",
      "#4: fuzzy\n",
      "O O O O O \n",
      "-----\n",
      "# fuzzy: You found the answer!\n"
     ]
    }
   ],
   "source": [
    "# 아래의 코드를 완성하세요.\n",
    "#input, for문, fileread 등\n",
    "# 워드 리스트를 랜덤하게. \n",
    "\n",
    "\n",
    "import random\n",
    "\n",
    "wordle_list = [\"climb\", \"arise\", \"fuzzy\", \"honet\"]\n",
    "word_choice = random.choice(wordle_list)\n",
    "\n",
    "\n",
    "\n",
    "for i in range(6):\n",
    "    guess = input('Type your word: ')\n",
    "    try:\n",
    "        if len(guess) <= 5:\n",
    "            print(\"#{}: {}\".format(i+1, guess))\n",
    "            for i in range(guess.__len__()):        \n",
    "                 if word_choice[i] == guess[i]:\n",
    "                        print('O', end = ' ')\n",
    "                 elif guess[i] in word_choice:\n",
    "                        print('-', end = ' ')                                               \n",
    "                 else:\n",
    "                    print('X', end = ' ')\n",
    "        else:\n",
    "            raise ValueError\n",
    "    except ValueError: \n",
    "        print('It must be no more than 5 characters')\n",
    "        \n",
    "    else:\n",
    "        \n",
    "        print()    \n",
    "        print('-----')\n",
    "        if guess == word_choice:\n",
    "            print('# {}: You found the answer!'.format(guess))\n",
    "            break\n",
    "# print(word_choice)\n"
   ]
  }
 ],
 "metadata": {
  "colab": {
   "collapsed_sections": [],
   "name": "Assignment 2 - Programming Exercise.ipynb",
   "provenance": [
    {
     "file_id": "16IV-4_u8vtozcK2Sje33w9fLVe4d8pwg",
     "timestamp": 1633447374947
    }
   ]
  },
  "kernelspec": {
   "display_name": "Python 3 (ipykernel)",
   "language": "python",
   "name": "python3"
  },
  "language_info": {
   "codemirror_mode": {
    "name": "ipython",
    "version": 3
   },
   "file_extension": ".py",
   "mimetype": "text/x-python",
   "name": "python",
   "nbconvert_exporter": "python",
   "pygments_lexer": "ipython3",
   "version": "3.9.7"
  }
 },
 "nbformat": 4,
 "nbformat_minor": 1
}
