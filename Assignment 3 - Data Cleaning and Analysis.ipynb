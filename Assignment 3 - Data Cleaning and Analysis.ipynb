{
 "cells": [
  {
   "cell_type": "markdown",
   "metadata": {
    "id": "qaqNtWag4G2J",
    "pycharm": {
     "name": "#%% md\n"
    }
   },
   "source": [
    "# Assignment 3 - Data Cleaning and Analysis\n",
    "\n",
    "이번 과제에서 학생들은 주어진 데이터를 clean up 하고 분석하는 연습을 하게 될 것이다.\n",
    "\n",
    "두개의 지정된 질문에 대한 답을 하여야 하고 세개의 질문을 스스로 만들어 코드와 함께 결과를 제시한다.\n"
   ]
  },
  {
   "cell_type": "markdown",
   "metadata": {
    "id": "bWqyBETO4G2M",
    "pycharm": {
     "name": "#%% md\n"
    }
   },
   "source": [
    "### Dataset\n",
    "\n",
    "타이타닉호의 모든 승객, 승무원의 정보와 생존자, 사망자 정보는 다음의 웹사이트에 잘 정리되어있다.\n",
    "* https://hbiostat.org/data/repo/titanic.html\n",
    "\n",
    "본 과제에서 제시하는 데이터는 해당 웹사이트의 정보를 담고 있다. 다음의 데이터를 다운로드하여 분석하고 아래의 질문에 답하시오.\n",
    "* 데이터: https://hbiostat.org/data/repo/titanic3.xls\n",
    "* 데이터 변수 설명: https://hbiostat.org/data/repo/Ctitanic3.html\n"
   ]
  },
  {
   "cell_type": "markdown",
   "metadata": {
    "id": "fKbIaWOH4G2N",
    "pycharm": {
     "name": "#%% md\n"
    }
   },
   "source": [
    "### Q1: 타이타닉의 사망자, 생존자 숫자를 성별로 나누어 Bar Chart로 그려보자. (3Points)"
   ]
  },
  {
   "cell_type": "code",
   "execution_count": 2,
   "metadata": {},
   "outputs": [],
   "source": [
    "import streamlit as st\n",
    "import pandas as pd\n",
    "import numpy as np\n",
    "import matplotlib.pyplot as pl\n",
    "import seaborn as sb"
   ]
  },
  {
   "cell_type": "code",
   "execution_count": 3,
   "metadata": {
    "collapsed": true,
    "id": "J9obBmPS4G2N",
    "pycharm": {
     "name": "#%%\n"
    }
   },
   "outputs": [],
   "source": [
    "\n",
    "def load_data(filename):\n",
    "    data = pd.read_excel(filename)\n",
    "    return data\n"
   ]
  },
  {
   "cell_type": "code",
   "execution_count": 4,
   "metadata": {},
   "outputs": [],
   "source": [
    "df = load_data(\"titanic3.xls\")"
   ]
  },
  {
   "cell_type": "code",
   "execution_count": 4,
   "metadata": {},
   "outputs": [
    {
     "data": {
      "text/html": [
       "<div>\n",
       "<style scoped>\n",
       "    .dataframe tbody tr th:only-of-type {\n",
       "        vertical-align: middle;\n",
       "    }\n",
       "\n",
       "    .dataframe tbody tr th {\n",
       "        vertical-align: top;\n",
       "    }\n",
       "\n",
       "    .dataframe thead th {\n",
       "        text-align: right;\n",
       "    }\n",
       "</style>\n",
       "<table border=\"1\" class=\"dataframe\">\n",
       "  <thead>\n",
       "    <tr style=\"text-align: right;\">\n",
       "      <th></th>\n",
       "      <th>pclass</th>\n",
       "      <th>survived</th>\n",
       "      <th>name</th>\n",
       "      <th>sex</th>\n",
       "      <th>age</th>\n",
       "      <th>sibsp</th>\n",
       "      <th>parch</th>\n",
       "      <th>ticket</th>\n",
       "      <th>fare</th>\n",
       "      <th>cabin</th>\n",
       "      <th>embarked</th>\n",
       "      <th>boat</th>\n",
       "      <th>body</th>\n",
       "      <th>home.dest</th>\n",
       "    </tr>\n",
       "  </thead>\n",
       "  <tbody>\n",
       "    <tr>\n",
       "      <th>0</th>\n",
       "      <td>1</td>\n",
       "      <td>1</td>\n",
       "      <td>Allen, Miss. Elisabeth Walton</td>\n",
       "      <td>female</td>\n",
       "      <td>29.0000</td>\n",
       "      <td>0</td>\n",
       "      <td>0</td>\n",
       "      <td>24160</td>\n",
       "      <td>211.3375</td>\n",
       "      <td>B5</td>\n",
       "      <td>S</td>\n",
       "      <td>2</td>\n",
       "      <td>NaN</td>\n",
       "      <td>St Louis, MO</td>\n",
       "    </tr>\n",
       "    <tr>\n",
       "      <th>1</th>\n",
       "      <td>1</td>\n",
       "      <td>1</td>\n",
       "      <td>Allison, Master. Hudson Trevor</td>\n",
       "      <td>male</td>\n",
       "      <td>0.9167</td>\n",
       "      <td>1</td>\n",
       "      <td>2</td>\n",
       "      <td>113781</td>\n",
       "      <td>151.5500</td>\n",
       "      <td>C22 C26</td>\n",
       "      <td>S</td>\n",
       "      <td>11</td>\n",
       "      <td>NaN</td>\n",
       "      <td>Montreal, PQ / Chesterville, ON</td>\n",
       "    </tr>\n",
       "    <tr>\n",
       "      <th>2</th>\n",
       "      <td>1</td>\n",
       "      <td>0</td>\n",
       "      <td>Allison, Miss. Helen Loraine</td>\n",
       "      <td>female</td>\n",
       "      <td>2.0000</td>\n",
       "      <td>1</td>\n",
       "      <td>2</td>\n",
       "      <td>113781</td>\n",
       "      <td>151.5500</td>\n",
       "      <td>C22 C26</td>\n",
       "      <td>S</td>\n",
       "      <td>NaN</td>\n",
       "      <td>NaN</td>\n",
       "      <td>Montreal, PQ / Chesterville, ON</td>\n",
       "    </tr>\n",
       "    <tr>\n",
       "      <th>3</th>\n",
       "      <td>1</td>\n",
       "      <td>0</td>\n",
       "      <td>Allison, Mr. Hudson Joshua Creighton</td>\n",
       "      <td>male</td>\n",
       "      <td>30.0000</td>\n",
       "      <td>1</td>\n",
       "      <td>2</td>\n",
       "      <td>113781</td>\n",
       "      <td>151.5500</td>\n",
       "      <td>C22 C26</td>\n",
       "      <td>S</td>\n",
       "      <td>NaN</td>\n",
       "      <td>135.0</td>\n",
       "      <td>Montreal, PQ / Chesterville, ON</td>\n",
       "    </tr>\n",
       "    <tr>\n",
       "      <th>4</th>\n",
       "      <td>1</td>\n",
       "      <td>0</td>\n",
       "      <td>Allison, Mrs. Hudson J C (Bessie Waldo Daniels)</td>\n",
       "      <td>female</td>\n",
       "      <td>25.0000</td>\n",
       "      <td>1</td>\n",
       "      <td>2</td>\n",
       "      <td>113781</td>\n",
       "      <td>151.5500</td>\n",
       "      <td>C22 C26</td>\n",
       "      <td>S</td>\n",
       "      <td>NaN</td>\n",
       "      <td>NaN</td>\n",
       "      <td>Montreal, PQ / Chesterville, ON</td>\n",
       "    </tr>\n",
       "  </tbody>\n",
       "</table>\n",
       "</div>"
      ],
      "text/plain": [
       "   pclass  survived                                             name     sex  \\\n",
       "0       1         1                    Allen, Miss. Elisabeth Walton  female   \n",
       "1       1         1                   Allison, Master. Hudson Trevor    male   \n",
       "2       1         0                     Allison, Miss. Helen Loraine  female   \n",
       "3       1         0             Allison, Mr. Hudson Joshua Creighton    male   \n",
       "4       1         0  Allison, Mrs. Hudson J C (Bessie Waldo Daniels)  female   \n",
       "\n",
       "       age  sibsp  parch  ticket      fare    cabin embarked boat   body  \\\n",
       "0  29.0000      0      0   24160  211.3375       B5        S    2    NaN   \n",
       "1   0.9167      1      2  113781  151.5500  C22 C26        S   11    NaN   \n",
       "2   2.0000      1      2  113781  151.5500  C22 C26        S  NaN    NaN   \n",
       "3  30.0000      1      2  113781  151.5500  C22 C26        S  NaN  135.0   \n",
       "4  25.0000      1      2  113781  151.5500  C22 C26        S  NaN    NaN   \n",
       "\n",
       "                         home.dest  \n",
       "0                     St Louis, MO  \n",
       "1  Montreal, PQ / Chesterville, ON  \n",
       "2  Montreal, PQ / Chesterville, ON  \n",
       "3  Montreal, PQ / Chesterville, ON  \n",
       "4  Montreal, PQ / Chesterville, ON  "
      ]
     },
     "execution_count": 4,
     "metadata": {},
     "output_type": "execute_result"
    }
   ],
   "source": [
    "df.head()"
   ]
  },
  {
   "cell_type": "code",
   "execution_count": 5,
   "metadata": {},
   "outputs": [],
   "source": [
    "female_survived_number = 0\n",
    "female_perished_number = 0\n",
    "female_survived = (df['sex'] == 'female') & (df['survived'] == True)\n",
    "female_survived_number = female_survived.value_counts()[1] \n",
    "female_perished = (df['sex'] == 'female') & (df['survived'] == False)\n",
    "female_perished_number = female_perished.value_counts()[1] \n",
    "\n",
    "\n",
    "\n"
   ]
  },
  {
   "cell_type": "code",
   "execution_count": 6,
   "metadata": {},
   "outputs": [
    {
     "data": {
      "text/plain": [
       "682"
      ]
     },
     "execution_count": 6,
     "metadata": {},
     "output_type": "execute_result"
    }
   ],
   "source": [
    "male_survived_number = 0\n",
    "male_perished_number = 0\n",
    "male_survived = (df['sex'] == 'male') & (df['survived'] == True)\n",
    "male_survived_number = male_survived.value_counts()[1] \n",
    "male_perished = (df['sex'] == 'male') & (df['survived'] == False)\n",
    "male_perished_number = male_perished.value_counts()[1] \n",
    "male_perished_number"
   ]
  },
  {
   "cell_type": "code",
   "execution_count": 7,
   "metadata": {},
   "outputs": [
    {
     "data": {
      "image/png": "[encoded data removed]",
      "text/plain": [
       "<Figure size 640x480 with 1 Axes>"
      ]
     },
     "metadata": {},
     "output_type": "display_data"
    }
   ],
   "source": [
    "Y = [male_survived_number, male_perished_number, female_survived_number, female_perished_number]\n",
    "X = np.arange(4)\n",
    "\n",
    "xlabel = ['male_survived', 'male_perished', 'female_survived', 'female_perished']\n",
    "pl.bar(X,Y)\n",
    "pl.xticks(X, xlabel)\n",
    "pl.yticks(sorted(Y))\n",
    "pl.ylabel('number')\n",
    "\n",
    "pl.show()"
   ]
  },
  {
   "cell_type": "markdown",
   "metadata": {
    "id": "VDs1PsZJ4G2O",
    "pycharm": {
     "name": "#%% md\n"
    }
   },
   "source": [
    "### Q2: 생존자의 평균 티켓 가격과 사망자의 평균 티켓 가격을 구하고 비교하는 그래프를 그려보자. (3Points)"
   ]
  },
  {
   "cell_type": "code",
   "execution_count": 8,
   "metadata": {
    "collapsed": true,
    "id": "WQFyYYFj4G2O",
    "pycharm": {
     "name": "#%%\n"
    }
   },
   "outputs": [
    {
     "data": {
      "text/plain": [
       "49.361183600000004"
      ]
     },
     "execution_count": 8,
     "metadata": {},
     "output_type": "execute_result"
    }
   ],
   "source": [
    "people_survived = df[df['survived'] == True]\n",
    "\n",
    "people_survived\n",
    "people_survived.fare.mean()\n",
    "\n"
   ]
  },
  {
   "cell_type": "code",
   "execution_count": 9,
   "metadata": {},
   "outputs": [
    {
     "data": {
      "text/plain": [
       "23.353830569306933"
      ]
     },
     "execution_count": 9,
     "metadata": {},
     "output_type": "execute_result"
    }
   ],
   "source": [
    "people_perished = df[df['survived'] == False]\n",
    "\n",
    "people_perished\n",
    "people_perished.fare.mean()"
   ]
  },
  {
   "cell_type": "code",
   "execution_count": 10,
   "metadata": {},
   "outputs": [
    {
     "data": {
      "image/png": "[encoded data removed]",
      "text/plain": [
       "<Figure size 640x480 with 1 Axes>"
      ]
     },
     "metadata": {},
     "output_type": "display_data"
    }
   ],
   "source": [
    "Y = [people_survived.fare.mean(), people_perished.fare.mean()]\n",
    "X = np.arange(2)\n",
    "\n",
    "xlabel = ['people_survived', 'people_perished']\n",
    "pl.bar(X,Y)\n",
    "pl.xticks(X, xlabel)\n",
    "pl.yticks(sorted(Y))\n",
    "pl.ylabel('fare_mean')\n",
    "\n",
    "pl.show()"
   ]
  },
  {
   "cell_type": "code",
   "execution_count": 29,
   "metadata": {},
   "outputs": [
    {
     "data": {
      "text/html": [
       "<div>\n",
       "<style scoped>\n",
       "    .dataframe tbody tr th:only-of-type {\n",
       "        vertical-align: middle;\n",
       "    }\n",
       "\n",
       "    .dataframe tbody tr th {\n",
       "        vertical-align: top;\n",
       "    }\n",
       "\n",
       "    .dataframe thead th {\n",
       "        text-align: right;\n",
       "    }\n",
       "</style>\n",
       "<table border=\"1\" class=\"dataframe\">\n",
       "  <thead>\n",
       "    <tr style=\"text-align: right;\">\n",
       "      <th></th>\n",
       "      <th>fare_mean</th>\n",
       "    </tr>\n",
       "  </thead>\n",
       "  <tbody>\n",
       "    <tr>\n",
       "      <th>survived</th>\n",
       "      <td>49.361184</td>\n",
       "    </tr>\n",
       "    <tr>\n",
       "      <th>perished</th>\n",
       "      <td>23.353831</td>\n",
       "    </tr>\n",
       "  </tbody>\n",
       "</table>\n",
       "</div>"
      ],
      "text/plain": [
       "          fare_mean\n",
       "survived  49.361184\n",
       "perished  23.353831"
      ]
     },
     "execution_count": 29,
     "metadata": {},
     "output_type": "execute_result"
    }
   ],
   "source": [
    "df_fare = pd.DataFrame(data=np.array([people_survived.fare.mean(), people_perished.fare.mean()]), index = ['survived', 'perished'],\n",
    "columns = ['fare_mean'])\n",
    "\n",
    "df_fare"
   ]
  },
  {
   "cell_type": "markdown",
   "metadata": {
    "id": "UTcsxXg44G2O",
    "pycharm": {
     "name": "#%% md\n"
    }
   },
   "source": [
    "### Q3: 성별에 따른 생존자, 사망자 수를 카운트하여 2x2 데이터 프레임을 만들어 보자. (3Points)\n",
    "\n",
    "|          | male | female |\n",
    "|----------|------|--------|\n",
    "| Survived |      |        |\n",
    "| Perished |      |        |\n"
   ]
  },
  {
   "cell_type": "code",
   "execution_count": 11,
   "metadata": {
    "collapsed": true,
    "id": "XvpxilHm4G2P",
    "pycharm": {
     "name": "#%%\n"
    }
   },
   "outputs": [
    {
     "data": {
      "text/html": [
       "<div>\n",
       "<style scoped>\n",
       "    .dataframe tbody tr th:only-of-type {\n",
       "        vertical-align: middle;\n",
       "    }\n",
       "\n",
       "    .dataframe tbody tr th {\n",
       "        vertical-align: top;\n",
       "    }\n",
       "\n",
       "    .dataframe thead th {\n",
       "        text-align: right;\n",
       "    }\n",
       "</style>\n",
       "<table border=\"1\" class=\"dataframe\">\n",
       "  <thead>\n",
       "    <tr style=\"text-align: right;\">\n",
       "      <th></th>\n",
       "      <th>male</th>\n",
       "      <th>female</th>\n",
       "    </tr>\n",
       "  </thead>\n",
       "  <tbody>\n",
       "    <tr>\n",
       "      <th>survived</th>\n",
       "      <td>161</td>\n",
       "      <td>339</td>\n",
       "    </tr>\n",
       "    <tr>\n",
       "      <th>perished</th>\n",
       "      <td>682</td>\n",
       "      <td>127</td>\n",
       "    </tr>\n",
       "  </tbody>\n",
       "</table>\n",
       "</div>"
      ],
      "text/plain": [
       "          male  female\n",
       "survived   161     339\n",
       "perished   682     127"
      ]
     },
     "metadata": {},
     "output_type": "display_data"
    }
   ],
   "source": [
    "dframe = pd.DataFrame(data=np.array([[male_survived_number, female_survived_number], [male_perished_number,female_perished_number]]), index = ['survived', 'perished'], columns = ['male', 'female'])\n",
    "\n",
    "display(dframe)"
   ]
  },
  {
   "cell_type": "markdown",
   "metadata": {
    "id": "nH43FoTs4G2P",
    "pycharm": {
     "name": "#%% md\n"
    }
   },
   "source": [
    "### Q4: Pclass별로 나누어 사망자, 생존자 수 카운트하고 그래프를 그려보자. (3Points)"
   ]
  },
  {
   "cell_type": "code",
   "execution_count": 12,
   "metadata": {
    "collapsed": true,
    "id": "pc2J6lNw4G2Q",
    "pycharm": {
     "name": "#%%\n"
    }
   },
   "outputs": [
    {
     "name": "stdout",
     "output_type": "stream",
     "text": [
      "[1 2 3]\n",
      "<class 'pandas.core.series.Series'>\n"
     ]
    }
   ],
   "source": [
    "print(df[\"pclass\"].unique())\n",
    "print(type(df[\"pclass\"]))"
   ]
  },
  {
   "cell_type": "code",
   "execution_count": 13,
   "metadata": {},
   "outputs": [],
   "source": [
    "\n",
    "pclass_1_survived = (df['pclass'] == 1) & (df['survived'] == True)\n",
    "pclass_1_perished = (df['pclass'] == 1) & (df['survived'] == False)\n",
    "pclass_2_survived = (df['pclass'] == 2) & (df['survived'] == True)\n",
    "pclass_2_perished = (df['pclass'] == 2) & (df['survived'] == False)\n",
    "pclass_3_survived = (df['pclass'] == 3) & (df['survived'] == True)\n",
    "pclass_3_perished = (df['pclass'] == 3) & (df['survived'] == False)\n",
    "\n"
   ]
  },
  {
   "cell_type": "code",
   "execution_count": 14,
   "metadata": {},
   "outputs": [
    {
     "data": {
      "text/plain": [
       "528"
      ]
     },
     "execution_count": 14,
     "metadata": {},
     "output_type": "execute_result"
    }
   ],
   "source": [
    "pclass_1_sur_num = pclass_1_survived.value_counts()[1]\n",
    "pclass_1_per_num = pclass_1_perished.value_counts()[1]\n",
    "pclass_1_total = pclass_1_sur_num + pclass_1_per_num\n",
    "pclass_2_sur_num = pclass_2_survived.value_counts()[1]\n",
    "pclass_2_per_num = pclass_2_perished.value_counts()[1]\n",
    "pclass_2_total = pclass_2_sur_num + pclass_2_per_num\n",
    "pclass_3_sur_num = pclass_3_survived.value_counts()[1]\n",
    "pclass_3_per_num = pclass_3_perished.value_counts()[1]\n",
    "pclass_3_total = pclass_3_sur_num + pclass_3_per_num\n",
    "\n",
    "\n",
    "\n",
    "\n",
    "pclass_3_per_num\n",
    "\n"
   ]
  },
  {
   "cell_type": "code",
   "execution_count": 15,
   "metadata": {},
   "outputs": [
    {
     "data": {
      "text/html": [
       "<div>\n",
       "<style scoped>\n",
       "    .dataframe tbody tr th:only-of-type {\n",
       "        vertical-align: middle;\n",
       "    }\n",
       "\n",
       "    .dataframe tbody tr th {\n",
       "        vertical-align: top;\n",
       "    }\n",
       "\n",
       "    .dataframe thead th {\n",
       "        text-align: right;\n",
       "    }\n",
       "</style>\n",
       "<table border=\"1\" class=\"dataframe\">\n",
       "  <thead>\n",
       "    <tr style=\"text-align: right;\">\n",
       "      <th></th>\n",
       "      <th>survived</th>\n",
       "      <th>perished</th>\n",
       "      <th>total</th>\n",
       "    </tr>\n",
       "  </thead>\n",
       "  <tbody>\n",
       "    <tr>\n",
       "      <th>pclass1</th>\n",
       "      <td>200</td>\n",
       "      <td>123</td>\n",
       "      <td>323</td>\n",
       "    </tr>\n",
       "    <tr>\n",
       "      <th>pclass2</th>\n",
       "      <td>119</td>\n",
       "      <td>158</td>\n",
       "      <td>277</td>\n",
       "    </tr>\n",
       "    <tr>\n",
       "      <th>pclass3</th>\n",
       "      <td>181</td>\n",
       "      <td>528</td>\n",
       "      <td>709</td>\n",
       "    </tr>\n",
       "  </tbody>\n",
       "</table>\n",
       "</div>"
      ],
      "text/plain": [
       "         survived  perished  total\n",
       "pclass1       200       123    323\n",
       "pclass2       119       158    277\n",
       "pclass3       181       528    709"
      ]
     },
     "metadata": {},
     "output_type": "display_data"
    }
   ],
   "source": [
    "dframe = pd.DataFrame(data=np.array([[pclass_1_sur_num, pclass_1_per_num, pclass_1_total], [pclass_2_sur_num, pclass_2_per_num, pclass_2_total], [pclass_3_sur_num, pclass_3_per_num, pclass_3_total]]), index = ['pclass1', 'pclass2', 'pclass3'], columns = ['survived', 'perished', 'total'])\n",
    "\n",
    "display(dframe)"
   ]
  },
  {
   "cell_type": "code",
   "execution_count": 16,
   "metadata": {},
   "outputs": [
    {
     "data": {
      "text/plain": [
       "Text(0.5, 1.0, 'Pclass and Life rate')"
      ]
     },
     "execution_count": 16,
     "metadata": {},
     "output_type": "execute_result"
    },
    {
     "data": {
      "image/png": "[encoded data removed]",
      "text/plain": [
       "<Figure size 960x800 with 1 Axes>"
      ]
     },
     "metadata": {},
     "output_type": "display_data"
    }
   ],
   "source": [
    "from matplotlib.pyplot import figure #figure은 그래프에 대한 전반적인 세팅\n",
    "\n",
    "x = dframe.index\n",
    "y = dframe.total\n",
    "z = dframe.survived / dframe.perished\n",
    "\n",
    "figure(num=None, figsize=(12, 10), dpi=80, facecolor='w', edgecolor='k')\n",
    "\n",
    "# Change color with c and alpha. I map the color to the X axis value.\n",
    "pl.scatter(x, y, s=z*2500, alpha=0.5) #size는 z(gdp). gdp의 차이가 굉장히 많이 나서 /10. alpha는 투명도\n",
    " \n",
    "# # Add titles (main and on axis)\n",
    "\n",
    "pl.xlabel(\"Pclass\")\n",
    "pl.ylabel(\"Total number\")\n",
    "pl.title(\"Pclass and Life rate\")"
   ]
  },
  {
   "cell_type": "markdown",
   "metadata": {
    "id": "hgIPs5xk4G2Q",
    "pycharm": {
     "name": "#%% md\n"
    }
   },
   "source": [
    "### Q5: 데이터를 탐색하여 질문을 스스로 만들고 답을 제시하시오. (5Points)"
   ]
  },
  {
   "cell_type": "code",
   "execution_count": 20,
   "metadata": {
    "collapsed": true,
    "id": "-3LU3EGb4G2Q",
    "pycharm": {
     "name": "#%%\n"
    }
   },
   "outputs": [],
   "source": [
    "# sibsp, 함께 온 동반자의 수에 따라 생존률이 달라질까?\n",
    "df\n",
    "sibsp_0_sur = (df['sibsp'] == 0) & (df['survived'] == True)\n",
    "sibsp_0_per = (df['sibsp'] == 0) & (df['survived'] == False)\n",
    "sibsp_1_sur = (df['sibsp'] == 1) & (df['survived'] == True)\n",
    "sibsp_1_per = (df['sibsp'] == 1) & (df['survived'] == False)\n",
    "sibsp_more2_sur = (df['sibsp'] >= 2) & (df['survived'] == True)\n",
    "sibsp_more2_per = (df['sibsp'] >= 2) & (df['survived'] == False)\n",
    "\n",
    "sibsp_0_sur_num = sibsp_0_sur.value_counts()[1]\n",
    "sibsp_0_per_num = sibsp_0_per.value_counts()[1]\n",
    "sibsp_1_sur_num = sibsp_1_sur.value_counts()[1]\n",
    "sibsp_1_per_num = sibsp_1_per.value_counts()[1]\n",
    "sibsp_more2_sur_num = sibsp_more2_sur.value_counts()[1]\n",
    "sibsp_more2_per_num = sibsp_more2_per.value_counts()[1]\n"
   ]
  },
  {
   "cell_type": "code",
   "execution_count": 23,
   "metadata": {},
   "outputs": [
    {
     "data": {
      "text/html": [
       "<div>\n",
       "<style scoped>\n",
       "    .dataframe tbody tr th:only-of-type {\n",
       "        vertical-align: middle;\n",
       "    }\n",
       "\n",
       "    .dataframe tbody tr th {\n",
       "        vertical-align: top;\n",
       "    }\n",
       "\n",
       "    .dataframe thead th {\n",
       "        text-align: right;\n",
       "    }\n",
       "</style>\n",
       "<table border=\"1\" class=\"dataframe\">\n",
       "  <thead>\n",
       "    <tr style=\"text-align: right;\">\n",
       "      <th></th>\n",
       "      <th>survived rate</th>\n",
       "    </tr>\n",
       "  </thead>\n",
       "  <tbody>\n",
       "    <tr>\n",
       "      <th>sibsp=0</th>\n",
       "      <td>0.346801</td>\n",
       "    </tr>\n",
       "    <tr>\n",
       "      <th>sibsp=1</th>\n",
       "      <td>0.510972</td>\n",
       "    </tr>\n",
       "    <tr>\n",
       "      <th>sibsp&gt;=2</th>\n",
       "      <td>0.282828</td>\n",
       "    </tr>\n",
       "  </tbody>\n",
       "</table>\n",
       "</div>"
      ],
      "text/plain": [
       "          survived rate\n",
       "sibsp=0        0.346801\n",
       "sibsp=1        0.510972\n",
       "sibsp>=2       0.282828"
      ]
     },
     "metadata": {},
     "output_type": "display_data"
    }
   ],
   "source": [
    "daframe = pd.DataFrame(data=np.array([sibsp_0_sur_num / (sibsp_0_sur_num + sibsp_0_per_num), sibsp_1_sur_num / (sibsp_1_sur_num + sibsp_1_per_num), \n",
    "sibsp_more2_sur_num / (sibsp_more2_sur_num + sibsp_more2_per_num)]), \n",
    "index = ['sibsp=0', 'sibsp=1', 'sibsp>=2'], columns = ['survived rate'])\n",
    "\n",
    "display(daframe)"
   ]
  },
  {
   "cell_type": "code",
   "execution_count": 26,
   "metadata": {},
   "outputs": [
    {
     "data": {
      "image/png": "[encoded data removed]",
      "text/plain": [
       "<Figure size 640x480 with 1 Axes>"
      ]
     },
     "metadata": {},
     "output_type": "display_data"
    }
   ],
   "source": [
    "ax = daframe.plot.bar(rot=0)"
   ]
  },
  {
   "cell_type": "markdown",
   "metadata": {
    "id": "z6UmSgcC3y8w",
    "pycharm": {
     "name": "#%% md\n"
    }
   },
   "source": [
    "### Extra: 본 내용을 Streamlit을 이용하여 보고서를 만드시오. (Extra 3Points)\n"
   ]
  },
  {
   "cell_type": "code",
   "execution_count": null,
   "metadata": {
    "pycharm": {
     "name": "#%%\n"
    }
   },
   "outputs": [],
   "source": []
  }
 ],
 "metadata": {
  "colab": {
   "collapsed_sections": [],
   "name": "Assignment 3 - Data Cleaning and Analysis.ipynb",
   "provenance": []
  },
  "kernelspec": {
   "display_name": "Python 3.9.13 ('test')",
   "language": "python",
   "name": "python3"
  },
  "language_info": {
   "codemirror_mode": {
    "name": "ipython",
    "version": 3
   },
   "file_extension": ".py",
   "mimetype": "text/x-python",
   "name": "python",
   "nbconvert_exporter": "python",
   "pygments_lexer": "ipython3",
   "version": "3.9.13"
  },
  "vscode": {
   "interpreter": {
    "hash": "51d66f9265fa303f5a9c52f2bcb99fbe404616e00f2948aaa57eae8372c9f3b5"
   }
  }
 },
 "nbformat": 4,
 "nbformat_minor": 1
}
