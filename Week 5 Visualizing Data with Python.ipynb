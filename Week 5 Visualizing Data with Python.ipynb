{
 "cells": [
  {
   "cell_type": "markdown",
   "metadata": {
    "id": "e9p1gJU392uV",
    "pycharm": {
     "name": "#%% md\n"
    }
   },
   "source": [
    "# Week 5 Visualizing Data with Python"
   ]
  },
  {
   "cell_type": "markdown",
   "metadata": {
    "id": "HhEqGeGil1_a",
    "pycharm": {
     "name": "#%% md\n"
    }
   },
   "source": [
    "# 1.Visualizing Data with Python"
   ]
  },
  {
   "cell_type": "markdown",
   "metadata": {
    "id": "4mOWtbrml1_d",
    "pycharm": {
     "name": "#%% md\n"
    }
   },
   "source": [
    "파이썬에는 시각화를 도와주는 다양한 라이브러리가 있다. 본 강의에서는 데이터 시각화를 위해 matplotlib과 seaborn을 사용할 것이다."
   ]
  },
  {
   "cell_type": "markdown",
   "metadata": {
    "id": "fUZNWDk2l1_e",
    "pycharm": {
     "name": "#%% md\n"
    }
   },
   "source": [
    "## 1.1 Weather Data Visualization"
   ]
  },
  {
   "cell_type": "code",
   "execution_count": null,
   "metadata": {
    "id": "gx1NplHXl1_f",
    "pycharm": {
     "name": "#%%\n"
    }
   },
   "outputs": [],
   "source": [
    "import pandas as pd\n",
    "import numpy as np\n",
    "import matplotlib.pyplot as plt\n",
    "import seaborn as sb"
   ]
  },
  {
   "cell_type": "code",
   "execution_count": null,
   "metadata": {
    "id": "HpstYkFJn1bv",
    "pycharm": {
     "name": "#%%\n"
    }
   },
   "outputs": [],
   "source": [
    "from google.colab import drive\n",
    "drive.mount('/content/drive')"
   ]
  },
  {
   "cell_type": "code",
   "execution_count": null,
   "metadata": {
    "id": "M1T1BG2zl1_g",
    "pycharm": {
     "name": "#%%\n"
    }
   },
   "outputs": [],
   "source": [
    "# Load Data\n",
    "data = pd.read_csv(\"/content/drive/MyDrive/_DataJournalism_2022/Week5/weather-mod.csv\")"
   ]
  },
  {
   "cell_type": "code",
   "execution_count": null,
   "metadata": {
    "id": "j_b2tNval1_g",
    "pycharm": {
     "name": "#%%\n"
    }
   },
   "outputs": [],
   "source": [
    "data.index = data.date\n",
    "data = data.drop([\"date\"], axis=1)"
   ]
  },
  {
   "cell_type": "code",
   "execution_count": null,
   "metadata": {
    "id": "NMl0OaQCl1_h",
    "pycharm": {
     "name": "#%%\n"
    }
   },
   "outputs": [],
   "source": [
    "data.head()"
   ]
  },
  {
   "cell_type": "markdown",
   "metadata": {
    "id": "lrcAI_nGl1_i",
    "pycharm": {
     "name": "#%% md\n"
    }
   },
   "source": [
    "## 1.2 mean_temp와 mean_humidity로 그리는 scatterplot "
   ]
  },
  {
   "cell_type": "code",
   "execution_count": null,
   "metadata": {
    "id": "qb1iRZThl1_j",
    "pycharm": {
     "name": "#%%\n"
    }
   },
   "outputs": [],
   "source": [
    "fig, axe = plt.subplots()\n",
    "axe.scatter(data.mean_temp, data.mean_humidity, marker = \"o\")\n",
    "axe.set_title(\"Mean Temperature and Mean Humidity\")"
   ]
  },
  {
   "cell_type": "markdown",
   "metadata": {
    "id": "zKkta_t1l1_j",
    "pycharm": {
     "name": "#%% md\n"
    }
   },
   "source": [
    "## 1.3 cloud_cover와 mean_temp, mean_humidity는 각각 상관관계가 있을까?"
   ]
  },
  {
   "cell_type": "code",
   "execution_count": null,
   "metadata": {
    "id": "nj6mwNHzl1_k",
    "pycharm": {
     "name": "#%%\n"
    }
   },
   "outputs": [],
   "source": [
    "sb.regplot(x=data[\"cloud_cover\"], y=data[\"mean_temp\"])"
   ]
  },
  {
   "cell_type": "code",
   "execution_count": null,
   "metadata": {
    "id": "S6A5cy0jolss",
    "pycharm": {
     "name": "#%%\n"
    }
   },
   "outputs": [],
   "source": [
    "sb.regplot(x=data[\"cloud_cover\"], y=data[\"mean_humidity\"])"
   ]
  },
  {
   "cell_type": "code",
   "execution_count": null,
   "metadata": {
    "id": "SqDM5_i4l1_k",
    "pycharm": {
     "name": "#%%\n"
    }
   },
   "outputs": [],
   "source": [
    "sb.regplot(x=data[\"mean_temp\"], y=data[\"mean_humidity\"])"
   ]
  },
  {
   "cell_type": "markdown",
   "metadata": {
    "id": "v4TNCF6Jl1_l",
    "pycharm": {
     "name": "#%% md\n"
    }
   },
   "source": [
    "## 1.4 모든 변인들의 상관관계 그래프"
   ]
  },
  {
   "cell_type": "code",
   "execution_count": null,
   "metadata": {
    "id": "PsHPlMQDl1_l",
    "pycharm": {
     "name": "#%%\n"
    }
   },
   "outputs": [],
   "source": [
    "sub_data = data[['mean_temp', 'mean_dew', 'mean_humidity', 'min_humidity', \n",
    "       'mean_pressure', 'mean_visibility', 'mean_wind', 'precipitation',\n",
    "       'cloud_cover']]"
   ]
  },
  {
   "cell_type": "code",
   "execution_count": null,
   "metadata": {
    "id": "WnBt-zkDl1_l",
    "pycharm": {
     "name": "#%%\n"
    }
   },
   "outputs": [],
   "source": [
    "sb.pairplot(sub_data, kind=\"reg\")\n",
    "plt.show()"
   ]
  },
  {
   "cell_type": "code",
   "execution_count": null,
   "metadata": {
    "id": "5oUKMH9Yl1_m",
    "pycharm": {
     "name": "#%%\n"
    }
   },
   "outputs": [],
   "source": [
    "sb.pairplot(sub_data, kind=\"scatter\")\n",
    "plt.show()"
   ]
  },
  {
   "cell_type": "markdown",
   "metadata": {
    "id": "oofU1FCIl1_m",
    "pycharm": {
     "name": "#%% md\n"
    }
   },
   "source": [
    "# 2.Gapminder Data Visualization"
   ]
  },
  {
   "cell_type": "code",
   "execution_count": null,
   "metadata": {
    "id": "Uf2LqTvPl1_n",
    "pycharm": {
     "name": "#%%\n"
    }
   },
   "outputs": [],
   "source": [
    "def read_gapminder_data(filename, colname):\n",
    "    data = pd.read_csv(\"/content/drive/MyDrive/_DataJournalism_2022-Class/Week5/gapminder/{}\".format(filename), header=None)\n",
    "    data.columns = [\"country\", colname]\n",
    "    data.index = data.country\n",
    "    data = data.drop(['country'], axis=1)\n",
    "    return data"
   ]
  },
  {
   "cell_type": "code",
   "execution_count": null,
   "metadata": {
    "id": "QZqasTk_l1_n",
    "pycharm": {
     "name": "#%%\n"
    }
   },
   "outputs": [],
   "source": [
    "employment = read_gapminder_data(\"employment.csv\", \"employment\")\n",
    "life_exp = read_gapminder_data(\"life_expectancy.csv\", \"life_exp\")\n",
    "gdp = read_gapminder_data(\"gdp_per_capita.csv\", \"gdp\")"
   ]
  },
  {
   "cell_type": "code",
   "execution_count": null,
   "metadata": {
    "id": "aXXm0hZRl1_n",
    "pycharm": {
     "name": "#%%\n"
    }
   },
   "outputs": [],
   "source": [
    "frames = [employment, life_exp, gdp]\n",
    "gm_data = pd.concat(frames, axis=1)"
   ]
  },
  {
   "cell_type": "code",
   "execution_count": null,
   "metadata": {
    "id": "ycESMprFl1_o",
    "pycharm": {
     "name": "#%%\n"
    }
   },
   "outputs": [],
   "source": [
    "gm_data.head()"
   ]
  },
  {
   "cell_type": "markdown",
   "metadata": {
    "id": "-lysmPnNl1_o",
    "pycharm": {
     "name": "#%% md\n"
    }
   },
   "source": [
    "## 2.1 변인들 간의 상관관계"
   ]
  },
  {
   "cell_type": "code",
   "execution_count": null,
   "metadata": {
    "id": "YZxyXOi5l1_o",
    "pycharm": {
     "name": "#%%\n"
    }
   },
   "outputs": [],
   "source": [
    "sb.pairplot(gm_data, kind=\"reg\")\n",
    "plt.show()"
   ]
  },
  {
   "cell_type": "markdown",
   "metadata": {
    "id": "p_ZnymGIl1_o",
    "pycharm": {
     "name": "#%% md\n"
    }
   },
   "source": [
    "## 2.2 Bubble Graph\n",
    "\n",
    "Bubble Graph는 세개의 변인을 이용한 그래프.\n",
    "\n",
    "x, y 이외에 z는 점의 크기로 표현된다."
   ]
  },
  {
   "cell_type": "markdown",
   "metadata": {
    "id": "zo9KhD0QrBk-",
    "pycharm": {
     "name": "#%% md\n"
    }
   },
   "source": [
    "다음의 동영상은 Factfullness 라는 책으로 유명한 통계학자 Hans Rosling의 TED 강의입니다. 이 강의에서 Hans Rosling은 Gapminder라는 도구를 이용하여 데이터를 분석하는 사례를 보여주고 있습니다.\n",
    "\n",
    "https://www.ted.com/talks/hans_rosling_the_best_stats_you_ve_ever_seen/transcript?language=ko \n",
    "\n",
    "본 강의에서는 gapminder와 같은 시각화 결과물을 만들어 볼 예정입니다."
   ]
  },
  {
   "cell_type": "markdown",
   "metadata": {
    "id": "oUWdE3iqsWji",
    "pycharm": {
     "name": "#%% md\n"
    }
   },
   "source": [
    "gm_data는 많은 양의 데이터를 담고 있기 때문에 랜돔하게 50개 정도를 선택하여 gm_subset에 저장한다.\n",
    "\n",
    "이 그래프에서 x 축은 index 인 국가명을 표시하고, y 축은 기대수명(life_exp), 버블의 크기인 z는 gdp를 표현한다."
   ]
  },
  {
   "cell_type": "code",
   "execution_count": null,
   "metadata": {
    "id": "HbxV_nyYl1_p",
    "pycharm": {
     "name": "#%%\n"
    }
   },
   "outputs": [],
   "source": [
    "gm_subset = gm_data.sample(n=50)\n",
    "x = gm_subset.index\n",
    "y = gm_subset.life_exp\n",
    "z = gm_subset.gdp"
   ]
  },
  {
   "cell_type": "code",
   "execution_count": null,
   "metadata": {
    "id": "C87ISru_l1_p",
    "pycharm": {
     "name": "#%%\n"
    }
   },
   "outputs": [],
   "source": [
    "gm_subset"
   ]
  },
  {
   "cell_type": "code",
   "execution_count": null,
   "metadata": {
    "id": "z9qu0iyZl1_p",
    "pycharm": {
     "name": "#%%\n"
    }
   },
   "outputs": [],
   "source": [
    "from matplotlib.pyplot import figure\n",
    "\n",
    "figure(num=None, figsize=(12, 10), dpi=80, facecolor='w', edgecolor='k')\n",
    "\n",
    "# Change color with c and alpha. I map the color to the X axis value.\n",
    "plt.scatter(x, y, s=z/10, alpha=0.5)\n",
    " \n",
    "# # Add titles (main and on axis)\n",
    "plt.xticks(rotation=90)\n",
    "plt.xlabel(\"Country\")\n",
    "plt.ylabel(\"Life Expectancy\")\n",
    "plt.title(\"Gapminder - Life Expectancy and GDP\")"
   ]
  },
  {
   "cell_type": "markdown",
   "metadata": {
    "id": "TxeBY8P7l1_q",
    "pycharm": {
     "name": "#%% md\n"
    }
   },
   "source": [
    "## 2.3 gdp를 기준으로 sorting 한 그래프"
   ]
  },
  {
   "cell_type": "code",
   "execution_count": null,
   "metadata": {
    "id": "T9cy_MRTl1_q",
    "pycharm": {
     "name": "#%%\n"
    }
   },
   "outputs": [],
   "source": [
    "gm_subset_sorted = gm_subset.sort_values(['gdp'], ascending=True)\n",
    "gm_subset_sorted"
   ]
  },
  {
   "cell_type": "code",
   "execution_count": null,
   "metadata": {
    "id": "sB34rixkl1_q",
    "pycharm": {
     "name": "#%%\n"
    }
   },
   "outputs": [],
   "source": [
    "x = gm_subset_sorted.index\n",
    "y = gm_subset_sorted.life_exp\n",
    "z = gm_subset_sorted.gdp"
   ]
  },
  {
   "cell_type": "code",
   "execution_count": null,
   "metadata": {
    "id": "s2kPA4Sfl1_q",
    "pycharm": {
     "name": "#%%\n"
    }
   },
   "outputs": [],
   "source": [
    "from matplotlib.pyplot import figure\n",
    "\n",
    "figure(num=None, figsize=(12, 10), dpi=80, facecolor='w', edgecolor='k')\n",
    "\n",
    "# Change color with c and alpha. I map the color to the X axis value.\n",
    "plt.scatter(x, y, s=z/10, alpha=0.5)\n",
    " \n",
    "# Add titles (main and on axis)\n",
    "plt.xticks(rotation=90)\n",
    "plt.xlabel(\"Country\")\n",
    "plt.ylabel(\"Life Expectancy\")\n",
    "plt.title(\"Gapminder - Life Expectancy and GDP\")"
   ]
  },
  {
   "cell_type": "markdown",
   "metadata": {
    "id": "iHCz0xunl1_r",
    "pycharm": {
     "name": "#%% md\n"
    }
   },
   "source": [
    "## 2.4 Seaborn을 이용한 그래프"
   ]
  },
  {
   "cell_type": "code",
   "execution_count": null,
   "metadata": {
    "id": "tl41YClDl1_r",
    "pycharm": {
     "name": "#%%\n"
    }
   },
   "outputs": [],
   "source": [
    "# 삭제했던 \"country\" 컬럼이 다시 필요.\n",
    "gm_subset_sorted[\"country\"] = gm_subset_sorted.index\n",
    "gm_subset_sorted"
   ]
  },
  {
   "cell_type": "code",
   "execution_count": null,
   "metadata": {
    "id": "7LbzjcFLl1_r",
    "pycharm": {
     "name": "#%%\n"
    }
   },
   "outputs": [],
   "source": [
    "# Plot miles per gallon against horsepower with other semantics\n",
    "bubble = sb.relplot(x=\"country\", y=\"life_exp\", hue=\"country\", size=\"gdp\",\n",
    "            sizes=(40, 1500), alpha=.5, palette=\"muted\",\n",
    "            height=8, data=gm_subset_sorted)\n",
    "bubble.set_xticklabels(rotation=90)\n"
   ]
  }
 ],
 "metadata": {
  "colab": {
   "collapsed_sections": [],
   "provenance": [
    {
     "file_id": "1TCsJ0buk_VwaW4QBkNfu5oWv9fffXdv1",
     "timestamp": 1633523651417
    }
   ]
  },
  "kernelspec": {
   "display_name": "Python 3 (ipykernel)",
   "language": "python",
   "name": "python3"
  },
  "language_info": {
   "codemirror_mode": {
    "name": "ipython",
    "version": 3
   },
   "file_extension": ".py",
   "mimetype": "text/x-python",
   "name": "python",
   "nbconvert_exporter": "python",
   "pygments_lexer": "ipython3",
   "version": "3.9.7"
  }
 },
 "nbformat": 4,
 "nbformat_minor": 1
}
