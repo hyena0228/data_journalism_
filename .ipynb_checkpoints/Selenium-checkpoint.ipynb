{
 "cells": [
  {
   "cell_type": "markdown",
   "metadata": {
    "id": "SPXlzxqnRv5J"
   },
   "source": [
    "# 기초 패키지 로드"
   ]
  },
  {
   "cell_type": "code",
   "execution_count": 1,
   "metadata": {
    "id": "7gsgizy0RgDc"
   },
   "outputs": [],
   "source": [
    "from bs4 import BeautifulSoup\n",
    "from selenium import webdriver\n",
    "import time"
   ]
  },
  {
   "cell_type": "markdown",
   "metadata": {
    "id": "FbPvz3aeR2Tv"
   },
   "source": [
    "# 대상 URL 확보"
   ]
  },
  {
   "cell_type": "code",
   "execution_count": null,
   "metadata": {
    "colab": {
     "base_uri": "https://localhost:8080/"
    },
    "id": "wI5wKas4RyRr",
    "outputId": "ec1aa560-4d05-4506-c296-4dd76716d2dc"
   },
   "outputs": [],
   "source": [
    "url = \"http://v.media.daum.net/v/20161120134647462\"\n",
    "print(url) # 클릭하여 기사를 확인해 보자"
   ]
  },
  {
   "cell_type": "markdown",
   "metadata": {
    "id": "oeWSJThPSGOV"
   },
   "source": [
    "# 크롬 드라이버 불러오기\n",
    "\n",
    "- 원래 코드에서는 Chromedriver를 사용했지만, 사용자에 따라서 Firefox, Edge, Chrome 선택이 가능하다\n",
    "- 드라이버는 Selenium의 공식 Github페이지의 링크를 사용하면 편리하게 찾을 수 있다(https://github.com/SeleniumHQ/selenium)\n",
    "- Driver를 실행하면서, 어떤 위치에 실행 파일이 있는지 알려줘야 한다 (Path를 따로 설정하는 것을 추천)"
   ]
  },
  {
   "cell_type": "code",
   "execution_count": null,
   "metadata": {},
   "outputs": [],
   "source": [
    "path = './edgedriver_mac64_m1/msedgedriver' # 드라이버 파일이 있는 경로 설정 (사용자 환경에 따라 다름)"
   ]
  },
  {
   "cell_type": "code",
   "execution_count": null,
   "metadata": {
    "colab": {
     "base_uri": "https://localhost:8080/",
     "height": 676
    },
    "id": "N_JAKAwbTHzi",
    "outputId": "eff51987-f412-411c-b82e-f4a404df0cc5"
   },
   "outputs": [],
   "source": [
    "driver = webdriver.Edge(path) # Edge 사용한다면\n",
    "#driver = webdriver.Chrome(path) # Chrome 사용한다면\n",
    "#driver = webdriver.Firefox(path) # Firefox 사용한다면"
   ]
  },
  {
   "cell_type": "markdown",
   "metadata": {
    "id": "CRrlV0YPVBBG"
   },
   "source": [
    "- 왜 드라이버가 종료되지 않을까?\n",
    "    - 종료 버튼을 누르지 않았으므로\n",
    "    - 만약 이상태로 계속 드라이버를 실행하면 계속 새 창이 뜨기 때문에 종료를 해 주자"
   ]
  },
  {
   "cell_type": "code",
   "execution_count": null,
   "metadata": {},
   "outputs": [],
   "source": [
    "driver = webdriver.Edge(path) # 경로에 있는 드라이버 찾아서 실행\n",
    "driver.quit() # 종료"
   ]
  },
  {
   "cell_type": "markdown",
   "metadata": {
    "id": "bdL3gzBDTj-3"
   },
   "source": [
    "# 실행 환경 테스팅"
   ]
  },
  {
   "cell_type": "code",
   "execution_count": null,
   "metadata": {
    "id": "DhZwD5HoSH3f"
   },
   "outputs": [],
   "source": [
    "driver = webdriver.Edge(path) # 경로에 있는 드라이버 찾아서 실행\n",
    "\n",
    "driver.get(url) # 드라이버를 띄운 상태에서 URL에 접근\n",
    "time.sleep(3) # 전체 페이지 나올 때 까지 대기\n",
    "html = driver.page_source # 일단 펼쳐진 내용을 다 저장해 놓자\n",
    "\n",
    "driver.quit() # 종료"
   ]
  },
  {
   "cell_type": "code",
   "execution_count": null,
   "metadata": {
    "colab": {
     "base_uri": "https://localhost:8080/",
     "height": 105
    },
    "id": "CyA0t3luSV2Z",
    "outputId": "cc49259d-cf6b-4070-f323-e7e6f781051b"
   },
   "outputs": [],
   "source": [
    "soup = BeautifulSoup(html,'html.parser')\n",
    "soup.prettify()[:300] # 헤더 부분만 확인해 보자"
   ]
  },
  {
   "cell_type": "markdown",
   "metadata": {
    "id": "kESnUK8fUELm"
   },
   "source": [
    "# 동작 세부설정\n",
    "\n",
    "- 제대로 정보를 받아오는 것이 확인됐다. \n",
    "- 이제 구체적인 위치를 설정하고, 명령을 내려보자\n",
    "    - 그 전에, 객체를 선택하기 위해서 필요한 부가 함수/옵션을 불러온 후 작업을 시작하자\n",
    "    - By는 여러가지 옵션을 통해 우리가 원하는 파트를 검색하는데 사용된다\n"
   ]
  },
  {
   "cell_type": "code",
   "execution_count": null,
   "metadata": {
    "id": "7CwtF6lCVWzg"
   },
   "outputs": [],
   "source": [
    "from selenium.webdriver.common.by import By"
   ]
  },
  {
   "cell_type": "markdown",
   "metadata": {},
   "source": [
    "## 1차 테스트 - ON/OFF 클릭여부 확인"
   ]
  },
  {
   "cell_type": "code",
   "execution_count": null,
   "metadata": {
    "id": "2oGjforHT0I3"
   },
   "outputs": [],
   "source": [
    "driver = webdriver.Edge(path) # 경로에 있는 드라이버 찾아서 실행\n",
    "driver.get(url) # 드라이버를 띄운 상태에서 URL에 접근\n",
    "time.sleep(3) # 전체 페이지 나올 때 까지 대기\n",
    "\n",
    "driver.find_element(By.XPATH , '//*[@id=\"alex-area\"]/div/div/div/div[1]/button').click() # XPATH로 찾아서 -> click(!)\n",
    "time.sleep(3) # 전체 페이지 나올 때 까지 대기 (선택사항)\n",
    "\n",
    "driver.quit()"
   ]
  },
  {
   "cell_type": "markdown",
   "metadata": {},
   "source": [
    "## 2차 테스트 - 댓글 더 보기 버튼이 작동하는지 확인하기"
   ]
  },
  {
   "cell_type": "code",
   "execution_count": null,
   "metadata": {
    "id": "ERtIwsEZgti4"
   },
   "outputs": [],
   "source": [
    "# 페이지 접근, 댓글펴기\n",
    "driver = webdriver.Edge(path) # 경로에 있는 드라이버 찾아서 실행\n",
    "driver.get(url) # 드라이버를 띄운 상태에서 URL에 접근\n",
    "time.sleep(3) # 전체 페이지 나올 때 까지 대기\n",
    "driver.find_element(By.XPATH , '//*[@id=\"alex-area\"]/div/div/div/div[1]/button').click() # XPATH로 찾아서 -> click(!)\n",
    "\n",
    "# 댓글 더 보기\n",
    "found_element = True\n",
    "while found_element: # 특정 조건 내에서 드라이버는 작업을 반복한다 \n",
    "    try:\n",
    "        element = driver.find_element(By.XPATH, '//*[@id=\"alex-area\"]/div/div/div/div[4]/div[2]/button') # 그 조건은 xpath 경로에 (더보기) 버튼이 존재할 때이다\n",
    "        element.click() # 있다면 클릭하고\n",
    "        time.sleep(3) # 3초를 기다려라\n",
    "    except Exception:\n",
    "        found_element = False # 없으면 Loop는 종료된다\n",
    "\n",
    "time.sleep(3)\n",
    "driver.quit()"
   ]
  },
  {
   "cell_type": "markdown",
   "metadata": {},
   "source": [
    "## 3차 테스트 - 크롤링 데이터 저장/처리"
   ]
  },
  {
   "cell_type": "code",
   "execution_count": null,
   "metadata": {},
   "outputs": [],
   "source": [
    "# 페이지 접근, 댓글펴기\n",
    "driver = webdriver.Edge(path) # 경로에 있는 드라이버 찾아서 실행\n",
    "driver.get(url) # 드라이버를 띄운 상태에서 URL에 접근\n",
    "time.sleep(3) # 전체 페이지 나올 때 까지 대기\n",
    "driver.find_element(By.XPATH , '//*[@id=\"alex-area\"]/div/div/div/div[1]/button').click() # XPATH로 찾아서 -> click(!)\n",
    "\n",
    "# 댓글 더 보기\n",
    "found_element = True\n",
    "while found_element: # 특정 조건 내에서 드라이버는 작업을 반복한다 \n",
    "    try:\n",
    "        element = driver.find_element(By.XPATH, '//*[@id=\"alex-area\"]/div/div/div/div[4]/div[2]/button') # 그 조건은 xpath 경로에 (더보기) 버튼이 존재할 때이다\n",
    "        element.click() # 있다면 클릭하고\n",
    "        time.sleep(3) # 3초를 기다려라\n",
    "    except Exception:\n",
    "        found_element = False # 없으면 Loop는 종료된다\n",
    "\n",
    "# 데이터 저장\n",
    "html = driver.page_source # 모든 댓글이 다 표시된 상태에서 페이지를 html에 넣어주고\n",
    "driver.quit() # 드라이버를 종료한다 (중요!)\n",
    "\n",
    "# 출력\n",
    "soup = BeautifulSoup(html, \"html.parser\") # BS4 객체로 만든다\n",
    "comments = soup.find_all(\"ul\", class_=\"list_comment\") # 이제 코멘트 파트를 모두 가져와서\n",
    "\n",
    "print(comments) # 출력한다(!)"
   ]
  },
  {
   "cell_type": "markdown",
   "metadata": {},
   "source": [
    "## 4차 테스트 : 세부 설정 마무리"
   ]
  },
  {
   "cell_type": "code",
   "execution_count": null,
   "metadata": {},
   "outputs": [],
   "source": [
    "len(comments)"
   ]
  },
  {
   "cell_type": "code",
   "execution_count": null,
   "metadata": {},
   "outputs": [],
   "source": [
    "comments[0].text.split(\"댓글 작성자\")"
   ]
  },
  {
   "cell_type": "code",
   "execution_count": null,
   "metadata": {},
   "outputs": [],
   "source": [
    "for text in soup.find_all('p',class_=\"desc_txt font_size_\"):\n",
    "    print(text.text.strip())"
   ]
  },
  {
   "cell_type": "code",
   "execution_count": null,
   "metadata": {},
   "outputs": [],
   "source": [
    "for text in soup.find_all('p',class_=\"desc_txt font_size_\"):\n",
    "    print(text.text.strip().replace(\"\\n\",\". \"))"
   ]
  },
  {
   "cell_type": "markdown",
   "metadata": {},
   "source": [
    "# 코드 통합 / 최종테스트"
   ]
  },
  {
   "cell_type": "code",
   "execution_count": null,
   "metadata": {},
   "outputs": [],
   "source": [
    "# 패키지 로드\n",
    "from bs4 import BeautifulSoup\n",
    "from selenium import webdriver\n",
    "import time\n",
    "\n",
    "# 대상 설정\n",
    "url = \"http://v.media.daum.net/v/20161120134647462\"\n",
    "\n",
    "# 드라이버 세팅\n",
    "path = './edgedriver_mac64_m1/msedgedriver' # 드라이버 파일이 있는 경로 설정\n",
    "\n",
    "# 셀렉터 추가 로드\n",
    "from selenium.webdriver.common.by import By\n",
    "\n",
    "# 페이지 접근, 댓글펴기\n",
    "driver = webdriver.Edge(path) # 경로에 있는 드라이버 찾아서 실행\n",
    "driver.get(url) # 드라이버를 띄운 상태에서 URL에 접근\n",
    "time.sleep(3) # 전체 페이지 나올 때 까지 대기\n",
    "driver.find_element(By.XPATH , '//*[@id=\"alex-area\"]/div/div/div/div[1]/button').click() # XPATH로 찾아서 -> click(!)\n",
    "\n",
    "# 댓글 더 보기\n",
    "found_element = True\n",
    "while found_element: # 특정 조건 내에서 드라이버는 작업을 반복한다 \n",
    "    try:\n",
    "        element = driver.find_element(By.XPATH, '//*[@id=\"alex-area\"]/div/div/div/div[4]/div[2]/button') # 그 조건은 xpath 경로에 (더보기) 버튼이 존재할 때이다\n",
    "        element.click() # 있다면 클릭하고\n",
    "        time.sleep(3) # 3초를 기다려라\n",
    "    except Exception:\n",
    "        found_element = False # 없으면 Loop는 종료된다\n",
    "\n",
    "# 데이터 저장\n",
    "html = driver.page_source # 모든 댓글이 다 표시된 상태에서 페이지를 html에 넣어주고\n",
    "driver.quit() # 드라이버를 종료한다 (중요!)\n",
    "\n",
    "# 출력\n",
    "soup = BeautifulSoup(html, \"html.parser\") # BS4 객체로 만든다\n",
    "comments = soup.find_all(\"ul\", class_=\"list_comment\") # 이제 코멘트 파트를 모두 가져와서 볼 수 있다\n",
    "#print(comments)\n",
    "\n",
    "# (만약) 댓글만 보고 싶다면 이렇게 해 보자\n",
    "for text in soup.find_all('p',class_=\"desc_txt font_size_\"):\n",
    "    print(text.text.strip().replace(\"\\n\",\". \"))"
   ]
  }
 ],
 "metadata": {
  "colab": {
   "collapsed_sections": [],
   "provenance": []
  },
  "kernelspec": {
   "display_name": "Python 3 (ipykernel)",
   "language": "python",
   "name": "python3"
  },
  "language_info": {
   "codemirror_mode": {
    "name": "ipython",
    "version": 3
   },
   "file_extension": ".py",
   "mimetype": "text/x-python",
   "name": "python",
   "nbconvert_exporter": "python",
   "pygments_lexer": "ipython3",
   "version": "3.9.7"
  }
 },
 "nbformat": 4,
 "nbformat_minor": 4
}
