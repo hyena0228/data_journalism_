{
 "cells": [
  {
   "cell_type": "markdown",
   "metadata": {
    "id": "qaqNtWag4G2J",
    "pycharm": {
     "name": "#%% md\n"
    }
   },
   "source": [
    "# Assignment 3 - Data Cleaning and Analysis\n",
    "\n",
    "이번 과제에서 학생들은 주어진 데이터를 clean up 하고 분석하는 연습을 하게 될 것이다.\n",
    "\n",
    "두개의 지정된 질문에 대한 답을 하여야 하고 세개의 질문을 스스로 만들어 코드와 함께 결과를 제시한다.\n"
   ]
  },
  {
   "cell_type": "markdown",
   "metadata": {
    "id": "bWqyBETO4G2M",
    "pycharm": {
     "name": "#%% md\n"
    }
   },
   "source": [
    "### Dataset\n",
    "\n",
    "타이타닉호의 모든 승객, 승무원의 정보와 생존자, 사망자 정보는 다음의 웹사이트에 잘 정리되어있다.\n",
    "* https://hbiostat.org/data/repo/titanic.html\n",
    "\n",
    "본 과제에서 제시하는 데이터는 해당 웹사이트의 정보를 담고 있다. 다음의 데이터를 다운로드하여 분석하고 아래의 질문에 답하시오.\n",
    "* 데이터: https://hbiostat.org/data/repo/titanic3.xls\n",
    "* 데이터 변수 설명: https://hbiostat.org/data/repo/Ctitanic3.html\n"
   ]
  },
  {
   "cell_type": "markdown",
   "metadata": {
    "id": "fKbIaWOH4G2N",
    "pycharm": {
     "name": "#%% md\n"
    }
   },
   "source": [
    "### Q1: 타이타닉의 사망자, 생존자 숫자를 성별로 나누어 Bar Chart로 그려보자. (3Points)"
   ]
  },
  {
   "cell_type": "code",
   "execution_count": null,
   "metadata": {},
   "outputs": [],
   "source": []
  },
  {
   "cell_type": "code",
   "execution_count": null,
   "metadata": {
    "collapsed": true,
    "id": "J9obBmPS4G2N",
    "pycharm": {
     "name": "#%%\n"
    }
   },
   "outputs": [],
   "source": []
  },
  {
   "cell_type": "markdown",
   "metadata": {
    "id": "VDs1PsZJ4G2O",
    "pycharm": {
     "name": "#%% md\n"
    }
   },
   "source": [
    "### Q2: 생존자의 평균 티켓 가격과 사망자의 평균 티켓 가격을 구하고 비교하는 그래프를 그려보자. (3Points)"
   ]
  },
  {
   "cell_type": "code",
   "execution_count": null,
   "metadata": {
    "collapsed": true,
    "id": "WQFyYYFj4G2O",
    "pycharm": {
     "name": "#%%\n"
    }
   },
   "outputs": [],
   "source": []
  },
  {
   "cell_type": "markdown",
   "metadata": {
    "id": "UTcsxXg44G2O",
    "pycharm": {
     "name": "#%% md\n"
    }
   },
   "source": [
    "### Q3: 성별에 따른 생존자, 사망자 수를 카운트하여 2x2 데이터 프레임을 만들어 보자. (3Points)\n",
    "\n",
    "|          | male | female |\n",
    "|----------|------|--------|\n",
    "| Survived |      |        |\n",
    "| Perished |      |        |\n"
   ]
  },
  {
   "cell_type": "code",
   "execution_count": null,
   "metadata": {
    "collapsed": true,
    "id": "XvpxilHm4G2P",
    "pycharm": {
     "name": "#%%\n"
    }
   },
   "outputs": [],
   "source": []
  },
  {
   "cell_type": "markdown",
   "metadata": {
    "id": "nH43FoTs4G2P",
    "pycharm": {
     "name": "#%% md\n"
    }
   },
   "source": [
    "### Q4: Pclass별로 나누어 사망자, 생존자 수 카운트하고 그래프를 그려보자. (3Points)"
   ]
  },
  {
   "cell_type": "code",
   "execution_count": null,
   "metadata": {
    "collapsed": true,
    "id": "pc2J6lNw4G2Q",
    "pycharm": {
     "name": "#%%\n"
    }
   },
   "outputs": [],
   "source": []
  },
  {
   "cell_type": "markdown",
   "metadata": {
    "id": "hgIPs5xk4G2Q",
    "pycharm": {
     "name": "#%% md\n"
    }
   },
   "source": [
    "### Q5: 데이터를 탐색하여 질문을 스스로 만들고 답을 제시하시오. (5Points)"
   ]
  },
  {
   "cell_type": "code",
   "execution_count": null,
   "metadata": {
    "collapsed": true,
    "id": "-3LU3EGb4G2Q",
    "pycharm": {
     "name": "#%%\n"
    }
   },
   "outputs": [],
   "source": []
  },
  {
   "cell_type": "markdown",
   "metadata": {
    "id": "z6UmSgcC3y8w",
    "pycharm": {
     "name": "#%% md\n"
    }
   },
   "source": [
    "### Extra: 본 내용을 Streamlit을 이용하여 보고서를 만드시오. (Extra 3Points)\n"
   ]
  },
  {
   "cell_type": "code",
   "execution_count": null,
   "metadata": {
    "pycharm": {
     "name": "#%%\n"
    }
   },
   "outputs": [],
   "source": []
  }
 ],
 "metadata": {
  "colab": {
   "collapsed_sections": [],
   "name": "Assignment 3 - Data Cleaning and Analysis.ipynb",
   "provenance": []
  },
  "kernelspec": {
   "display_name": "Python 3 (ipykernel)",
   "language": "python",
   "name": "python3"
  },
  "language_info": {
   "codemirror_mode": {
    "name": "ipython",
    "version": 3
   },
   "file_extension": ".py",
   "mimetype": "text/x-python",
   "name": "python",
   "nbconvert_exporter": "python",
   "pygments_lexer": "ipython3",
   "version": "3.9.7"
  }
 },
 "nbformat": 4,
 "nbformat_minor": 1
}
